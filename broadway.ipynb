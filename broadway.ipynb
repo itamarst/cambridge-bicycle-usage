{
 "cells": [
  {
   "cell_type": "code",
   "execution_count": 1,
   "id": "55daa032-e7b7-4c5a-9a16-d899a82b6e07",
   "metadata": {
    "tags": []
   },
   "outputs": [],
   "source": [
    "import polars as pl\n",
    "import altair as alt\n",
    "from datetime import datetime"
   ]
  },
  {
   "cell_type": "code",
   "execution_count": 24,
   "id": "08b1054b-bfcc-45ac-b320-01730fb3c8dd",
   "metadata": {
    "tags": []
   },
   "outputs": [
    {
     "data": {
      "text/html": [
       "<div><style>\n",
       ".dataframe > thead > tr > th,\n",
       ".dataframe > tbody > tr > td {\n",
       "  text-align: right;\n",
       "}\n",
       "</style>\n",
       "<small>shape: (260910, 7)</small><table border=\"1\" class=\"dataframe\"><thead><tr><th>DateTime</th><th>Day</th><th>Date</th><th>Time</th><th>Total</th><th>Westbound</th><th>Eastbound</th></tr><tr><td>str</td><td>cat</td><td>date</td><td>time</td><td>i64</td><td>i64</td><td>i64</td></tr></thead><tbody><tr><td>&quot;07/01/2015 12:…</td><td>&quot;Wednesday&quot;</td><td>2015-07-01</td><td>00:00:00</td><td>6</td><td>3</td><td>3</td></tr><tr><td>&quot;07/01/2015 12:…</td><td>&quot;Wednesday&quot;</td><td>2015-07-01</td><td>00:15:00</td><td>2</td><td>1</td><td>1</td></tr><tr><td>&quot;07/01/2015 12:…</td><td>&quot;Wednesday&quot;</td><td>2015-07-01</td><td>00:30:00</td><td>2</td><td>2</td><td>0</td></tr><tr><td>&quot;07/01/2015 12:…</td><td>&quot;Wednesday&quot;</td><td>2015-07-01</td><td>00:45:00</td><td>1</td><td>1</td><td>0</td></tr><tr><td>&quot;07/01/2015 01:…</td><td>&quot;Wednesday&quot;</td><td>2015-07-01</td><td>01:00:00</td><td>1</td><td>1</td><td>0</td></tr><tr><td>&quot;07/01/2015 01:…</td><td>&quot;Wednesday&quot;</td><td>2015-07-01</td><td>01:15:00</td><td>2</td><td>1</td><td>1</td></tr><tr><td>&quot;07/01/2015 01:…</td><td>&quot;Wednesday&quot;</td><td>2015-07-01</td><td>01:30:00</td><td>1</td><td>1</td><td>0</td></tr><tr><td>&quot;07/01/2015 01:…</td><td>&quot;Wednesday&quot;</td><td>2015-07-01</td><td>01:45:00</td><td>1</td><td>0</td><td>1</td></tr><tr><td>&quot;07/01/2015 02:…</td><td>&quot;Wednesday&quot;</td><td>2015-07-01</td><td>02:00:00</td><td>0</td><td>0</td><td>0</td></tr><tr><td>&quot;07/01/2015 02:…</td><td>&quot;Wednesday&quot;</td><td>2015-07-01</td><td>02:15:00</td><td>1</td><td>1</td><td>0</td></tr><tr><td>&quot;07/01/2015 02:…</td><td>&quot;Wednesday&quot;</td><td>2015-07-01</td><td>02:30:00</td><td>0</td><td>0</td><td>0</td></tr><tr><td>&quot;07/01/2015 02:…</td><td>&quot;Wednesday&quot;</td><td>2015-07-01</td><td>02:45:00</td><td>0</td><td>0</td><td>0</td></tr><tr><td>&hellip;</td><td>&hellip;</td><td>&hellip;</td><td>&hellip;</td><td>&hellip;</td><td>&hellip;</td><td>&hellip;</td></tr><tr><td>&quot;02/28/2023 09:…</td><td>&quot;Tuesday&quot;</td><td>2023-02-28</td><td>21:00:00</td><td>2</td><td>2</td><td>0</td></tr><tr><td>&quot;02/28/2023 09:…</td><td>&quot;Tuesday&quot;</td><td>2023-02-28</td><td>21:15:00</td><td>2</td><td>2</td><td>0</td></tr><tr><td>&quot;02/28/2023 09:…</td><td>&quot;Tuesday&quot;</td><td>2023-02-28</td><td>21:30:00</td><td>3</td><td>2</td><td>1</td></tr><tr><td>&quot;02/28/2023 09:…</td><td>&quot;Tuesday&quot;</td><td>2023-02-28</td><td>21:45:00</td><td>0</td><td>0</td><td>0</td></tr><tr><td>&quot;02/28/2023 10:…</td><td>&quot;Tuesday&quot;</td><td>2023-02-28</td><td>22:00:00</td><td>0</td><td>0</td><td>0</td></tr><tr><td>&quot;02/28/2023 10:…</td><td>&quot;Tuesday&quot;</td><td>2023-02-28</td><td>22:15:00</td><td>3</td><td>3</td><td>0</td></tr><tr><td>&quot;02/28/2023 10:…</td><td>&quot;Tuesday&quot;</td><td>2023-02-28</td><td>22:30:00</td><td>0</td><td>0</td><td>0</td></tr><tr><td>&quot;02/28/2023 10:…</td><td>&quot;Tuesday&quot;</td><td>2023-02-28</td><td>22:45:00</td><td>4</td><td>3</td><td>1</td></tr><tr><td>&quot;02/28/2023 11:…</td><td>&quot;Tuesday&quot;</td><td>2023-02-28</td><td>23:00:00</td><td>4</td><td>2</td><td>2</td></tr><tr><td>&quot;02/28/2023 11:…</td><td>&quot;Tuesday&quot;</td><td>2023-02-28</td><td>23:15:00</td><td>1</td><td>1</td><td>0</td></tr><tr><td>&quot;02/28/2023 11:…</td><td>&quot;Tuesday&quot;</td><td>2023-02-28</td><td>23:30:00</td><td>1</td><td>1</td><td>0</td></tr><tr><td>&quot;02/28/2023 11:…</td><td>&quot;Tuesday&quot;</td><td>2023-02-28</td><td>23:45:00</td><td>1</td><td>1</td><td>0</td></tr></tbody></table></div>"
      ],
      "text/plain": [
       "shape: (260910, 7)\n",
       "┌────────────────────────┬───────────┬────────────┬──────────┬───────┬───────────┬───────────┐\n",
       "│ DateTime               ┆ Day       ┆ Date       ┆ Time     ┆ Total ┆ Westbound ┆ Eastbound │\n",
       "│ ---                    ┆ ---       ┆ ---        ┆ ---      ┆ ---   ┆ ---       ┆ ---       │\n",
       "│ str                    ┆ cat       ┆ date       ┆ time     ┆ i64   ┆ i64       ┆ i64       │\n",
       "╞════════════════════════╪═══════════╪════════════╪══════════╪═══════╪═══════════╪═══════════╡\n",
       "│ 07/01/2015 12:00:00 AM ┆ Wednesday ┆ 2015-07-01 ┆ 00:00:00 ┆ 6     ┆ 3         ┆ 3         │\n",
       "│ 07/01/2015 12:15:00 AM ┆ Wednesday ┆ 2015-07-01 ┆ 00:15:00 ┆ 2     ┆ 1         ┆ 1         │\n",
       "│ 07/01/2015 12:30:00 AM ┆ Wednesday ┆ 2015-07-01 ┆ 00:30:00 ┆ 2     ┆ 2         ┆ 0         │\n",
       "│ 07/01/2015 12:45:00 AM ┆ Wednesday ┆ 2015-07-01 ┆ 00:45:00 ┆ 1     ┆ 1         ┆ 0         │\n",
       "│ …                      ┆ …         ┆ …          ┆ …        ┆ …     ┆ …         ┆ …         │\n",
       "│ 02/28/2023 11:00:00 PM ┆ Tuesday   ┆ 2023-02-28 ┆ 23:00:00 ┆ 4     ┆ 2         ┆ 2         │\n",
       "│ 02/28/2023 11:15:00 PM ┆ Tuesday   ┆ 2023-02-28 ┆ 23:15:00 ┆ 1     ┆ 1         ┆ 0         │\n",
       "│ 02/28/2023 11:30:00 PM ┆ Tuesday   ┆ 2023-02-28 ┆ 23:30:00 ┆ 1     ┆ 1         ┆ 0         │\n",
       "│ 02/28/2023 11:45:00 PM ┆ Tuesday   ┆ 2023-02-28 ┆ 23:45:00 ┆ 1     ┆ 1         ┆ 0         │\n",
       "└────────────────────────┴───────────┴────────────┴──────────┴───────┴───────────┴───────────┘"
      ]
     },
     "execution_count": 24,
     "metadata": {},
     "output_type": "execute_result"
    }
   ],
   "source": [
    "# Load data, turn Date into actual date, sort by date\n",
    "broadway = pl.read_csv(\"data/broadway.csv.gz\", dtypes={\"Day\": pl.Categorical}, try_parse_dates=True).with_columns(pl.col(\"Date\").str.strptime(pl.Date, fmt=\"%m/%d/%Y\")).sort(\"Date\")\n",
    "# Filter out partial months\n",
    "broadway = broadway.filter((pl.col(\"Date\") >= datetime(2015, 7, 1)) & (pl.col(\"Date\") < datetime(2023, 3, 1)))\n",
    "broadway"
   ]
  },
  {
   "cell_type": "code",
   "execution_count": 25,
   "id": "bdf5ad8f-5c9f-47ea-86e9-73ed1d108258",
   "metadata": {
    "tags": []
   },
   "outputs": [
    {
     "data": {
      "text/html": [
       "<div><style>\n",
       ".dataframe > thead > tr > th,\n",
       ".dataframe > tbody > tr > td {\n",
       "  text-align: right;\n",
       "}\n",
       "</style>\n",
       "<small>shape: (1, 3)</small><table border=\"1\" class=\"dataframe\"><thead><tr><th>Total</th><th>Westbound</th><th>Eastbound</th></tr><tr><td>i64</td><td>i64</td><td>i64</td></tr></thead><tbody><tr><td>45803</td><td>19895</td><td>25908</td></tr></tbody></table></div>"
      ],
      "text/plain": [
       "shape: (1, 3)\n",
       "┌───────┬───────────┬───────────┐\n",
       "│ Total ┆ Westbound ┆ Eastbound │\n",
       "│ ---   ┆ ---       ┆ ---       │\n",
       "│ i64   ┆ i64       ┆ i64       │\n",
       "╞═══════╪═══════════╪═══════════╡\n",
       "│ 45803 ┆ 19895     ┆ 25908     │\n",
       "└───────┴───────────┴───────────┘"
      ]
     },
     "execution_count": 25,
     "metadata": {},
     "output_type": "execute_result"
    }
   ],
   "source": [
    "broadway.filter((pl.col(\"Date\").dt.month() == 6) & (pl.col(\"Date\").dt.year() == 2016)).select([pl.col(\"Total\").sum(), pl.col(\"Westbound\").sum(), pl.col(\"Eastbound\").sum()])"
   ]
  },
  {
   "cell_type": "code",
   "execution_count": 11,
   "id": "63718c3b-c3df-468f-b396-d790a5d88492",
   "metadata": {
    "tags": []
   },
   "outputs": [
    {
     "data": {
      "text/html": [
       "<div><style>\n",
       ".dataframe > thead > tr > th,\n",
       ".dataframe > tbody > tr > td {\n",
       "  text-align: right;\n",
       "}\n",
       "</style>\n",
       "<small>shape: (92, 2)</small><table border=\"1\" class=\"dataframe\"><thead><tr><th>Date</th><th>Total</th></tr><tr><td>date</td><td>i64</td></tr></thead><tbody><tr><td>2015-07-01</td><td>48851</td></tr><tr><td>2015-08-01</td><td>47162</td></tr><tr><td>2015-09-01</td><td>50185</td></tr><tr><td>2015-10-01</td><td>43826</td></tr><tr><td>2015-11-01</td><td>35944</td></tr><tr><td>2015-12-01</td><td>25203</td></tr><tr><td>2016-01-01</td><td>17526</td></tr><tr><td>2016-02-01</td><td>18331</td></tr><tr><td>2016-03-01</td><td>27342</td></tr><tr><td>2016-04-01</td><td>32399</td></tr><tr><td>2016-05-01</td><td>40998</td></tr><tr><td>2016-06-01</td><td>45803</td></tr><tr><td>&hellip;</td><td>&hellip;</td></tr><tr><td>2022-03-01</td><td>20008</td></tr><tr><td>2022-04-01</td><td>26446</td></tr><tr><td>2022-05-01</td><td>32270</td></tr><tr><td>2022-06-01</td><td>34844</td></tr><tr><td>2022-07-01</td><td>36094</td></tr><tr><td>2022-08-01</td><td>39051</td></tr><tr><td>2022-09-01</td><td>38685</td></tr><tr><td>2022-10-01</td><td>33282</td></tr><tr><td>2022-11-01</td><td>26162</td></tr><tr><td>2022-12-01</td><td>16878</td></tr><tr><td>2023-01-01</td><td>15609</td></tr><tr><td>2023-02-01</td><td>15688</td></tr></tbody></table></div>"
      ],
      "text/plain": [
       "shape: (92, 2)\n",
       "┌────────────┬───────┐\n",
       "│ Date       ┆ Total │\n",
       "│ ---        ┆ ---   │\n",
       "│ date       ┆ i64   │\n",
       "╞════════════╪═══════╡\n",
       "│ 2015-07-01 ┆ 48851 │\n",
       "│ 2015-08-01 ┆ 47162 │\n",
       "│ 2015-09-01 ┆ 50185 │\n",
       "│ 2015-10-01 ┆ 43826 │\n",
       "│ …          ┆ …     │\n",
       "│ 2022-11-01 ┆ 26162 │\n",
       "│ 2022-12-01 ┆ 16878 │\n",
       "│ 2023-01-01 ┆ 15609 │\n",
       "│ 2023-02-01 ┆ 15688 │\n",
       "└────────────┴───────┘"
      ]
     },
     "execution_count": 11,
     "metadata": {},
     "output_type": "execute_result"
    }
   ],
   "source": [
    "def by_month(df):\n",
    "    return df.groupby_dynamic(\"Date\", every=\"1mo\").agg(pl.col(\"Total\").sum())\n",
    "\n",
    "monthly = by_month(broadway)\n",
    "monthly"
   ]
  },
  {
   "cell_type": "code",
   "execution_count": 17,
   "id": "5b510082-2249-4236-a384-8a8afe35f41c",
   "metadata": {
    "tags": []
   },
   "outputs": [
    {
     "data": {
      "text/html": [
       "\n",
       "<div id=\"altair-viz-559d3d7459244a5ea9b09a83f84eff66\"></div>\n",
       "<script type=\"text/javascript\">\n",
       "  var VEGA_DEBUG = (typeof VEGA_DEBUG == \"undefined\") ? {} : VEGA_DEBUG;\n",
       "  (function(spec, embedOpt){\n",
       "    let outputDiv = document.currentScript.previousElementSibling;\n",
       "    if (outputDiv.id !== \"altair-viz-559d3d7459244a5ea9b09a83f84eff66\") {\n",
       "      outputDiv = document.getElementById(\"altair-viz-559d3d7459244a5ea9b09a83f84eff66\");\n",
       "    }\n",
       "    const paths = {\n",
       "      \"vega\": \"https://cdn.jsdelivr.net/npm/vega@5?noext\",\n",
       "      \"vega-lib\": \"https://cdn.jsdelivr.net/npm/vega-lib?noext\",\n",
       "      \"vega-lite\": \"https://cdn.jsdelivr.net/npm/vega-lite@5.6.1?noext\",\n",
       "      \"vega-embed\": \"https://cdn.jsdelivr.net/npm/vega-embed@6?noext\",\n",
       "    };\n",
       "\n",
       "    function maybeLoadScript(lib, version) {\n",
       "      var key = `${lib.replace(\"-\", \"\")}_version`;\n",
       "      return (VEGA_DEBUG[key] == version) ?\n",
       "        Promise.resolve(paths[lib]) :\n",
       "        new Promise(function(resolve, reject) {\n",
       "          var s = document.createElement('script');\n",
       "          document.getElementsByTagName(\"head\")[0].appendChild(s);\n",
       "          s.async = true;\n",
       "          s.onload = () => {\n",
       "            VEGA_DEBUG[key] = version;\n",
       "            return resolve(paths[lib]);\n",
       "          };\n",
       "          s.onerror = () => reject(`Error loading script: ${paths[lib]}`);\n",
       "          s.src = paths[lib];\n",
       "        });\n",
       "    }\n",
       "\n",
       "    function showError(err) {\n",
       "      outputDiv.innerHTML = `<div class=\"error\" style=\"color:red;\">${err}</div>`;\n",
       "      throw err;\n",
       "    }\n",
       "\n",
       "    function displayChart(vegaEmbed) {\n",
       "      vegaEmbed(outputDiv, spec, embedOpt)\n",
       "        .catch(err => showError(`Javascript Error: ${err.message}<br>This usually means there's a typo in your chart specification. See the javascript console for the full traceback.`));\n",
       "    }\n",
       "\n",
       "    if(typeof define === \"function\" && define.amd) {\n",
       "      requirejs.config({paths});\n",
       "      require([\"vega-embed\"], displayChart, err => showError(`Error loading script: ${err.message}`));\n",
       "    } else {\n",
       "      maybeLoadScript(\"vega\", \"5\")\n",
       "        .then(() => maybeLoadScript(\"vega-lite\", \"5.6.1\"))\n",
       "        .then(() => maybeLoadScript(\"vega-embed\", \"6\"))\n",
       "        .catch(showError)\n",
       "        .then(() => displayChart(vegaEmbed));\n",
       "    }\n",
       "  })({\"config\": {\"view\": {\"continuousWidth\": 300, \"continuousHeight\": 300}}, \"data\": {\"name\": \"data-bd95510001228bd307cc20fc727de8a4\"}, \"mark\": {\"type\": \"line\"}, \"encoding\": {\"x\": {\"field\": \"Date\", \"type\": \"temporal\"}, \"y\": {\"field\": \"Total\", \"type\": \"quantitative\"}}, \"title\": \"Monthly Broadway bike volume, all days of week\", \"$schema\": \"https://vega.github.io/schema/vega-lite/v5.6.1.json\", \"datasets\": {\"data-bd95510001228bd307cc20fc727de8a4\": [{\"Date\": \"2015-07-01T00:00:00\", \"Total\": 48851}, {\"Date\": \"2015-08-01T00:00:00\", \"Total\": 47162}, {\"Date\": \"2015-09-01T00:00:00\", \"Total\": 50185}, {\"Date\": \"2015-10-01T00:00:00\", \"Total\": 43826}, {\"Date\": \"2015-11-01T00:00:00\", \"Total\": 35944}, {\"Date\": \"2015-12-01T00:00:00\", \"Total\": 25203}, {\"Date\": \"2016-01-01T00:00:00\", \"Total\": 17526}, {\"Date\": \"2016-02-01T00:00:00\", \"Total\": 18331}, {\"Date\": \"2016-03-01T00:00:00\", \"Total\": 27342}, {\"Date\": \"2016-04-01T00:00:00\", \"Total\": 32399}, {\"Date\": \"2016-05-01T00:00:00\", \"Total\": 40998}, {\"Date\": \"2016-06-01T00:00:00\", \"Total\": 45803}, {\"Date\": \"2016-07-01T00:00:00\", \"Total\": 39866}, {\"Date\": \"2016-08-01T00:00:00\", \"Total\": 42564}, {\"Date\": \"2016-09-01T00:00:00\", \"Total\": 38970}, {\"Date\": \"2016-10-01T00:00:00\", \"Total\": 35153}, {\"Date\": \"2016-11-01T00:00:00\", \"Total\": 27795}, {\"Date\": \"2016-12-01T00:00:00\", \"Total\": 17097}, {\"Date\": \"2017-01-01T00:00:00\", \"Total\": 17450}, {\"Date\": \"2017-02-01T00:00:00\", \"Total\": 14879}, {\"Date\": \"2017-03-01T00:00:00\", \"Total\": 17991}, {\"Date\": \"2017-04-01T00:00:00\", \"Total\": 27235}, {\"Date\": \"2017-05-01T00:00:00\", \"Total\": 32155}, {\"Date\": \"2017-06-01T00:00:00\", \"Total\": 38045}, {\"Date\": \"2017-07-01T00:00:00\", \"Total\": 34882}, {\"Date\": \"2017-08-01T00:00:00\", \"Total\": 36937}, {\"Date\": \"2017-09-01T00:00:00\", \"Total\": 32395}, {\"Date\": \"2017-10-01T00:00:00\", \"Total\": 38701}, {\"Date\": \"2017-11-01T00:00:00\", \"Total\": 28781}, {\"Date\": \"2017-12-01T00:00:00\", \"Total\": 17468}, {\"Date\": \"2018-01-01T00:00:00\", \"Total\": 11837}, {\"Date\": \"2018-02-01T00:00:00\", \"Total\": 17859}, {\"Date\": \"2018-03-01T00:00:00\", \"Total\": 14397}, {\"Date\": \"2018-04-01T00:00:00\", \"Total\": 17854}, {\"Date\": \"2018-05-01T00:00:00\", \"Total\": 36114}, {\"Date\": \"2018-06-01T00:00:00\", \"Total\": 41915}, {\"Date\": \"2018-07-01T00:00:00\", \"Total\": 46607}, {\"Date\": \"2018-08-01T00:00:00\", \"Total\": 45667}, {\"Date\": \"2018-09-01T00:00:00\", \"Total\": 26299}, {\"Date\": \"2018-10-01T00:00:00\", \"Total\": 11290}, {\"Date\": \"2018-11-01T00:00:00\", \"Total\": 24838}, {\"Date\": \"2018-12-01T00:00:00\", \"Total\": 20434}, {\"Date\": \"2019-01-01T00:00:00\", \"Total\": 18537}, {\"Date\": \"2019-02-01T00:00:00\", \"Total\": 17702}, {\"Date\": \"2019-03-01T00:00:00\", \"Total\": 24052}, {\"Date\": \"2019-04-01T00:00:00\", \"Total\": 34083}, {\"Date\": \"2019-05-01T00:00:00\", \"Total\": 41372}, {\"Date\": \"2019-06-01T00:00:00\", \"Total\": 46000}, {\"Date\": \"2019-07-01T00:00:00\", \"Total\": 51472}, {\"Date\": \"2019-08-01T00:00:00\", \"Total\": 53453}, {\"Date\": \"2019-09-01T00:00:00\", \"Total\": 53926}, {\"Date\": \"2019-10-01T00:00:00\", \"Total\": 44339}, {\"Date\": \"2019-11-01T00:00:00\", \"Total\": 27558}, {\"Date\": \"2019-12-01T00:00:00\", \"Total\": 15917}, {\"Date\": \"2020-01-01T00:00:00\", \"Total\": 16740}, {\"Date\": \"2020-02-01T00:00:00\", \"Total\": 23745}, {\"Date\": \"2020-03-01T00:00:00\", \"Total\": 21382}, {\"Date\": \"2020-04-01T00:00:00\", \"Total\": 9100}, {\"Date\": \"2020-05-01T00:00:00\", \"Total\": 16911}, {\"Date\": \"2020-06-01T00:00:00\", \"Total\": 24822}, {\"Date\": \"2020-07-01T00:00:00\", \"Total\": 29704}, {\"Date\": \"2020-08-01T00:00:00\", \"Total\": 32744}, {\"Date\": \"2020-09-01T00:00:00\", \"Total\": 35155}, {\"Date\": \"2020-10-01T00:00:00\", \"Total\": 28207}, {\"Date\": \"2020-11-01T00:00:00\", \"Total\": 20948}, {\"Date\": \"2020-12-01T00:00:00\", \"Total\": 11838}, {\"Date\": \"2021-01-01T00:00:00\", \"Total\": 11409}, {\"Date\": \"2021-02-01T00:00:00\", \"Total\": 8171}, {\"Date\": \"2021-03-01T00:00:00\", \"Total\": 18114}, {\"Date\": \"2021-04-01T00:00:00\", \"Total\": 21308}, {\"Date\": \"2021-05-01T00:00:00\", \"Total\": 27481}, {\"Date\": \"2021-06-01T00:00:00\", \"Total\": 32505}, {\"Date\": \"2021-07-01T00:00:00\", \"Total\": 29971}, {\"Date\": \"2021-08-01T00:00:00\", \"Total\": 33000}, {\"Date\": \"2021-09-01T00:00:00\", \"Total\": 35447}, {\"Date\": \"2021-10-01T00:00:00\", \"Total\": 32970}, {\"Date\": \"2021-11-01T00:00:00\", \"Total\": 25168}, {\"Date\": \"2021-12-01T00:00:00\", \"Total\": 16545}, {\"Date\": \"2022-01-01T00:00:00\", \"Total\": 10047}, {\"Date\": \"2022-02-01T00:00:00\", \"Total\": 10763}, {\"Date\": \"2022-03-01T00:00:00\", \"Total\": 20008}, {\"Date\": \"2022-04-01T00:00:00\", \"Total\": 26446}, {\"Date\": \"2022-05-01T00:00:00\", \"Total\": 32270}, {\"Date\": \"2022-06-01T00:00:00\", \"Total\": 34844}, {\"Date\": \"2022-07-01T00:00:00\", \"Total\": 36094}, {\"Date\": \"2022-08-01T00:00:00\", \"Total\": 39051}, {\"Date\": \"2022-09-01T00:00:00\", \"Total\": 38685}, {\"Date\": \"2022-10-01T00:00:00\", \"Total\": 33282}, {\"Date\": \"2022-11-01T00:00:00\", \"Total\": 26162}, {\"Date\": \"2022-12-01T00:00:00\", \"Total\": 16878}, {\"Date\": \"2023-01-01T00:00:00\", \"Total\": 15609}, {\"Date\": \"2023-02-01T00:00:00\", \"Total\": 15688}]}}, {\"mode\": \"vega-lite\"});\n",
       "</script>"
      ],
      "text/plain": [
       "alt.Chart(...)"
      ]
     },
     "execution_count": 17,
     "metadata": {},
     "output_type": "execute_result"
    }
   ],
   "source": [
    "def linechart(df, title):\n",
    "    return alt.Chart(df.to_pandas()).mark_line().encode(x=\"Date:T\", y=\"Total:Q\").properties(title=title)\n",
    "    \n",
    "linechart(monthly, 'Monthly Broadway bike volume, all days of week')"
   ]
  },
  {
   "cell_type": "code",
   "execution_count": 18,
   "id": "25eb2728-6ad0-4063-9bb5-3ca31cb22154",
   "metadata": {
    "tags": []
   },
   "outputs": [
    {
     "data": {
      "text/html": [
       "\n",
       "<div id=\"altair-viz-aab14cd331aa4919979a9b806a8b5d21\"></div>\n",
       "<script type=\"text/javascript\">\n",
       "  var VEGA_DEBUG = (typeof VEGA_DEBUG == \"undefined\") ? {} : VEGA_DEBUG;\n",
       "  (function(spec, embedOpt){\n",
       "    let outputDiv = document.currentScript.previousElementSibling;\n",
       "    if (outputDiv.id !== \"altair-viz-aab14cd331aa4919979a9b806a8b5d21\") {\n",
       "      outputDiv = document.getElementById(\"altair-viz-aab14cd331aa4919979a9b806a8b5d21\");\n",
       "    }\n",
       "    const paths = {\n",
       "      \"vega\": \"https://cdn.jsdelivr.net/npm/vega@5?noext\",\n",
       "      \"vega-lib\": \"https://cdn.jsdelivr.net/npm/vega-lib?noext\",\n",
       "      \"vega-lite\": \"https://cdn.jsdelivr.net/npm/vega-lite@5.6.1?noext\",\n",
       "      \"vega-embed\": \"https://cdn.jsdelivr.net/npm/vega-embed@6?noext\",\n",
       "    };\n",
       "\n",
       "    function maybeLoadScript(lib, version) {\n",
       "      var key = `${lib.replace(\"-\", \"\")}_version`;\n",
       "      return (VEGA_DEBUG[key] == version) ?\n",
       "        Promise.resolve(paths[lib]) :\n",
       "        new Promise(function(resolve, reject) {\n",
       "          var s = document.createElement('script');\n",
       "          document.getElementsByTagName(\"head\")[0].appendChild(s);\n",
       "          s.async = true;\n",
       "          s.onload = () => {\n",
       "            VEGA_DEBUG[key] = version;\n",
       "            return resolve(paths[lib]);\n",
       "          };\n",
       "          s.onerror = () => reject(`Error loading script: ${paths[lib]}`);\n",
       "          s.src = paths[lib];\n",
       "        });\n",
       "    }\n",
       "\n",
       "    function showError(err) {\n",
       "      outputDiv.innerHTML = `<div class=\"error\" style=\"color:red;\">${err}</div>`;\n",
       "      throw err;\n",
       "    }\n",
       "\n",
       "    function displayChart(vegaEmbed) {\n",
       "      vegaEmbed(outputDiv, spec, embedOpt)\n",
       "        .catch(err => showError(`Javascript Error: ${err.message}<br>This usually means there's a typo in your chart specification. See the javascript console for the full traceback.`));\n",
       "    }\n",
       "\n",
       "    if(typeof define === \"function\" && define.amd) {\n",
       "      requirejs.config({paths});\n",
       "      require([\"vega-embed\"], displayChart, err => showError(`Error loading script: ${err.message}`));\n",
       "    } else {\n",
       "      maybeLoadScript(\"vega\", \"5\")\n",
       "        .then(() => maybeLoadScript(\"vega-lite\", \"5.6.1\"))\n",
       "        .then(() => maybeLoadScript(\"vega-embed\", \"6\"))\n",
       "        .catch(showError)\n",
       "        .then(() => displayChart(vegaEmbed));\n",
       "    }\n",
       "  })({\"config\": {\"view\": {\"continuousWidth\": 300, \"continuousHeight\": 300}}, \"data\": {\"name\": \"data-876591105d41b2f0c9562edcf5b35380\"}, \"mark\": {\"type\": \"line\"}, \"encoding\": {\"x\": {\"field\": \"Date\", \"type\": \"temporal\"}, \"y\": {\"field\": \"Total\", \"type\": \"quantitative\"}}, \"title\": \"Weekdays only\", \"$schema\": \"https://vega.github.io/schema/vega-lite/v5.6.1.json\", \"datasets\": {\"data-876591105d41b2f0c9562edcf5b35380\": [{\"Date\": \"2015-07-01T00:00:00\", \"Total\": 43378}, {\"Date\": \"2015-08-01T00:00:00\", \"Total\": 40160}, {\"Date\": \"2015-09-01T00:00:00\", \"Total\": 43529}, {\"Date\": \"2015-10-01T00:00:00\", \"Total\": 39037}, {\"Date\": \"2015-11-01T00:00:00\", \"Total\": 32227}, {\"Date\": \"2015-12-01T00:00:00\", \"Total\": 22256}, {\"Date\": \"2016-01-01T00:00:00\", \"Total\": 15641}, {\"Date\": \"2016-02-01T00:00:00\", \"Total\": 16514}, {\"Date\": \"2016-03-01T00:00:00\", \"Total\": 24754}, {\"Date\": \"2016-04-01T00:00:00\", \"Total\": 28273}, {\"Date\": \"2016-05-01T00:00:00\", \"Total\": 36266}, {\"Date\": \"2016-06-01T00:00:00\", \"Total\": 41075}, {\"Date\": \"2016-07-01T00:00:00\", \"Total\": 34712}, {\"Date\": \"2016-08-01T00:00:00\", \"Total\": 38199}, {\"Date\": \"2016-09-01T00:00:00\", \"Total\": 34433}, {\"Date\": \"2016-10-01T00:00:00\", \"Total\": 31916}, {\"Date\": \"2016-11-01T00:00:00\", \"Total\": 25118}, {\"Date\": \"2016-12-01T00:00:00\", \"Total\": 15588}, {\"Date\": \"2017-01-01T00:00:00\", \"Total\": 15055}, {\"Date\": \"2017-02-01T00:00:00\", \"Total\": 13275}, {\"Date\": \"2017-03-01T00:00:00\", \"Total\": 16852}, {\"Date\": \"2017-04-01T00:00:00\", \"Total\": 22914}, {\"Date\": \"2017-05-01T00:00:00\", \"Total\": 28950}, {\"Date\": \"2017-06-01T00:00:00\", \"Total\": 33487}, {\"Date\": \"2017-07-01T00:00:00\", \"Total\": 29057}, {\"Date\": \"2017-08-01T00:00:00\", \"Total\": 33467}, {\"Date\": \"2017-09-01T00:00:00\", \"Total\": 27691}, {\"Date\": \"2017-10-01T00:00:00\", \"Total\": 33742}, {\"Date\": \"2017-11-01T00:00:00\", \"Total\": 25849}, {\"Date\": \"2017-12-01T00:00:00\", \"Total\": 15790}, {\"Date\": \"2018-01-01T00:00:00\", \"Total\": 10620}, {\"Date\": \"2018-02-01T00:00:00\", \"Total\": 16470}, {\"Date\": \"2018-03-01T00:00:00\", \"Total\": 12770}, {\"Date\": \"2018-04-01T00:00:00\", \"Total\": 14367}, {\"Date\": \"2018-05-01T00:00:00\", \"Total\": 33653}, {\"Date\": \"2018-06-01T00:00:00\", \"Total\": 36455}, {\"Date\": \"2018-07-01T00:00:00\", \"Total\": 40364}, {\"Date\": \"2018-08-01T00:00:00\", \"Total\": 41221}, {\"Date\": \"2018-09-01T00:00:00\", \"Total\": 21594}, {\"Date\": \"2018-10-01T00:00:00\", \"Total\": 10788}, {\"Date\": \"2018-11-01T00:00:00\", \"Total\": 22142}, {\"Date\": \"2018-12-01T00:00:00\", \"Total\": 18172}, {\"Date\": \"2019-01-01T00:00:00\", \"Total\": 17070}, {\"Date\": \"2019-02-01T00:00:00\", \"Total\": 15880}, {\"Date\": \"2019-03-01T00:00:00\", \"Total\": 21340}, {\"Date\": \"2019-04-01T00:00:00\", \"Total\": 29861}, {\"Date\": \"2019-05-01T00:00:00\", \"Total\": 36688}, {\"Date\": \"2019-06-01T00:00:00\", \"Total\": 38614}, {\"Date\": \"2019-07-01T00:00:00\", \"Total\": 45787}, {\"Date\": \"2019-08-01T00:00:00\", \"Total\": 46149}, {\"Date\": \"2019-09-01T00:00:00\", \"Total\": 41842}, {\"Date\": \"2019-10-01T00:00:00\", \"Total\": 34989}, {\"Date\": \"2019-11-01T00:00:00\", \"Total\": 20992}, {\"Date\": \"2019-12-01T00:00:00\", \"Total\": 13607}, {\"Date\": \"2020-01-01T00:00:00\", \"Total\": 15856}, {\"Date\": \"2020-02-01T00:00:00\", \"Total\": 20923}, {\"Date\": \"2020-03-01T00:00:00\", \"Total\": 18547}, {\"Date\": \"2020-04-01T00:00:00\", \"Total\": 5734}, {\"Date\": \"2020-05-01T00:00:00\", \"Total\": 10510}, {\"Date\": \"2020-06-01T00:00:00\", \"Total\": 18554}, {\"Date\": \"2020-07-01T00:00:00\", \"Total\": 23058}, {\"Date\": \"2020-08-01T00:00:00\", \"Total\": 24087}, {\"Date\": \"2020-09-01T00:00:00\", \"Total\": 27236}, {\"Date\": \"2020-10-01T00:00:00\", \"Total\": 21245}, {\"Date\": \"2020-11-01T00:00:00\", \"Total\": 15573}, {\"Date\": \"2020-12-01T00:00:00\", \"Total\": 10208}, {\"Date\": \"2021-01-01T00:00:00\", \"Total\": 9185}, {\"Date\": \"2021-02-01T00:00:00\", \"Total\": 6497}, {\"Date\": \"2021-03-01T00:00:00\", \"Total\": 14470}, {\"Date\": \"2021-04-01T00:00:00\", \"Total\": 16226}, {\"Date\": \"2021-05-01T00:00:00\", \"Total\": 20714}, {\"Date\": \"2021-06-01T00:00:00\", \"Total\": 25424}, {\"Date\": \"2021-07-01T00:00:00\", \"Total\": 23753}, {\"Date\": \"2021-08-01T00:00:00\", \"Total\": 25967}, {\"Date\": \"2021-09-01T00:00:00\", \"Total\": 27946}, {\"Date\": \"2021-10-01T00:00:00\", \"Total\": 25930}, {\"Date\": \"2021-11-01T00:00:00\", \"Total\": 21463}, {\"Date\": \"2021-12-01T00:00:00\", \"Total\": 14405}, {\"Date\": \"2022-01-01T00:00:00\", \"Total\": 8731}, {\"Date\": \"2022-02-01T00:00:00\", \"Total\": 9388}, {\"Date\": \"2022-03-01T00:00:00\", \"Total\": 17399}, {\"Date\": \"2022-04-01T00:00:00\", \"Total\": 21411}, {\"Date\": \"2022-05-01T00:00:00\", \"Total\": 26271}, {\"Date\": \"2022-06-01T00:00:00\", \"Total\": 28001}, {\"Date\": \"2022-07-01T00:00:00\", \"Total\": 27828}, {\"Date\": \"2022-08-01T00:00:00\", \"Total\": 32156}, {\"Date\": \"2022-09-01T00:00:00\", \"Total\": 31745}, {\"Date\": \"2022-10-01T00:00:00\", \"Total\": 26570}, {\"Date\": \"2022-11-01T00:00:00\", \"Total\": 23033}, {\"Date\": \"2022-12-01T00:00:00\", \"Total\": 14723}, {\"Date\": \"2023-01-01T00:00:00\", \"Total\": 13348}, {\"Date\": \"2023-02-01T00:00:00\", \"Total\": 13594}]}}, {\"mode\": \"vega-lite\"});\n",
       "</script>"
      ],
      "text/plain": [
       "alt.Chart(...)"
      ]
     },
     "execution_count": 18,
     "metadata": {},
     "output_type": "execute_result"
    }
   ],
   "source": [
    "linechart(by_month(broadway.filter(pl.col(\"Date\").dt.weekday().is_in([1, 2, 3, 4, 5]))), \"Weekdays only\")"
   ]
  },
  {
   "cell_type": "code",
   "execution_count": 19,
   "id": "89d90344-ce00-42ea-bc8d-adeba3beee6e",
   "metadata": {
    "tags": []
   },
   "outputs": [
    {
     "data": {
      "text/html": [
       "\n",
       "<div id=\"altair-viz-c66ee8ec950641a7825ff5f0adc86660\"></div>\n",
       "<script type=\"text/javascript\">\n",
       "  var VEGA_DEBUG = (typeof VEGA_DEBUG == \"undefined\") ? {} : VEGA_DEBUG;\n",
       "  (function(spec, embedOpt){\n",
       "    let outputDiv = document.currentScript.previousElementSibling;\n",
       "    if (outputDiv.id !== \"altair-viz-c66ee8ec950641a7825ff5f0adc86660\") {\n",
       "      outputDiv = document.getElementById(\"altair-viz-c66ee8ec950641a7825ff5f0adc86660\");\n",
       "    }\n",
       "    const paths = {\n",
       "      \"vega\": \"https://cdn.jsdelivr.net/npm/vega@5?noext\",\n",
       "      \"vega-lib\": \"https://cdn.jsdelivr.net/npm/vega-lib?noext\",\n",
       "      \"vega-lite\": \"https://cdn.jsdelivr.net/npm/vega-lite@5.6.1?noext\",\n",
       "      \"vega-embed\": \"https://cdn.jsdelivr.net/npm/vega-embed@6?noext\",\n",
       "    };\n",
       "\n",
       "    function maybeLoadScript(lib, version) {\n",
       "      var key = `${lib.replace(\"-\", \"\")}_version`;\n",
       "      return (VEGA_DEBUG[key] == version) ?\n",
       "        Promise.resolve(paths[lib]) :\n",
       "        new Promise(function(resolve, reject) {\n",
       "          var s = document.createElement('script');\n",
       "          document.getElementsByTagName(\"head\")[0].appendChild(s);\n",
       "          s.async = true;\n",
       "          s.onload = () => {\n",
       "            VEGA_DEBUG[key] = version;\n",
       "            return resolve(paths[lib]);\n",
       "          };\n",
       "          s.onerror = () => reject(`Error loading script: ${paths[lib]}`);\n",
       "          s.src = paths[lib];\n",
       "        });\n",
       "    }\n",
       "\n",
       "    function showError(err) {\n",
       "      outputDiv.innerHTML = `<div class=\"error\" style=\"color:red;\">${err}</div>`;\n",
       "      throw err;\n",
       "    }\n",
       "\n",
       "    function displayChart(vegaEmbed) {\n",
       "      vegaEmbed(outputDiv, spec, embedOpt)\n",
       "        .catch(err => showError(`Javascript Error: ${err.message}<br>This usually means there's a typo in your chart specification. See the javascript console for the full traceback.`));\n",
       "    }\n",
       "\n",
       "    if(typeof define === \"function\" && define.amd) {\n",
       "      requirejs.config({paths});\n",
       "      require([\"vega-embed\"], displayChart, err => showError(`Error loading script: ${err.message}`));\n",
       "    } else {\n",
       "      maybeLoadScript(\"vega\", \"5\")\n",
       "        .then(() => maybeLoadScript(\"vega-lite\", \"5.6.1\"))\n",
       "        .then(() => maybeLoadScript(\"vega-embed\", \"6\"))\n",
       "        .catch(showError)\n",
       "        .then(() => displayChart(vegaEmbed));\n",
       "    }\n",
       "  })({\"config\": {\"view\": {\"continuousWidth\": 300, \"continuousHeight\": 300}}, \"data\": {\"name\": \"data-0f8f4a295b1d379a036ac422ecd01d25\"}, \"mark\": {\"type\": \"line\"}, \"encoding\": {\"x\": {\"field\": \"Date\", \"type\": \"temporal\"}, \"y\": {\"field\": \"Total\", \"type\": \"quantitative\"}}, \"title\": \"Weekends only\", \"$schema\": \"https://vega.github.io/schema/vega-lite/v5.6.1.json\", \"datasets\": {\"data-0f8f4a295b1d379a036ac422ecd01d25\": [{\"Date\": \"2015-07-01T00:00:00\", \"Total\": 5473}, {\"Date\": \"2015-08-01T00:00:00\", \"Total\": 7002}, {\"Date\": \"2015-09-01T00:00:00\", \"Total\": 6656}, {\"Date\": \"2015-10-01T00:00:00\", \"Total\": 4789}, {\"Date\": \"2015-11-01T00:00:00\", \"Total\": 3717}, {\"Date\": \"2015-12-01T00:00:00\", \"Total\": 2947}, {\"Date\": \"2016-01-01T00:00:00\", \"Total\": 1885}, {\"Date\": \"2016-02-01T00:00:00\", \"Total\": 1817}, {\"Date\": \"2016-03-01T00:00:00\", \"Total\": 2588}, {\"Date\": \"2016-04-01T00:00:00\", \"Total\": 4126}, {\"Date\": \"2016-05-01T00:00:00\", \"Total\": 4732}, {\"Date\": \"2016-06-01T00:00:00\", \"Total\": 4728}, {\"Date\": \"2016-07-01T00:00:00\", \"Total\": 5154}, {\"Date\": \"2016-08-01T00:00:00\", \"Total\": 4365}, {\"Date\": \"2016-09-01T00:00:00\", \"Total\": 4537}, {\"Date\": \"2016-10-01T00:00:00\", \"Total\": 3237}, {\"Date\": \"2016-11-01T00:00:00\", \"Total\": 2677}, {\"Date\": \"2016-12-01T00:00:00\", \"Total\": 1509}, {\"Date\": \"2017-01-01T00:00:00\", \"Total\": 2395}, {\"Date\": \"2017-02-01T00:00:00\", \"Total\": 1604}, {\"Date\": \"2017-03-01T00:00:00\", \"Total\": 1139}, {\"Date\": \"2017-04-01T00:00:00\", \"Total\": 4321}, {\"Date\": \"2017-05-01T00:00:00\", \"Total\": 3205}, {\"Date\": \"2017-06-01T00:00:00\", \"Total\": 4558}, {\"Date\": \"2017-07-01T00:00:00\", \"Total\": 5825}, {\"Date\": \"2017-08-01T00:00:00\", \"Total\": 3470}, {\"Date\": \"2017-09-01T00:00:00\", \"Total\": 4704}, {\"Date\": \"2017-10-01T00:00:00\", \"Total\": 4959}, {\"Date\": \"2017-11-01T00:00:00\", \"Total\": 2932}, {\"Date\": \"2017-12-01T00:00:00\", \"Total\": 1678}, {\"Date\": \"2018-01-01T00:00:00\", \"Total\": 1217}, {\"Date\": \"2018-02-01T00:00:00\", \"Total\": 1389}, {\"Date\": \"2018-03-01T00:00:00\", \"Total\": 1627}, {\"Date\": \"2018-04-01T00:00:00\", \"Total\": 3487}, {\"Date\": \"2018-05-01T00:00:00\", \"Total\": 2461}, {\"Date\": \"2018-06-01T00:00:00\", \"Total\": 5460}, {\"Date\": \"2018-07-01T00:00:00\", \"Total\": 6243}, {\"Date\": \"2018-08-01T00:00:00\", \"Total\": 4446}, {\"Date\": \"2018-09-01T00:00:00\", \"Total\": 4705}, {\"Date\": \"2018-10-01T00:00:00\", \"Total\": 502}, {\"Date\": \"2018-11-01T00:00:00\", \"Total\": 2696}, {\"Date\": \"2018-12-01T00:00:00\", \"Total\": 2262}, {\"Date\": \"2019-01-01T00:00:00\", \"Total\": 1467}, {\"Date\": \"2019-02-01T00:00:00\", \"Total\": 1822}, {\"Date\": \"2019-03-01T00:00:00\", \"Total\": 2712}, {\"Date\": \"2019-04-01T00:00:00\", \"Total\": 4222}, {\"Date\": \"2019-05-01T00:00:00\", \"Total\": 4684}, {\"Date\": \"2019-06-01T00:00:00\", \"Total\": 7386}, {\"Date\": \"2019-07-01T00:00:00\", \"Total\": 5685}, {\"Date\": \"2019-08-01T00:00:00\", \"Total\": 7304}, {\"Date\": \"2019-09-01T00:00:00\", \"Total\": 12084}, {\"Date\": \"2019-10-01T00:00:00\", \"Total\": 9350}, {\"Date\": \"2019-11-01T00:00:00\", \"Total\": 6566}, {\"Date\": \"2019-12-01T00:00:00\", \"Total\": 2310}, {\"Date\": \"2020-01-01T00:00:00\", \"Total\": 884}, {\"Date\": \"2020-02-01T00:00:00\", \"Total\": 2822}, {\"Date\": \"2020-03-01T00:00:00\", \"Total\": 2835}, {\"Date\": \"2020-04-01T00:00:00\", \"Total\": 3366}, {\"Date\": \"2020-05-01T00:00:00\", \"Total\": 6401}, {\"Date\": \"2020-06-01T00:00:00\", \"Total\": 6268}, {\"Date\": \"2020-07-01T00:00:00\", \"Total\": 6646}, {\"Date\": \"2020-08-01T00:00:00\", \"Total\": 8657}, {\"Date\": \"2020-09-01T00:00:00\", \"Total\": 7919}, {\"Date\": \"2020-10-01T00:00:00\", \"Total\": 6962}, {\"Date\": \"2020-11-01T00:00:00\", \"Total\": 5375}, {\"Date\": \"2020-12-01T00:00:00\", \"Total\": 1630}, {\"Date\": \"2021-01-01T00:00:00\", \"Total\": 2224}, {\"Date\": \"2021-02-01T00:00:00\", \"Total\": 1674}, {\"Date\": \"2021-03-01T00:00:00\", \"Total\": 3644}, {\"Date\": \"2021-04-01T00:00:00\", \"Total\": 5082}, {\"Date\": \"2021-05-01T00:00:00\", \"Total\": 6767}, {\"Date\": \"2021-06-01T00:00:00\", \"Total\": 7081}, {\"Date\": \"2021-07-01T00:00:00\", \"Total\": 6218}, {\"Date\": \"2021-08-01T00:00:00\", \"Total\": 7033}, {\"Date\": \"2021-09-01T00:00:00\", \"Total\": 7501}, {\"Date\": \"2021-10-01T00:00:00\", \"Total\": 7040}, {\"Date\": \"2021-11-01T00:00:00\", \"Total\": 3705}, {\"Date\": \"2021-12-01T00:00:00\", \"Total\": 2140}, {\"Date\": \"2022-01-01T00:00:00\", \"Total\": 1316}, {\"Date\": \"2022-02-01T00:00:00\", \"Total\": 1375}, {\"Date\": \"2022-03-01T00:00:00\", \"Total\": 2609}, {\"Date\": \"2022-04-01T00:00:00\", \"Total\": 5035}, {\"Date\": \"2022-05-01T00:00:00\", \"Total\": 5999}, {\"Date\": \"2022-06-01T00:00:00\", \"Total\": 6843}, {\"Date\": \"2022-07-01T00:00:00\", \"Total\": 8266}, {\"Date\": \"2022-08-01T00:00:00\", \"Total\": 6895}, {\"Date\": \"2022-09-01T00:00:00\", \"Total\": 6940}, {\"Date\": \"2022-10-01T00:00:00\", \"Total\": 6712}, {\"Date\": \"2022-11-01T00:00:00\", \"Total\": 3129}, {\"Date\": \"2022-12-01T00:00:00\", \"Total\": 2155}, {\"Date\": \"2023-01-01T00:00:00\", \"Total\": 2261}, {\"Date\": \"2023-02-01T00:00:00\", \"Total\": 2094}]}}, {\"mode\": \"vega-lite\"});\n",
       "</script>"
      ],
      "text/plain": [
       "alt.Chart(...)"
      ]
     },
     "execution_count": 19,
     "metadata": {},
     "output_type": "execute_result"
    }
   ],
   "source": [
    "linechart(by_month(broadway.filter(pl.col(\"Date\").dt.weekday().is_in([6, 7]))), \"Weekends only\")"
   ]
  },
  {
   "cell_type": "markdown",
   "id": "f6f54d8e-ba22-4ba9-8d54-91d0036afa69",
   "metadata": {},
   "source": [
    "## Conclusion\n",
    "\n",
    "My hypothesis was that weekends on Broadway might be a good way to get trends that aren't impacted by the pandemic and the resulting shift to working from home.\n",
    "\n",
    "Unfortunately, there seems to be a lot of location-specific noise. E.g. massive summer weekend spike in 2019 (construction?). 2015 when it was first installed is higher (bad calibration?). Probably new Bluebikes locations, construction, and shift in availability of PBLs all impact results to the point where I don't think you can get meaningful sense from one location."
   ]
  }
 ],
 "metadata": {
  "kernelspec": {
   "display_name": "Python 3 (ipykernel)",
   "language": "python",
   "name": "python3"
  },
  "language_info": {
   "codemirror_mode": {
    "name": "ipython",
    "version": 3
   },
   "file_extension": ".py",
   "mimetype": "text/x-python",
   "name": "python",
   "nbconvert_exporter": "python",
   "pygments_lexer": "ipython3",
   "version": "3.11.2"
  }
 },
 "nbformat": 4,
 "nbformat_minor": 5
}
