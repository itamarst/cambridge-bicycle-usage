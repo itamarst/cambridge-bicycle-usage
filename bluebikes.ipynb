{
 "cells": [
  {
   "cell_type": "code",
   "execution_count": 1,
   "id": "3d55a297-7922-485a-af15-74959ff4f2f9",
   "metadata": {
    "tags": []
   },
   "outputs": [],
   "source": [
    "import polars as pl\n",
    "import altair"
   ]
  },
  {
   "cell_type": "code",
   "execution_count": 67,
   "id": "74e3afaa-c72a-4e03-b588-99b2e15f9b50",
   "metadata": {
    "tags": []
   },
   "outputs": [
    {
     "data": {
      "text/html": [
       "<div><style>\n",
       ".dataframe > thead > tr > th,\n",
       ".dataframe > tbody > tr > td {\n",
       "  text-align: right;\n",
       "}\n",
       "</style>\n",
       "<small>shape: (78, 8)</small><table border=\"1\" class=\"dataframe\"><thead><tr><th>Number</th><th>Name</th><th>Latitude</th><th>Longitude</th><th>District</th><th>Public</th><th>Total docks</th><th>Deployment Year</th></tr><tr><td>str</td><td>str</td><td>f64</td><td>f64</td><td>str</td><td>str</td><td>i64</td><td>str</td></tr></thead><tbody><tr><td>&quot;M32026&quot;</td><td>&quot;359 Broadway -…</td><td>42.370803</td><td>-71.104412</td><td>&quot;Cambridge&quot;</td><td>&quot;Yes&quot;</td><td>23</td><td>&quot;2013&quot;</td></tr><tr><td>&quot;M32054&quot;</td><td>&quot;699 Mt Auburn …</td><td>42.375002</td><td>-71.148716</td><td>&quot;Cambridge&quot;</td><td>&quot;Yes&quot;</td><td>25</td><td>&quot;2018&quot;</td></tr><tr><td>&quot;M32060&quot;</td><td>&quot;700 Huron Ave&quot;</td><td>42.380788</td><td>-71.154129</td><td>&quot;Cambridge&quot;</td><td>&quot;Yes&quot;</td><td>19</td><td>&quot;2018&quot;</td></tr><tr><td>&quot;M32064&quot;</td><td>&quot;75 Binney St&quot;</td><td>42.365507</td><td>-71.080138</td><td>&quot;Cambridge&quot;</td><td>&quot;Yes&quot;</td><td>19</td><td>&quot;2019&quot;</td></tr><tr><td>&quot;M32058&quot;</td><td>&quot;84 Cambridgepa…</td><td>42.3936</td><td>-71.143941</td><td>&quot;Cambridge&quot;</td><td>&quot;Yes&quot;</td><td>27</td><td>&quot;2018&quot;</td></tr><tr><td>&quot;M32073&quot;</td><td>&quot;955 Mass Ave&quot;</td><td>42.368952</td><td>-71.109988</td><td>&quot;Cambridge&quot;</td><td>&quot;Yes&quot;</td><td>19</td><td>&quot;2021&quot;</td></tr><tr><td>&quot;M32046&quot;</td><td>&quot;Alewife MBTA a…</td><td>42.395588</td><td>-71.142606</td><td>&quot;Cambridge&quot;</td><td>&quot;Yes&quot;</td><td>19</td><td>&quot;2016&quot;</td></tr><tr><td>&quot;M32033&quot;</td><td>&quot;Alewife Statio…</td><td>42.396105</td><td>-71.139459</td><td>&quot;Cambridge&quot;</td><td>&quot;Yes&quot;</td><td>23</td><td>&quot;2014&quot;</td></tr><tr><td>&quot;M32059&quot;</td><td>&quot;Ames St at Bro…</td><td>42.363693</td><td>-71.087567</td><td>&quot;Cambridge&quot;</td><td>&quot;Yes&quot;</td><td>19</td><td>&quot;2018&quot;</td></tr><tr><td>&quot;M32037&quot;</td><td>&quot;Ames St at Mai…</td><td>42.3625</td><td>-71.08822</td><td>&quot;Cambridge&quot;</td><td>&quot;Yes&quot;</td><td>19</td><td>&quot;2012&quot;</td></tr><tr><td>&quot;M32067&quot;</td><td>&quot;Berkshire Stre…</td><td>42.372077</td><td>-71.089954</td><td>&quot;Cambridge&quot;</td><td>&quot;Yes&quot;</td><td>19</td><td>&quot;2019&quot;</td></tr><tr><td>&quot;M32027&quot;</td><td>&quot;Binney St / Si…</td><td>42.366088</td><td>-71.086336</td><td>&quot;Cambridge&quot;</td><td>&quot;Yes&quot;</td><td>19</td><td>&quot;2013&quot;</td></tr><tr><td>&hellip;</td><td>&hellip;</td><td>&hellip;</td><td>&hellip;</td><td>&hellip;</td><td>&hellip;</td><td>&hellip;</td><td>&hellip;</td></tr><tr><td>&quot;M32053&quot;</td><td>&quot;One Memorial D…</td><td>42.361619</td><td>-71.080436</td><td>&quot;Cambridge&quot;</td><td>&quot;Yes&quot;</td><td>19</td><td>&quot;2017&quot;</td></tr><tr><td>&quot;M32029&quot;</td><td>&quot;Porter Square …</td><td>42.387995</td><td>-71.119084</td><td>&quot;Cambridge&quot;</td><td>&quot;Yes&quot;</td><td>19</td><td>&quot;2013&quot;</td></tr><tr><td>&quot;M32079&quot;</td><td>&quot;Raymond Park a…</td><td>42.38737</td><td>-71.12761</td><td>&quot;Cambridge&quot;</td><td>&quot;Yes&quot;</td><td>19</td><td>&quot;2022&quot;</td></tr><tr><td>&quot;M32036&quot;</td><td>&quot;Rindge Avenue …</td><td>42.392766</td><td>-71.129042</td><td>&quot;Cambridge&quot;</td><td>&quot;Yes&quot;</td><td>19</td><td>&quot;2014&quot;</td></tr><tr><td>&quot;M32035&quot;</td><td>&quot;Rogers St &amp; La…</td><td>42.366447</td><td>-71.076546</td><td>&quot;Cambridge&quot;</td><td>&quot;Yes&quot;</td><td>19</td><td>&quot;2018&quot;</td></tr><tr><td>&quot;M32063&quot;</td><td>&quot;Sennott Park B…</td><td>42.368605</td><td>-71.099302</td><td>&quot;Cambridge&quot;</td><td>&quot;Yes&quot;</td><td>19</td><td>&quot;2019&quot;</td></tr><tr><td>&quot;M32047&quot;</td><td>&quot;Sidney Researc…</td><td>42.357753</td><td>-71.103934</td><td>&quot;Cambridge&quot;</td><td>&quot;Yes&quot;</td><td>19</td><td>&quot;2016&quot;</td></tr><tr><td>&quot;M32069&quot;</td><td>&quot;Smith Pl at Wi…</td><td>42.392397</td><td>-71.150583</td><td>&quot;Cambridge&quot;</td><td>&quot;Yes&quot;</td><td>19</td><td>&quot;2020&quot;</td></tr><tr><td>&quot;M32048&quot;</td><td>&quot;Third at Binne…</td><td>42.365445</td><td>-71.082771</td><td>&quot;Cambridge&quot;</td><td>&quot;Yes&quot;</td><td>15</td><td>&quot;2016&quot;</td></tr><tr><td>&quot;M32040&quot;</td><td>&quot;University Par…</td><td>42.362648</td><td>-71.100061</td><td>&quot;Cambridge&quot;</td><td>&quot;Yes&quot;</td><td>19</td><td>&quot;2015&quot;</td></tr><tr><td>&quot;M32057&quot;</td><td>&quot;Vassal Lane at…</td><td>42.385368</td><td>-71.137757</td><td>&quot;Cambridge&quot;</td><td>&quot;Yes&quot;</td><td>19</td><td>&quot;2018&quot;</td></tr><tr><td>&quot;M32050&quot;</td><td>&quot;Verizon Innova…</td><td>42.372509</td><td>-71.113054</td><td>&quot;Cambridge&quot;</td><td>&quot;Yes&quot;</td><td>19</td><td>&quot;2017&quot;</td></tr></tbody></table></div>"
      ],
      "text/plain": [
       "shape: (78, 8)\n",
       "┌────────┬──────────────┬───────────┬────────────┬───────────┬────────┬─────────────┬──────────────┐\n",
       "│ Number ┆ Name         ┆ Latitude  ┆ Longitude  ┆ District  ┆ Public ┆ Total docks ┆ Deployment   │\n",
       "│ ---    ┆ ---          ┆ ---       ┆ ---        ┆ ---       ┆ ---    ┆ ---         ┆ Year         │\n",
       "│ str    ┆ str          ┆ f64       ┆ f64        ┆ str       ┆ str    ┆ i64         ┆ ---          │\n",
       "│        ┆              ┆           ┆            ┆           ┆        ┆             ┆ str          │\n",
       "╞════════╪══════════════╪═══════════╪════════════╪═══════════╪════════╪═════════════╪══════════════╡\n",
       "│ M32026 ┆ 359 Broadway ┆ 42.370803 ┆ -71.104412 ┆ Cambridge ┆ Yes    ┆ 23          ┆ 2013         │\n",
       "│        ┆ - Broadway   ┆           ┆            ┆           ┆        ┆             ┆              │\n",
       "│        ┆ at Fayet…    ┆           ┆            ┆           ┆        ┆             ┆              │\n",
       "│ M32054 ┆ 699 Mt       ┆ 42.375002 ┆ -71.148716 ┆ Cambridge ┆ Yes    ┆ 25          ┆ 2018         │\n",
       "│        ┆ Auburn St    ┆           ┆            ┆           ┆        ┆             ┆              │\n",
       "│ M32060 ┆ 700 Huron    ┆ 42.380788 ┆ -71.154129 ┆ Cambridge ┆ Yes    ┆ 19          ┆ 2018         │\n",
       "│        ┆ Ave          ┆           ┆            ┆           ┆        ┆             ┆              │\n",
       "│ M32064 ┆ 75 Binney St ┆ 42.365507 ┆ -71.080138 ┆ Cambridge ┆ Yes    ┆ 19          ┆ 2019         │\n",
       "│ …      ┆ …            ┆ …         ┆ …          ┆ …         ┆ …      ┆ …           ┆ …            │\n",
       "│ M32048 ┆ Third at     ┆ 42.365445 ┆ -71.082771 ┆ Cambridge ┆ Yes    ┆ 15          ┆ 2016         │\n",
       "│        ┆ Binney       ┆           ┆            ┆           ┆        ┆             ┆              │\n",
       "│ M32040 ┆ University   ┆ 42.362648 ┆ -71.100061 ┆ Cambridge ┆ Yes    ┆ 19          ┆ 2015         │\n",
       "│        ┆ Park         ┆           ┆            ┆           ┆        ┆             ┆              │\n",
       "│ M32057 ┆ Vassal Lane  ┆ 42.385368 ┆ -71.137757 ┆ Cambridge ┆ Yes    ┆ 19          ┆ 2018         │\n",
       "│        ┆ at           ┆           ┆            ┆           ┆        ┆             ┆              │\n",
       "│        ┆ Tobin/VLUS   ┆           ┆            ┆           ┆        ┆             ┆              │\n",
       "│ M32050 ┆ Verizon      ┆ 42.372509 ┆ -71.113054 ┆ Cambridge ┆ Yes    ┆ 19          ┆ 2017         │\n",
       "│        ┆ Innovation   ┆           ┆            ┆           ┆        ┆             ┆              │\n",
       "│        ┆ Hub 10 Ware  ┆           ┆            ┆           ┆        ┆             ┆              │\n",
       "│        ┆ S…           ┆           ┆            ┆           ┆        ┆             ┆              │\n",
       "└────────┴──────────────┴───────────┴────────────┴───────────┴────────┴─────────────┴──────────────┘"
      ]
     },
     "metadata": {},
     "output_type": "display_data"
    }
   ],
   "source": [
    "stations = pl.read_csv(\"data/current_bluebikes_stations.csv\", skip_rows=1)\n",
    "cambridge_stations = stations.filter(pl.col(\"District\") == \"Cambridge\")\n",
    "display(cambridge_stations)\n",
    "cambridge_station_ids = {s for s in cambridge_stations.to_dict()[\"Name\"]}"
   ]
  },
  {
   "cell_type": "code",
   "execution_count": 61,
   "id": "2608d751-990d-4517-8262-e58389396849",
   "metadata": {
    "tags": []
   },
   "outputs": [
    {
     "data": {
      "text/html": [
       "<div><style>\n",
       ".dataframe > thead > tr > th,\n",
       ".dataframe > tbody > tr > td {\n",
       "  text-align: right;\n",
       "}\n",
       "</style>\n",
       "<small>shape: (15605661, 5)</small><table border=\"1\" class=\"dataframe\"><thead><tr><th>starttime</th><th>start station id</th><th>end station id</th><th>start station name</th><th>end station name</th></tr><tr><td>date</td><td>i64</td><td>i64</td><td>str</td><td>str</td></tr></thead><tbody><tr><td>2016-01-01</td><td>36</td><td>19</td><td>&quot;Boston Public …</td><td>&quot;Buswell St. at…</td></tr><tr><td>2016-01-01</td><td>36</td><td>19</td><td>&quot;Boston Public …</td><td>&quot;Buswell St. at…</td></tr><tr><td>2016-01-01</td><td>36</td><td>19</td><td>&quot;Boston Public …</td><td>&quot;Buswell St. at…</td></tr><tr><td>2016-01-01</td><td>36</td><td>19</td><td>&quot;Boston Public …</td><td>&quot;Buswell St. at…</td></tr><tr><td>2016-01-01</td><td>36</td><td>67</td><td>&quot;Boston Public …</td><td>&quot;MIT at Mass Av…</td></tr><tr><td>2016-01-01</td><td>110</td><td>88</td><td>&quot;Harvard Univer…</td><td>&quot;Inman Square a…</td></tr><tr><td>2016-01-01</td><td>107</td><td>176</td><td>&quot;Ames St at Mai…</td><td>&quot;Lesley Univers…</td></tr><tr><td>2016-01-01</td><td>141</td><td>90</td><td>&quot;Kendall Street…</td><td>&quot;Lechmere Stati…</td></tr><tr><td>2016-01-01</td><td>178</td><td>80</td><td>&quot;MIT Pacific St…</td><td>&quot;MIT Stata Cent…</td></tr><tr><td>2016-01-01</td><td>68</td><td>178</td><td>&quot;Central Square…</td><td>&quot;MIT Pacific St…</td></tr><tr><td>2016-01-01</td><td>72</td><td>178</td><td>&quot;One Broadway /…</td><td>&quot;MIT Pacific St…</td></tr><tr><td>2016-01-01</td><td>68</td><td>177</td><td>&quot;Central Square…</td><td>&quot;University Par…</td></tr><tr><td>&hellip;</td><td>&hellip;</td><td>&hellip;</td><td>&hellip;</td><td>&hellip;</td></tr><tr><td>2022-12-31</td><td>71</td><td>20</td><td>&quot;Conway Park - …</td><td>&quot;Aquarium T Sto…</td></tr><tr><td>2022-12-31</td><td>46</td><td>49</td><td>&quot;Christian Scie…</td><td>&quot;Stuart St at C…</td></tr><tr><td>2022-12-31</td><td>6</td><td>54</td><td>&quot;Cambridge St a…</td><td>&quot;Tremont St at …</td></tr><tr><td>2022-12-31</td><td>21</td><td>36</td><td>&quot;Prudential Cen…</td><td>&quot;Copley Square …</td></tr><tr><td>2022-12-31</td><td>452</td><td>370</td><td>&quot;1200 Beacon St…</td><td>&quot;Dartmouth St a…</td></tr><tr><td>2022-12-31</td><td>399</td><td>36</td><td>&quot;Shawmut Ave at…</td><td>&quot;Copley Square …</td></tr><tr><td>2022-12-31</td><td>399</td><td>36</td><td>&quot;Shawmut Ave at…</td><td>&quot;Copley Square …</td></tr><tr><td>2022-12-31</td><td>186</td><td>136</td><td>&quot;Congress St at…</td><td>&quot;ID Building We…</td></tr><tr><td>2022-12-31</td><td>12</td><td>417</td><td>&quot;Ruggles T Stop…</td><td>&quot;Columbus Ave a…</td></tr><tr><td>2022-12-31</td><td>49</td><td>16</td><td>&quot;Stuart St at C…</td><td>&quot;Back Bay T Sto…</td></tr><tr><td>2022-12-31</td><td>39</td><td>43</td><td>&quot;Washington St …</td><td>&quot;Rowes Wharf at…</td></tr><tr><td>2022-12-31</td><td>39</td><td>43</td><td>&quot;Washington St …</td><td>&quot;Rowes Wharf at…</td></tr></tbody></table></div>"
      ],
      "text/plain": [
       "shape: (15605661, 5)\n",
       "┌────────────┬──────────────────┬────────────────┬───────────────────────────┬─────────────────────┐\n",
       "│ starttime  ┆ start station id ┆ end station id ┆ start station name        ┆ end station name    │\n",
       "│ ---        ┆ ---              ┆ ---            ┆ ---                       ┆ ---                 │\n",
       "│ date       ┆ i64              ┆ i64            ┆ str                       ┆ str                 │\n",
       "╞════════════╪══════════════════╪════════════════╪═══════════════════════════╪═════════════════════╡\n",
       "│ 2016-01-01 ┆ 36               ┆ 19             ┆ Boston Public Library -   ┆ Buswell St. at Park │\n",
       "│            ┆                  ┆                ┆ 700 Boyl…                 ┆ Dr.                 │\n",
       "│ 2016-01-01 ┆ 36               ┆ 19             ┆ Boston Public Library -   ┆ Buswell St. at Park │\n",
       "│            ┆                  ┆                ┆ 700 Boyl…                 ┆ Dr.                 │\n",
       "│ 2016-01-01 ┆ 36               ┆ 19             ┆ Boston Public Library -   ┆ Buswell St. at Park │\n",
       "│            ┆                  ┆                ┆ 700 Boyl…                 ┆ Dr.                 │\n",
       "│ 2016-01-01 ┆ 36               ┆ 19             ┆ Boston Public Library -   ┆ Buswell St. at Park │\n",
       "│            ┆                  ┆                ┆ 700 Boyl…                 ┆ Dr.                 │\n",
       "│ …          ┆ …                ┆ …              ┆ …                         ┆ …                   │\n",
       "│ 2022-12-31 ┆ 12               ┆ 417            ┆ Ruggles T Stop - Columbus ┆ Columbus Ave at W.  │\n",
       "│            ┆                  ┆                ┆ Ave at…                   ┆ Canton St           │\n",
       "│ 2022-12-31 ┆ 49               ┆ 16             ┆ Stuart St at Charles St   ┆ Back Bay T Stop -   │\n",
       "│            ┆                  ┆                ┆                           ┆ Dartmouth St a…     │\n",
       "│ 2022-12-31 ┆ 39               ┆ 43             ┆ Washington St at Rutland  ┆ Rowes Wharf at      │\n",
       "│            ┆                  ┆                ┆ St                        ┆ Atlantic Ave        │\n",
       "│ 2022-12-31 ┆ 39               ┆ 43             ┆ Washington St at Rutland  ┆ Rowes Wharf at      │\n",
       "│            ┆                  ┆                ┆ St                        ┆ Atlantic Ave        │\n",
       "└────────────┴──────────────────┴────────────────┴───────────────────────────┴─────────────────────┘"
      ]
     },
     "execution_count": 61,
     "metadata": {},
     "output_type": "execute_result"
    }
   ],
   "source": [
    "rides = pl.read_csv(\"data/20*.csv\", columns=[\"starttime\", \"start station id\", \"end station id\", \"start station name\", \"end station name\"]).with_columns(pl.col(\"starttime\").str.slice(0, 10).str.strptime(pl.Date, fmt=\"%Y-%m-%d\", strict=False)).sort(\"starttime\")\n",
    "rides "
   ]
  },
  {
   "cell_type": "code",
   "execution_count": 68,
   "id": "bb1121a0-f12f-4cca-ac08-712064cc3ce9",
   "metadata": {
    "tags": []
   },
   "outputs": [
    {
     "data": {
      "text/html": [
       "<div><style>\n",
       ".dataframe > thead > tr > th,\n",
       ".dataframe > tbody > tr > td {\n",
       "  text-align: right;\n",
       "}\n",
       "</style>\n",
       "<small>shape: (6983372, 5)</small><table border=\"1\" class=\"dataframe\"><thead><tr><th>starttime</th><th>start station id</th><th>end station id</th><th>start station name</th><th>end station name</th></tr><tr><td>date</td><td>i64</td><td>i64</td><td>str</td><td>str</td></tr></thead><tbody><tr><td>2016-01-01</td><td>36</td><td>67</td><td>&quot;Boston Public …</td><td>&quot;MIT at Mass Av…</td></tr><tr><td>2016-01-01</td><td>107</td><td>176</td><td>&quot;Ames St at Mai…</td><td>&quot;Lesley Univers…</td></tr><tr><td>2016-01-01</td><td>141</td><td>90</td><td>&quot;Kendall Street…</td><td>&quot;Lechmere Stati…</td></tr><tr><td>2016-01-01</td><td>178</td><td>80</td><td>&quot;MIT Pacific St…</td><td>&quot;MIT Stata Cent…</td></tr><tr><td>2016-01-01</td><td>68</td><td>178</td><td>&quot;Central Square…</td><td>&quot;MIT Pacific St…</td></tr><tr><td>2016-01-01</td><td>72</td><td>178</td><td>&quot;One Broadway /…</td><td>&quot;MIT Pacific St…</td></tr><tr><td>2016-01-01</td><td>68</td><td>177</td><td>&quot;Central Square…</td><td>&quot;University Par…</td></tr><tr><td>2016-01-01</td><td>68</td><td>177</td><td>&quot;Central Square…</td><td>&quot;University Par…</td></tr><tr><td>2016-01-01</td><td>68</td><td>88</td><td>&quot;Central Square…</td><td>&quot;Inman Square a…</td></tr><tr><td>2016-01-01</td><td>74</td><td>22</td><td>&quot;Harvard Square…</td><td>&quot;South Station …</td></tr><tr><td>2016-01-01</td><td>74</td><td>22</td><td>&quot;Harvard Square…</td><td>&quot;South Station …</td></tr><tr><td>2016-01-01</td><td>84</td><td>90</td><td>&quot;CambridgeSide …</td><td>&quot;Lechmere Stati…</td></tr><tr><td>&hellip;</td><td>&hellip;</td><td>&hellip;</td><td>&hellip;</td><td>&hellip;</td></tr><tr><td>2022-12-31</td><td>544</td><td>68</td><td>&quot;Old Morse Park…</td><td>&quot;Central Square…</td></tr><tr><td>2022-12-31</td><td>91</td><td>157</td><td>&quot;One Kendall Sq…</td><td>&quot;Seaport Blvd a…</td></tr><tr><td>2022-12-31</td><td>178</td><td>68</td><td>&quot;MIT Pacific St…</td><td>&quot;Central Square…</td></tr><tr><td>2022-12-31</td><td>178</td><td>68</td><td>&quot;MIT Pacific St…</td><td>&quot;Central Square…</td></tr><tr><td>2022-12-31</td><td>334</td><td>197</td><td>&quot;Mass Ave at Ha…</td><td>&quot;MLK Blvd at Wa…</td></tr><tr><td>2022-12-31</td><td>77</td><td>73</td><td>&quot;Somerville Cit…</td><td>&quot;Harvard Square…</td></tr><tr><td>2022-12-31</td><td>225</td><td>544</td><td>&quot;Cambridge Dept…</td><td>&quot;Old Morse Park…</td></tr><tr><td>2022-12-31</td><td>236</td><td>116</td><td>&quot;Assembly Squar…</td><td>&quot;359 Broadway -…</td></tr><tr><td>2022-12-31</td><td>183</td><td>462</td><td>&quot;Alewife MBTA a…</td><td>&quot;Linwood St at …</td></tr><tr><td>2022-12-31</td><td>183</td><td>462</td><td>&quot;Alewife MBTA a…</td><td>&quot;Linwood St at …</td></tr><tr><td>2022-12-31</td><td>96</td><td>386</td><td>&quot;Cambridge Main…</td><td>&quot;Sennott Park B…</td></tr><tr><td>2022-12-31</td><td>74</td><td>67</td><td>&quot;Harvard Square…</td><td>&quot;MIT at Mass Av…</td></tr></tbody></table></div>"
      ],
      "text/plain": [
       "shape: (6983372, 5)\n",
       "┌────────────┬──────────────────┬────────────────┬────────────────────────┬────────────────────────┐\n",
       "│ starttime  ┆ start station id ┆ end station id ┆ start station name     ┆ end station name       │\n",
       "│ ---        ┆ ---              ┆ ---            ┆ ---                    ┆ ---                    │\n",
       "│ date       ┆ i64              ┆ i64            ┆ str                    ┆ str                    │\n",
       "╞════════════╪══════════════════╪════════════════╪════════════════════════╪════════════════════════╡\n",
       "│ 2016-01-01 ┆ 36               ┆ 67             ┆ Boston Public Library  ┆ MIT at Mass Ave /      │\n",
       "│            ┆                  ┆                ┆ - 700 Boyl…            ┆ Amherst St             │\n",
       "│ 2016-01-01 ┆ 107              ┆ 176            ┆ Ames St at Main St     ┆ Lesley University      │\n",
       "│ 2016-01-01 ┆ 141              ┆ 90             ┆ Kendall Street         ┆ Lechmere Station at    │\n",
       "│            ┆                  ┆                ┆                        ┆ Cambridge St…          │\n",
       "│ 2016-01-01 ┆ 178              ┆ 80             ┆ MIT Pacific St at      ┆ MIT Stata Center at    │\n",
       "│            ┆                  ┆                ┆ Purrington St          ┆ Vassar St / …          │\n",
       "│ …          ┆ …                ┆ …              ┆ …                      ┆ …                      │\n",
       "│ 2022-12-31 ┆ 183              ┆ 462            ┆ Alewife MBTA at Steel  ┆ Linwood St at          │\n",
       "│            ┆                  ┆                ┆ Place                  ┆ Minuteman Bikeway      │\n",
       "│ 2022-12-31 ┆ 183              ┆ 462            ┆ Alewife MBTA at Steel  ┆ Linwood St at          │\n",
       "│            ┆                  ┆                ┆ Place                  ┆ Minuteman Bikeway      │\n",
       "│ 2022-12-31 ┆ 96               ┆ 386            ┆ Cambridge Main Library ┆ Sennott Park Broadway  │\n",
       "│            ┆                  ┆                ┆ at Broadw…             ┆ at Norfolk…            │\n",
       "│ 2022-12-31 ┆ 74               ┆ 67             ┆ Harvard Square at Mass ┆ MIT at Mass Ave /      │\n",
       "│            ┆                  ┆                ┆ Ave/ Duns…             ┆ Amherst St             │\n",
       "└────────────┴──────────────────┴────────────────┴────────────────────────┴────────────────────────┘"
      ]
     },
     "execution_count": 68,
     "metadata": {},
     "output_type": "execute_result"
    }
   ],
   "source": [
    "cambridge_rides = rides.filter(pl.col(\"start station name\").is_in(cambridge_station_ids) | pl.col(\"end station name\").is_in(cambridge_station_ids))\n",
    "cambridge_rides"
   ]
  },
  {
   "cell_type": "code",
   "execution_count": 69,
   "id": "e95afdba-4113-4379-9b1d-20d96377da99",
   "metadata": {
    "tags": []
   },
   "outputs": [
    {
     "data": {
      "text/html": [
       "<div><style>\n",
       ".dataframe > thead > tr > th,\n",
       ".dataframe > tbody > tr > td {\n",
       "  text-align: right;\n",
       "}\n",
       "</style>\n",
       "<small>shape: (1, 1)</small><table border=\"1\" class=\"dataframe\"><thead><tr><th>count</th></tr><tr><td>u32</td></tr></thead><tbody><tr><td>6983372</td></tr></tbody></table></div>"
      ],
      "text/plain": [
       "shape: (1, 1)\n",
       "┌─────────┐\n",
       "│ count   │\n",
       "│ ---     │\n",
       "│ u32     │\n",
       "╞═════════╡\n",
       "│ 6983372 │\n",
       "└─────────┘"
      ]
     },
     "metadata": {},
     "output_type": "display_data"
    },
    {
     "data": {
      "text/html": [
       "<div><style>\n",
       ".dataframe > thead > tr > th,\n",
       ".dataframe > tbody > tr > td {\n",
       "  text-align: right;\n",
       "}\n",
       "</style>\n",
       "<small>shape: (1, 1)</small><table border=\"1\" class=\"dataframe\"><thead><tr><th>count</th></tr><tr><td>u32</td></tr></thead><tbody><tr><td>6983372</td></tr></tbody></table></div>"
      ],
      "text/plain": [
       "shape: (1, 1)\n",
       "┌─────────┐\n",
       "│ count   │\n",
       "│ ---     │\n",
       "│ u32     │\n",
       "╞═════════╡\n",
       "│ 6983372 │\n",
       "└─────────┘"
      ]
     },
     "metadata": {},
     "output_type": "display_data"
    }
   ],
   "source": [
    "def by_month(df):\n",
    "    return df.groupby_dynamic(\"starttime\", every=\"1mo\").agg(pl.count())\n",
    "\n",
    "def by_year(df):\n",
    "    return df.groupby_dynamic(\"starttime\", every=\"1y\").agg(pl.count())\n",
    "\n",
    "monthly = by_month(cambridge_rides)\n",
    "display(monthly.select([pl.col(\"count\").sum()]))\n",
    "yearly = by_year(cambridge_rides)\n",
    "display(yearly.select([pl.col(\"count\").sum()]))\n"
   ]
  },
  {
   "cell_type": "code",
   "execution_count": 76,
   "id": "0cc39741-531d-419d-83f4-e3c2fe0ad446",
   "metadata": {
    "tags": []
   },
   "outputs": [
    {
     "data": {
      "text/html": [
       "\n",
       "<div id=\"altair-viz-cf81f612a8f74a58a118f3e193bc0a19\"></div>\n",
       "<script type=\"text/javascript\">\n",
       "  var VEGA_DEBUG = (typeof VEGA_DEBUG == \"undefined\") ? {} : VEGA_DEBUG;\n",
       "  (function(spec, embedOpt){\n",
       "    let outputDiv = document.currentScript.previousElementSibling;\n",
       "    if (outputDiv.id !== \"altair-viz-cf81f612a8f74a58a118f3e193bc0a19\") {\n",
       "      outputDiv = document.getElementById(\"altair-viz-cf81f612a8f74a58a118f3e193bc0a19\");\n",
       "    }\n",
       "    const paths = {\n",
       "      \"vega\": \"https://cdn.jsdelivr.net/npm/vega@5?noext\",\n",
       "      \"vega-lib\": \"https://cdn.jsdelivr.net/npm/vega-lib?noext\",\n",
       "      \"vega-lite\": \"https://cdn.jsdelivr.net/npm/vega-lite@5.6.1?noext\",\n",
       "      \"vega-embed\": \"https://cdn.jsdelivr.net/npm/vega-embed@6?noext\",\n",
       "    };\n",
       "\n",
       "    function maybeLoadScript(lib, version) {\n",
       "      var key = `${lib.replace(\"-\", \"\")}_version`;\n",
       "      return (VEGA_DEBUG[key] == version) ?\n",
       "        Promise.resolve(paths[lib]) :\n",
       "        new Promise(function(resolve, reject) {\n",
       "          var s = document.createElement('script');\n",
       "          document.getElementsByTagName(\"head\")[0].appendChild(s);\n",
       "          s.async = true;\n",
       "          s.onload = () => {\n",
       "            VEGA_DEBUG[key] = version;\n",
       "            return resolve(paths[lib]);\n",
       "          };\n",
       "          s.onerror = () => reject(`Error loading script: ${paths[lib]}`);\n",
       "          s.src = paths[lib];\n",
       "        });\n",
       "    }\n",
       "\n",
       "    function showError(err) {\n",
       "      outputDiv.innerHTML = `<div class=\"error\" style=\"color:red;\">${err}</div>`;\n",
       "      throw err;\n",
       "    }\n",
       "\n",
       "    function displayChart(vegaEmbed) {\n",
       "      vegaEmbed(outputDiv, spec, embedOpt)\n",
       "        .catch(err => showError(`Javascript Error: ${err.message}<br>This usually means there's a typo in your chart specification. See the javascript console for the full traceback.`));\n",
       "    }\n",
       "\n",
       "    if(typeof define === \"function\" && define.amd) {\n",
       "      requirejs.config({paths});\n",
       "      require([\"vega-embed\"], displayChart, err => showError(`Error loading script: ${err.message}`));\n",
       "    } else {\n",
       "      maybeLoadScript(\"vega\", \"5\")\n",
       "        .then(() => maybeLoadScript(\"vega-lite\", \"5.6.1\"))\n",
       "        .then(() => maybeLoadScript(\"vega-embed\", \"6\"))\n",
       "        .catch(showError)\n",
       "        .then(() => displayChart(vegaEmbed));\n",
       "    }\n",
       "  })({\"config\": {\"view\": {\"continuousWidth\": 300, \"continuousHeight\": 300}}, \"data\": {\"name\": \"data-321bc8395dc87cb94fa5fe7fe4ebbfbc\"}, \"mark\": {\"type\": \"line\"}, \"encoding\": {\"x\": {\"field\": \"starttime\", \"type\": \"temporal\"}, \"y\": {\"field\": \"count\", \"type\": \"quantitative\"}}, \"title\": \"Monthly Bluebikes rides starting/ending in Cambridge\", \"$schema\": \"https://vega.github.io/schema/vega-lite/v5.6.1.json\", \"datasets\": {\"data-321bc8395dc87cb94fa5fe7fe4ebbfbc\": [{\"starttime\": \"2016-01-01T00:00:00\", \"count\": 11827}, {\"starttime\": \"2016-02-01T00:00:00\", \"count\": 14447}, {\"starttime\": \"2016-03-01T00:00:00\", \"count\": 25173}, {\"starttime\": \"2016-04-01T00:00:00\", \"count\": 41609}, {\"starttime\": \"2016-05-01T00:00:00\", \"count\": 53968}, {\"starttime\": \"2016-06-01T00:00:00\", \"count\": 66786}, {\"starttime\": \"2016-07-01T00:00:00\", \"count\": 69180}, {\"starttime\": \"2016-08-01T00:00:00\", \"count\": 70351}, {\"starttime\": \"2016-09-01T00:00:00\", \"count\": 71751}, {\"starttime\": \"2016-10-01T00:00:00\", \"count\": 61161}, {\"starttime\": \"2016-11-01T00:00:00\", \"count\": 46063}, {\"starttime\": \"2016-12-01T00:00:00\", \"count\": 23957}, {\"starttime\": \"2017-01-01T00:00:00\", \"count\": 16815}, {\"starttime\": \"2017-02-01T00:00:00\", \"count\": 17027}, {\"starttime\": \"2017-03-01T00:00:00\", \"count\": 22022}, {\"starttime\": \"2017-04-01T00:00:00\", \"count\": 47511}, {\"starttime\": \"2017-05-01T00:00:00\", \"count\": 56769}, {\"starttime\": \"2017-06-01T00:00:00\", \"count\": 68594}, {\"starttime\": \"2017-07-01T00:00:00\", \"count\": 74621}, {\"starttime\": \"2017-08-01T00:00:00\", \"count\": 79787}, {\"starttime\": \"2017-09-01T00:00:00\", \"count\": 74548}, {\"starttime\": \"2017-10-01T00:00:00\", \"count\": 78349}, {\"starttime\": \"2017-11-01T00:00:00\", \"count\": 51994}, {\"starttime\": \"2017-12-01T00:00:00\", \"count\": 28322}, {\"starttime\": \"2018-01-01T00:00:00\", \"count\": 22429}, {\"starttime\": \"2018-02-01T00:00:00\", \"count\": 34493}, {\"starttime\": \"2018-03-01T00:00:00\", \"count\": 34116}, {\"starttime\": \"2018-04-01T00:00:00\", \"count\": 50556}, {\"starttime\": \"2018-05-01T00:00:00\", \"count\": 82199}, {\"starttime\": \"2018-06-01T00:00:00\", \"count\": 90755}, {\"starttime\": \"2018-07-01T00:00:00\", \"count\": 110324}, {\"starttime\": \"2018-08-01T00:00:00\", \"count\": 107074}, {\"starttime\": \"2018-09-01T00:00:00\", \"count\": 109978}, {\"starttime\": \"2018-10-01T00:00:00\", \"count\": 92027}, {\"starttime\": \"2018-11-01T00:00:00\", \"count\": 60574}, {\"starttime\": \"2018-12-01T00:00:00\", \"count\": 42503}, {\"starttime\": \"2019-01-01T00:00:00\", \"count\": 35836}, {\"starttime\": \"2019-02-01T00:00:00\", \"count\": 43571}, {\"starttime\": \"2019-03-01T00:00:00\", \"count\": 53565}, {\"starttime\": \"2019-04-01T00:00:00\", \"count\": 80716}, {\"starttime\": \"2019-05-01T00:00:00\", \"count\": 101312}, {\"starttime\": \"2019-06-01T00:00:00\", \"count\": 119164}, {\"starttime\": \"2019-07-01T00:00:00\", \"count\": 138899}, {\"starttime\": \"2019-08-01T00:00:00\", \"count\": 142440}, {\"starttime\": \"2019-09-01T00:00:00\", \"count\": 158308}, {\"starttime\": \"2019-10-01T00:00:00\", \"count\": 139695}, {\"starttime\": \"2019-11-01T00:00:00\", \"count\": 92082}, {\"starttime\": \"2019-12-01T00:00:00\", \"count\": 46427}, {\"starttime\": \"2020-01-01T00:00:00\", \"count\": 62769}, {\"starttime\": \"2020-02-01T00:00:00\", \"count\": 69172}, {\"starttime\": \"2020-03-01T00:00:00\", \"count\": 51236}, {\"starttime\": \"2020-04-01T00:00:00\", \"count\": 16081}, {\"starttime\": \"2020-05-01T00:00:00\", \"count\": 39573}, {\"starttime\": \"2020-06-01T00:00:00\", \"count\": 64069}, {\"starttime\": \"2020-07-01T00:00:00\", \"count\": 89094}, {\"starttime\": \"2020-08-01T00:00:00\", \"count\": 100348}, {\"starttime\": \"2020-09-01T00:00:00\", \"count\": 113925}, {\"starttime\": \"2020-10-01T00:00:00\", \"count\": 97847}, {\"starttime\": \"2020-11-01T00:00:00\", \"count\": 66896}, {\"starttime\": \"2020-12-01T00:00:00\", \"count\": 33182}, {\"starttime\": \"2021-01-01T00:00:00\", \"count\": 33861}, {\"starttime\": \"2021-02-01T00:00:00\", \"count\": 29559}, {\"starttime\": \"2021-03-01T00:00:00\", \"count\": 63117}, {\"starttime\": \"2021-04-01T00:00:00\", \"count\": 79782}, {\"starttime\": \"2021-05-01T00:00:00\", \"count\": 113223}, {\"starttime\": \"2021-06-01T00:00:00\", \"count\": 120462}, {\"starttime\": \"2021-07-01T00:00:00\", \"count\": 122696}, {\"starttime\": \"2021-08-01T00:00:00\", \"count\": 145408}, {\"starttime\": \"2021-09-01T00:00:00\", \"count\": 200001}, {\"starttime\": \"2021-10-01T00:00:00\", \"count\": 188775}, {\"starttime\": \"2021-11-01T00:00:00\", \"count\": 127679}, {\"starttime\": \"2021-12-01T00:00:00\", \"count\": 72267}, {\"starttime\": \"2022-01-01T00:00:00\", \"count\": 42808}, {\"starttime\": \"2022-02-01T00:00:00\", \"count\": 62724}, {\"starttime\": \"2022-03-01T00:00:00\", \"count\": 91365}, {\"starttime\": \"2022-04-01T00:00:00\", \"count\": 134199}, {\"starttime\": \"2022-05-01T00:00:00\", \"count\": 160519}, {\"starttime\": \"2022-06-01T00:00:00\", \"count\": 166985}, {\"starttime\": \"2022-07-01T00:00:00\", \"count\": 188376}, {\"starttime\": \"2022-08-01T00:00:00\", \"count\": 204405}, {\"starttime\": \"2022-09-01T00:00:00\", \"count\": 250140}, {\"starttime\": \"2022-10-01T00:00:00\", \"count\": 198493}, {\"starttime\": \"2022-11-01T00:00:00\", \"count\": 146378}, {\"starttime\": \"2022-12-01T00:00:00\", \"count\": 74283}]}}, {\"mode\": \"vega-lite\"});\n",
       "</script>"
      ],
      "text/plain": [
       "alt.Chart(...)"
      ]
     },
     "metadata": {},
     "output_type": "display_data"
    },
    {
     "data": {
      "text/html": [
       "\n",
       "<div id=\"altair-viz-9bd81d00cb0a49c6a586952e1e8d580d\"></div>\n",
       "<script type=\"text/javascript\">\n",
       "  var VEGA_DEBUG = (typeof VEGA_DEBUG == \"undefined\") ? {} : VEGA_DEBUG;\n",
       "  (function(spec, embedOpt){\n",
       "    let outputDiv = document.currentScript.previousElementSibling;\n",
       "    if (outputDiv.id !== \"altair-viz-9bd81d00cb0a49c6a586952e1e8d580d\") {\n",
       "      outputDiv = document.getElementById(\"altair-viz-9bd81d00cb0a49c6a586952e1e8d580d\");\n",
       "    }\n",
       "    const paths = {\n",
       "      \"vega\": \"https://cdn.jsdelivr.net/npm/vega@5?noext\",\n",
       "      \"vega-lib\": \"https://cdn.jsdelivr.net/npm/vega-lib?noext\",\n",
       "      \"vega-lite\": \"https://cdn.jsdelivr.net/npm/vega-lite@5.6.1?noext\",\n",
       "      \"vega-embed\": \"https://cdn.jsdelivr.net/npm/vega-embed@6?noext\",\n",
       "    };\n",
       "\n",
       "    function maybeLoadScript(lib, version) {\n",
       "      var key = `${lib.replace(\"-\", \"\")}_version`;\n",
       "      return (VEGA_DEBUG[key] == version) ?\n",
       "        Promise.resolve(paths[lib]) :\n",
       "        new Promise(function(resolve, reject) {\n",
       "          var s = document.createElement('script');\n",
       "          document.getElementsByTagName(\"head\")[0].appendChild(s);\n",
       "          s.async = true;\n",
       "          s.onload = () => {\n",
       "            VEGA_DEBUG[key] = version;\n",
       "            return resolve(paths[lib]);\n",
       "          };\n",
       "          s.onerror = () => reject(`Error loading script: ${paths[lib]}`);\n",
       "          s.src = paths[lib];\n",
       "        });\n",
       "    }\n",
       "\n",
       "    function showError(err) {\n",
       "      outputDiv.innerHTML = `<div class=\"error\" style=\"color:red;\">${err}</div>`;\n",
       "      throw err;\n",
       "    }\n",
       "\n",
       "    function displayChart(vegaEmbed) {\n",
       "      vegaEmbed(outputDiv, spec, embedOpt)\n",
       "        .catch(err => showError(`Javascript Error: ${err.message}<br>This usually means there's a typo in your chart specification. See the javascript console for the full traceback.`));\n",
       "    }\n",
       "\n",
       "    if(typeof define === \"function\" && define.amd) {\n",
       "      requirejs.config({paths});\n",
       "      require([\"vega-embed\"], displayChart, err => showError(`Error loading script: ${err.message}`));\n",
       "    } else {\n",
       "      maybeLoadScript(\"vega\", \"5\")\n",
       "        .then(() => maybeLoadScript(\"vega-lite\", \"5.6.1\"))\n",
       "        .then(() => maybeLoadScript(\"vega-embed\", \"6\"))\n",
       "        .catch(showError)\n",
       "        .then(() => displayChart(vegaEmbed));\n",
       "    }\n",
       "  })({\"config\": {\"view\": {\"continuousWidth\": 300, \"continuousHeight\": 300}}, \"data\": {\"name\": \"data-a8dc635e1006421d13a0cc4de7b14dd1\"}, \"mark\": {\"type\": \"line\"}, \"encoding\": {\"x\": {\"field\": \"starttime\", \"type\": \"temporal\"}, \"y\": {\"field\": \"count\", \"type\": \"quantitative\"}}, \"title\": \"Yearly Bluebikes rides starting/ending in Cambridge\", \"$schema\": \"https://vega.github.io/schema/vega-lite/v5.6.1.json\", \"datasets\": {\"data-a8dc635e1006421d13a0cc4de7b14dd1\": [{\"starttime\": \"2016-01-01T00:00:00\", \"count\": 556273}, {\"starttime\": \"2017-01-01T00:00:00\", \"count\": 616359}, {\"starttime\": \"2018-01-01T00:00:00\", \"count\": 837028}, {\"starttime\": \"2019-01-01T00:00:00\", \"count\": 1152015}, {\"starttime\": \"2020-01-01T00:00:00\", \"count\": 804192}, {\"starttime\": \"2021-01-01T00:00:00\", \"count\": 1296830}, {\"starttime\": \"2022-01-01T00:00:00\", \"count\": 1720675}]}}, {\"mode\": \"vega-lite\"});\n",
       "</script>"
      ],
      "text/plain": [
       "alt.Chart(...)"
      ]
     },
     "metadata": {},
     "output_type": "display_data"
    }
   ],
   "source": [
    "def linechart(df, title):\n",
    "    return altair.Chart(df.to_pandas()).mark_line().encode(x=\"starttime:T\", y=\"count:Q\").properties(title=title)\n",
    "\n",
    "display(linechart(monthly, 'Monthly Bluebikes rides starting/ending in Cambridge'))\n",
    "display(linechart(yearly, 'Yearly Bluebikes rides starting/ending in Cambridge'))"
   ]
  }
 ],
 "metadata": {
  "kernelspec": {
   "display_name": "Python 3 (ipykernel)",
   "language": "python",
   "name": "python3"
  },
  "language_info": {
   "codemirror_mode": {
    "name": "ipython",
    "version": 3
   },
   "file_extension": ".py",
   "mimetype": "text/x-python",
   "name": "python",
   "nbconvert_exporter": "python",
   "pygments_lexer": "ipython3",
   "version": "3.11.2"
  }
 },
 "nbformat": 4,
 "nbformat_minor": 5
}
