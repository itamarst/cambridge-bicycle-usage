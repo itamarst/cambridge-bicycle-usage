{
 "cells": [
  {
   "cell_type": "code",
   "execution_count": 2,
   "id": "3d55a297-7922-485a-af15-74959ff4f2f9",
   "metadata": {
    "tags": []
   },
   "outputs": [],
   "source": [
    "import polars as pl\n",
    "import altair"
   ]
  },
  {
   "cell_type": "code",
   "execution_count": 3,
   "id": "74e3afaa-c72a-4e03-b588-99b2e15f9b50",
   "metadata": {
    "tags": []
   },
   "outputs": [
    {
     "data": {
      "text/html": [
       "<div><style>\n",
       ".dataframe > thead > tr > th,\n",
       ".dataframe > tbody > tr > td {\n",
       "  text-align: right;\n",
       "}\n",
       "</style>\n",
       "<small>shape: (119, 2)</small><table border=\"1\" class=\"dataframe\"><thead><tr><th>name</th><th>City</th></tr><tr><td>str</td><td>str</td></tr></thead><tbody><tr><td>&quot;Harvard Univer…</td><td>&quot;Cambridge&quot;</td></tr><tr><td>&quot;Ames St at Mai…</td><td>&quot;Cambridge&quot;</td></tr><tr><td>&quot;Kendall Street…</td><td>&quot;Cambridge&quot;</td></tr><tr><td>&quot;MIT Pacific St…</td><td>&quot;Cambridge&quot;</td></tr><tr><td>&quot;Central Square…</td><td>&quot;Cambridge&quot;</td></tr><tr><td>&quot;One Broadway /…</td><td>&quot;Cambridge&quot;</td></tr><tr><td>&quot;Harvard Square…</td><td>&quot;Cambridge&quot;</td></tr><tr><td>&quot;CambridgeSide …</td><td>&quot;Cambridge&quot;</td></tr><tr><td>&quot;Cambridge St -…</td><td>&quot;Cambridge&quot;</td></tr><tr><td>&quot;MIT Stata Cent…</td><td>&quot;Cambridge&quot;</td></tr><tr><td>&quot;Harvard Kenned…</td><td>&quot;Cambridge&quot;</td></tr><tr><td>&quot;Harvard Square…</td><td>&quot;Cambridge&quot;</td></tr><tr><td>&hellip;</td><td>&hellip;</td></tr><tr><td>&quot;Harvard Square…</td><td>&quot;Cambridge&quot;</td></tr><tr><td>&quot;Galileo Galile…</td><td>&quot;Cambridge&quot;</td></tr><tr><td>&quot;Beacon St at W…</td><td>&quot;Cambridge&quot;</td></tr><tr><td>&quot;CambridgeSide …</td><td>&quot;Cambridge&quot;</td></tr><tr><td>&quot;Child Street a…</td><td>&quot;Cambridge&quot;</td></tr><tr><td>&quot;Raymond Park a…</td><td>&quot;Cambridge&quot;</td></tr><tr><td>&quot;Main Street/Al…</td><td>&quot;Cambridge&quot;</td></tr><tr><td>&quot;Harvard Univer…</td><td>&quot;Cambridge&quot;</td></tr><tr><td>&quot;Gore Street at…</td><td>&quot;Cambridge&quot;</td></tr><tr><td>&quot;Broad Canal Wa…</td><td>&quot;Cambridge&quot;</td></tr><tr><td>&quot;John Ahern Fie…</td><td>&quot;Cambridge&quot;</td></tr><tr><td>&quot;87-101 Cambrid…</td><td>&quot;Cambridge&quot;</td></tr></tbody></table></div>"
      ],
      "text/plain": [
       "shape: (119, 2)\n",
       "┌───────────────────────────────────┬───────────┐\n",
       "│ name                              ┆ City      │\n",
       "│ ---                               ┆ ---       │\n",
       "│ str                               ┆ str       │\n",
       "╞═══════════════════════════════════╪═══════════╡\n",
       "│ Harvard University Gund Hall at … ┆ Cambridge │\n",
       "│ Ames St at Main St                ┆ Cambridge │\n",
       "│ Kendall Street                    ┆ Cambridge │\n",
       "│ MIT Pacific St at Purrington St   ┆ Cambridge │\n",
       "│ …                                 ┆ …         │\n",
       "│ Gore Street at Lambert Street     ┆ Cambridge │\n",
       "│ Broad Canal Way at Third Street   ┆ Cambridge │\n",
       "│ John Ahern Field at Kennedy-Long… ┆ Cambridge │\n",
       "│ 87-101 Cambridgepark Drive        ┆ Cambridge │\n",
       "└───────────────────────────────────┴───────────┘"
      ]
     },
     "metadata": {},
     "output_type": "display_data"
    }
   ],
   "source": [
    "stations = pl.read_csv(\"data/bluebike_stations_geolocated.csv\", columns=[\"name\", \"City\"])\n",
    "cambridge_stations = stations.filter(pl.col(\"City\") == \"Cambridge\")\n",
    "display(cambridge_stations)\n",
    "pl.Config.set_fmt_str_lengths(200)\n",
    "cambridge_station_ids = {s for s in cambridge_stations.to_dict()[\"name\"]}"
   ]
  },
  {
   "cell_type": "code",
   "execution_count": 4,
   "id": "2608d751-990d-4517-8262-e58389396849",
   "metadata": {
    "tags": []
   },
   "outputs": [],
   "source": [
    "rides = pl.read_csv(\"data/20*.csv\", columns=[\"starttime\", \"start station id\", \"end station id\", \"start station name\", \"end station name\"]).with_columns(pl.col(\"starttime\").str.slice(0, 10).str.strptime(pl.Date, fmt=\"%Y-%m-%d\", strict=False)).sort(\"starttime\")"
   ]
  },
  {
   "cell_type": "code",
   "execution_count": 5,
   "id": "fc71fa5d-ed9d-455b-81cd-1053b8297c9c",
   "metadata": {
    "tags": []
   },
   "outputs": [
    {
     "data": {
      "text/html": [
       "<div><style>\n",
       ".dataframe > thead > tr > th,\n",
       ".dataframe > tbody > tr > td {\n",
       "  text-align: right;\n",
       "}\n",
       "</style>\n",
       "<small>shape: (3757281, 5)</small><table border=\"1\" class=\"dataframe\"><thead><tr><th>starttime</th><th>start station id</th><th>end station id</th><th>start station name</th><th>end station name</th></tr><tr><td>date</td><td>i64</td><td>i64</td><td>str</td><td>str</td></tr></thead><tbody><tr><td>2022-01-01</td><td>178</td><td>74</td><td>&quot;MIT Pacific St at Purrington St&quot;</td><td>&quot;Harvard Square at Mass Ave/ Dunster&quot;</td></tr><tr><td>2022-01-01</td><td>189</td><td>178</td><td>&quot;Kendall T&quot;</td><td>&quot;MIT Pacific St at Purrington St&quot;</td></tr><tr><td>2022-01-01</td><td>94</td><td>356</td><td>&quot;Main St at Austin St&quot;</td><td>&quot;Charlestown Navy Yard&quot;</td></tr><tr><td>2022-01-01</td><td>94</td><td>356</td><td>&quot;Main St at Austin St&quot;</td><td>&quot;Charlestown Navy Yard&quot;</td></tr><tr><td>2022-01-01</td><td>19</td><td>41</td><td>&quot;Park Dr at Buswell St&quot;</td><td>&quot;Packard&#x27;s Corner - Commonwealth Ave at Brighton Ave&quot;</td></tr><tr><td>2022-01-01</td><td>107</td><td>68</td><td>&quot;Ames St at Main St&quot;</td><td>&quot;Central Square at Mass Ave / Essex St&quot;</td></tr><tr><td>2022-01-01</td><td>36</td><td>36</td><td>&quot;Copley Square - Dartmouth St at Boylston St&quot;</td><td>&quot;Copley Square - Dartmouth St at Boylston St&quot;</td></tr><tr><td>2022-01-01</td><td>58</td><td>58</td><td>&quot;Mugar Way at Beacon St&quot;</td><td>&quot;Mugar Way at Beacon St&quot;</td></tr><tr><td>2022-01-01</td><td>60</td><td>363</td><td>&quot;Charles Circle - Charles St at Cambridge St&quot;</td><td>&quot;Harrison Ave at Mullins Way&quot;</td></tr><tr><td>2022-01-01</td><td>178</td><td>107</td><td>&quot;MIT Pacific St at Purrington St&quot;</td><td>&quot;Ames St at Main St&quot;</td></tr><tr><td>2022-01-01</td><td>60</td><td>363</td><td>&quot;Charles Circle - Charles St at Cambridge St&quot;</td><td>&quot;Harrison Ave at Mullins Way&quot;</td></tr><tr><td>2022-01-01</td><td>4</td><td>4</td><td>&quot;Tremont St at E Berkeley St&quot;</td><td>&quot;Tremont St at E Berkeley St&quot;</td></tr><tr><td>&hellip;</td><td>&hellip;</td><td>&hellip;</td><td>&hellip;</td><td>&hellip;</td></tr><tr><td>2022-12-31</td><td>71</td><td>20</td><td>&quot;Conway Park - Somerville Avenue&quot;</td><td>&quot;Aquarium T Stop - 200 Atlantic Ave&quot;</td></tr><tr><td>2022-12-31</td><td>46</td><td>49</td><td>&quot;Christian Science Plaza - Massachusetts Ave at Westland Ave&quot;</td><td>&quot;Stuart St at Charles St&quot;</td></tr><tr><td>2022-12-31</td><td>6</td><td>54</td><td>&quot;Cambridge St at Joy St&quot;</td><td>&quot;Tremont St at West St&quot;</td></tr><tr><td>2022-12-31</td><td>21</td><td>36</td><td>&quot;Prudential Center - 101 Huntington Ave&quot;</td><td>&quot;Copley Square - Dartmouth St at Boylston St&quot;</td></tr><tr><td>2022-12-31</td><td>452</td><td>370</td><td>&quot;1200 Beacon St&quot;</td><td>&quot;Dartmouth St at Newbury St&quot;</td></tr><tr><td>2022-12-31</td><td>399</td><td>36</td><td>&quot;Shawmut Ave at Oak St W&quot;</td><td>&quot;Copley Square - Dartmouth St at Boylston St&quot;</td></tr><tr><td>2022-12-31</td><td>399</td><td>36</td><td>&quot;Shawmut Ave at Oak St W&quot;</td><td>&quot;Copley Square - Dartmouth St at Boylston St&quot;</td></tr><tr><td>2022-12-31</td><td>186</td><td>136</td><td>&quot;Congress St at Northern Ave&quot;</td><td>&quot;ID Building West&quot;</td></tr><tr><td>2022-12-31</td><td>12</td><td>417</td><td>&quot;Ruggles T Stop - Columbus Ave at Melnea Cass Blvd&quot;</td><td>&quot;Columbus Ave at W. Canton St&quot;</td></tr><tr><td>2022-12-31</td><td>49</td><td>16</td><td>&quot;Stuart St at Charles St&quot;</td><td>&quot;Back Bay T Stop - Dartmouth St at Stuart St&quot;</td></tr><tr><td>2022-12-31</td><td>39</td><td>43</td><td>&quot;Washington St at Rutland St&quot;</td><td>&quot;Rowes Wharf at Atlantic Ave&quot;</td></tr><tr><td>2022-12-31</td><td>39</td><td>43</td><td>&quot;Washington St at Rutland St&quot;</td><td>&quot;Rowes Wharf at Atlantic Ave&quot;</td></tr></tbody></table></div>"
      ],
      "text/plain": [
       "shape: (3_757_281, 5)\n",
       "┌────────────┬──────────────────┬────────────────┬────────────────────────┬────────────────────────┐\n",
       "│ starttime  ┆ start station id ┆ end station id ┆ start station name     ┆ end station name       │\n",
       "│ ---        ┆ ---              ┆ ---            ┆ ---                    ┆ ---                    │\n",
       "│ date       ┆ i64              ┆ i64            ┆ str                    ┆ str                    │\n",
       "╞════════════╪══════════════════╪════════════════╪════════════════════════╪════════════════════════╡\n",
       "│ 2022-01-01 ┆ 178              ┆ 74             ┆ MIT Pacific St at      ┆ Harvard Square at Mass │\n",
       "│            ┆                  ┆                ┆ Purrington St          ┆ Ave/ Dunster           │\n",
       "│ 2022-01-01 ┆ 189              ┆ 178            ┆ Kendall T              ┆ MIT Pacific St at      │\n",
       "│            ┆                  ┆                ┆                        ┆ Purrington St          │\n",
       "│ 2022-01-01 ┆ 94               ┆ 356            ┆ Main St at Austin St   ┆ Charlestown Navy Yard  │\n",
       "│ 2022-01-01 ┆ 94               ┆ 356            ┆ Main St at Austin St   ┆ Charlestown Navy Yard  │\n",
       "│ …          ┆ …                ┆ …              ┆ …                      ┆ …                      │\n",
       "│ 2022-12-31 ┆ 12               ┆ 417            ┆ Ruggles T Stop -       ┆ Columbus Ave at W.     │\n",
       "│            ┆                  ┆                ┆ Columbus Ave at Melnea ┆ Canton St              │\n",
       "│            ┆                  ┆                ┆ Cass Blvd              ┆                        │\n",
       "│ 2022-12-31 ┆ 49               ┆ 16             ┆ Stuart St at Charles   ┆ Back Bay T Stop -      │\n",
       "│            ┆                  ┆                ┆ St                     ┆ Dartmouth St at Stuart │\n",
       "│            ┆                  ┆                ┆                        ┆ St                     │\n",
       "│ 2022-12-31 ┆ 39               ┆ 43             ┆ Washington St at       ┆ Rowes Wharf at         │\n",
       "│            ┆                  ┆                ┆ Rutland St             ┆ Atlantic Ave           │\n",
       "│ 2022-12-31 ┆ 39               ┆ 43             ┆ Washington St at       ┆ Rowes Wharf at         │\n",
       "│            ┆                  ┆                ┆ Rutland St             ┆ Atlantic Ave           │\n",
       "└────────────┴──────────────────┴────────────────┴────────────────────────┴────────────────────────┘"
      ]
     },
     "execution_count": 5,
     "metadata": {},
     "output_type": "execute_result"
    }
   ],
   "source": [
    "rides.filter(pl.col(\"starttime\").dt.year() == 2022)"
   ]
  },
  {
   "cell_type": "code",
   "execution_count": 6,
   "id": "bb1121a0-f12f-4cca-ac08-712064cc3ce9",
   "metadata": {
    "tags": []
   },
   "outputs": [
    {
     "data": {
      "text/html": [
       "<div><style>\n",
       ".dataframe > thead > tr > th,\n",
       ".dataframe > tbody > tr > td {\n",
       "  text-align: right;\n",
       "}\n",
       "</style>\n",
       "<small>shape: (7482990, 5)</small><table border=\"1\" class=\"dataframe\"><thead><tr><th>starttime</th><th>start station id</th><th>end station id</th><th>start station name</th><th>end station name</th></tr><tr><td>date</td><td>i64</td><td>i64</td><td>str</td><td>str</td></tr></thead><tbody><tr><td>2016-01-01</td><td>36</td><td>67</td><td>&quot;Boston Public Library - 700 Boylston St.&quot;</td><td>&quot;MIT at Mass Ave / Amherst St&quot;</td></tr><tr><td>2016-01-01</td><td>110</td><td>88</td><td>&quot;Harvard University Gund Hall at Quincy St / Kirkland S&quot;</td><td>&quot;Inman Square at Vellucci Plaza / Hampshire St&quot;</td></tr><tr><td>2016-01-01</td><td>107</td><td>176</td><td>&quot;Ames St at Main St&quot;</td><td>&quot;Lesley University&quot;</td></tr><tr><td>2016-01-01</td><td>141</td><td>90</td><td>&quot;Kendall Street&quot;</td><td>&quot;Lechmere Station at Cambridge St / First St&quot;</td></tr><tr><td>2016-01-01</td><td>178</td><td>80</td><td>&quot;MIT Pacific St at Purrington St&quot;</td><td>&quot;MIT Stata Center at Vassar St / Main St&quot;</td></tr><tr><td>2016-01-01</td><td>68</td><td>178</td><td>&quot;Central Square at Mass Ave / Essex St&quot;</td><td>&quot;MIT Pacific St at Purrington St&quot;</td></tr><tr><td>2016-01-01</td><td>72</td><td>178</td><td>&quot;One Broadway / Kendall Sq at Main St / 3rd St&quot;</td><td>&quot;MIT Pacific St at Purrington St&quot;</td></tr><tr><td>2016-01-01</td><td>68</td><td>177</td><td>&quot;Central Square at Mass Ave / Essex St&quot;</td><td>&quot;University Park&quot;</td></tr><tr><td>2016-01-01</td><td>68</td><td>177</td><td>&quot;Central Square at Mass Ave / Essex St&quot;</td><td>&quot;University Park&quot;</td></tr><tr><td>2016-01-01</td><td>68</td><td>88</td><td>&quot;Central Square at Mass Ave / Essex St&quot;</td><td>&quot;Inman Square at Vellucci Plaza / Hampshire St&quot;</td></tr><tr><td>2016-01-01</td><td>74</td><td>22</td><td>&quot;Harvard Square at Mass Ave/ Dunster&quot;</td><td>&quot;South Station - 700 Atlantic Ave.&quot;</td></tr><tr><td>2016-01-01</td><td>74</td><td>22</td><td>&quot;Harvard Square at Mass Ave/ Dunster&quot;</td><td>&quot;South Station - 700 Atlantic Ave.&quot;</td></tr><tr><td>&hellip;</td><td>&hellip;</td><td>&hellip;</td><td>&hellip;</td><td>&hellip;</td></tr><tr><td>2023-03-31</td><td>330</td><td>107</td><td>&quot;30 Dane St&quot;</td><td>&quot;Ames St at Main St&quot;</td></tr><tr><td>2023-03-31</td><td>89</td><td>79</td><td>&quot;Harvard Law School at Mass Ave / Jarvis St&quot;</td><td>&quot;Beacon St at Washington / Kirkland&quot;</td></tr><tr><td>2023-03-31</td><td>228</td><td>60</td><td>&quot;One Memorial Drive&quot;</td><td>&quot;Charles Circle - Charles St at Cambridge St&quot;</td></tr><tr><td>2023-03-31</td><td>515</td><td>71</td><td>&quot;955 Mass Ave&quot;</td><td>&quot;Conway Park - Somerville Avenue&quot;</td></tr><tr><td>2023-03-31</td><td>177</td><td>590</td><td>&quot;University Park&quot;</td><td>&quot;John Ahern Field at Kennedy-Longfellow School&quot;</td></tr><tr><td>2023-03-31</td><td>380</td><td>381</td><td>&quot;Mass Ave at Albany St&quot;</td><td>&quot;Inman Square at Springfield St.&quot;</td></tr><tr><td>2023-03-31</td><td>139</td><td>110</td><td>&quot;Dana Park&quot;</td><td>&quot;Harvard University Gund Hall at Quincy St / Kirkland St&quot;</td></tr><tr><td>2023-03-31</td><td>566</td><td>413</td><td>&quot;Main Street/Albany Street/Technology Square&quot;</td><td>&quot;Kennedy-Longfellow School 158 Spring St&quot;</td></tr><tr><td>2023-03-31</td><td>61</td><td>178</td><td>&quot;Boylston St at Fairfield St&quot;</td><td>&quot;MIT Pacific St at Purrington St&quot;</td></tr><tr><td>2023-03-31</td><td>381</td><td>36</td><td>&quot;Inman Square at Springfield St.&quot;</td><td>&quot;Copley Square - Dartmouth St at Boylston St&quot;</td></tr><tr><td>2023-03-31</td><td>4</td><td>437</td><td>&quot;Tremont St at E Berkeley St&quot;</td><td>&quot;Berkshire Street at Cambridge Street&quot;</td></tr><tr><td>2023-03-31</td><td>515</td><td>471</td><td>&quot;955 Mass Ave&quot;</td><td>&quot;MIT Carleton St at Amherst St&quot;</td></tr></tbody></table></div>"
      ],
      "text/plain": [
       "shape: (7_482_990, 5)\n",
       "┌────────────┬──────────────────┬────────────────┬────────────────────────┬────────────────────────┐\n",
       "│ starttime  ┆ start station id ┆ end station id ┆ start station name     ┆ end station name       │\n",
       "│ ---        ┆ ---              ┆ ---            ┆ ---                    ┆ ---                    │\n",
       "│ date       ┆ i64              ┆ i64            ┆ str                    ┆ str                    │\n",
       "╞════════════╪══════════════════╪════════════════╪════════════════════════╪════════════════════════╡\n",
       "│ 2016-01-01 ┆ 36               ┆ 67             ┆ Boston Public Library  ┆ MIT at Mass Ave /      │\n",
       "│            ┆                  ┆                ┆ - 700 Boylston St.     ┆ Amherst St             │\n",
       "│ 2016-01-01 ┆ 110              ┆ 88             ┆ Harvard University     ┆ Inman Square at        │\n",
       "│            ┆                  ┆                ┆ Gund Hall at Quincy St ┆ Vellucci Plaza /       │\n",
       "│            ┆                  ┆                ┆ / Kirkland S           ┆ Hampshire St           │\n",
       "│ 2016-01-01 ┆ 107              ┆ 176            ┆ Ames St at Main St     ┆ Lesley University      │\n",
       "│ 2016-01-01 ┆ 141              ┆ 90             ┆ Kendall Street         ┆ Lechmere Station at    │\n",
       "│            ┆                  ┆                ┆                        ┆ Cambridge St / First   │\n",
       "│            ┆                  ┆                ┆                        ┆ St                     │\n",
       "│ …          ┆ …                ┆ …              ┆ …                      ┆ …                      │\n",
       "│ 2023-03-31 ┆ 61               ┆ 178            ┆ Boylston St at         ┆ MIT Pacific St at      │\n",
       "│            ┆                  ┆                ┆ Fairfield St           ┆ Purrington St          │\n",
       "│ 2023-03-31 ┆ 381              ┆ 36             ┆ Inman Square at        ┆ Copley Square -        │\n",
       "│            ┆                  ┆                ┆ Springfield St.        ┆ Dartmouth St at        │\n",
       "│            ┆                  ┆                ┆                        ┆ Boylston St            │\n",
       "│ 2023-03-31 ┆ 4                ┆ 437            ┆ Tremont St at E        ┆ Berkshire Street at    │\n",
       "│            ┆                  ┆                ┆ Berkeley St            ┆ Cambridge Street       │\n",
       "│ 2023-03-31 ┆ 515              ┆ 471            ┆ 955 Mass Ave           ┆ MIT Carleton St at     │\n",
       "│            ┆                  ┆                ┆                        ┆ Amherst St             │\n",
       "└────────────┴──────────────────┴────────────────┴────────────────────────┴────────────────────────┘"
      ]
     },
     "execution_count": 6,
     "metadata": {},
     "output_type": "execute_result"
    }
   ],
   "source": [
    "cambridge_rides = rides.filter(pl.col(\"start station name\").is_in(cambridge_station_ids) | pl.col(\"end station name\").is_in(cambridge_station_ids))\n",
    "cambridge_rides"
   ]
  },
  {
   "cell_type": "code",
   "execution_count": 7,
   "id": "e95afdba-4113-4379-9b1d-20d96377da99",
   "metadata": {
    "tags": []
   },
   "outputs": [
    {
     "data": {
      "text/html": [
       "<div><style>\n",
       ".dataframe > thead > tr > th,\n",
       ".dataframe > tbody > tr > td {\n",
       "  text-align: right;\n",
       "}\n",
       "</style>\n",
       "<small>shape: (1, 1)</small><table border=\"1\" class=\"dataframe\"><thead><tr><th>count</th></tr><tr><td>u32</td></tr></thead><tbody><tr><td>7482990</td></tr></tbody></table></div>"
      ],
      "text/plain": [
       "shape: (1, 1)\n",
       "┌─────────┐\n",
       "│ count   │\n",
       "│ ---     │\n",
       "│ u32     │\n",
       "╞═════════╡\n",
       "│ 7482990 │\n",
       "└─────────┘"
      ]
     },
     "metadata": {},
     "output_type": "display_data"
    },
    {
     "data": {
      "text/html": [
       "<div><style>\n",
       ".dataframe > thead > tr > th,\n",
       ".dataframe > tbody > tr > td {\n",
       "  text-align: right;\n",
       "}\n",
       "</style>\n",
       "<small>shape: (1, 1)</small><table border=\"1\" class=\"dataframe\"><thead><tr><th>count</th></tr><tr><td>u32</td></tr></thead><tbody><tr><td>7482990</td></tr></tbody></table></div>"
      ],
      "text/plain": [
       "shape: (1, 1)\n",
       "┌─────────┐\n",
       "│ count   │\n",
       "│ ---     │\n",
       "│ u32     │\n",
       "╞═════════╡\n",
       "│ 7482990 │\n",
       "└─────────┘"
      ]
     },
     "metadata": {},
     "output_type": "display_data"
    },
    {
     "data": {
      "text/html": [
       "<div><style>\n",
       ".dataframe > thead > tr > th,\n",
       ".dataframe > tbody > tr > td {\n",
       "  text-align: right;\n",
       "}\n",
       "</style>\n",
       "<small>shape: (15, 2)</small><table border=\"1\" class=\"dataframe\"><thead><tr><th>starttime</th><th>count</th></tr><tr><td>date</td><td>u32</td></tr></thead><tbody><tr><td>2022-01-01</td><td>43555</td></tr><tr><td>2022-02-01</td><td>63646</td></tr><tr><td>2022-03-01</td><td>93223</td></tr><tr><td>2022-04-01</td><td>137045</td></tr><tr><td>2022-05-01</td><td>163078</td></tr><tr><td>2022-06-01</td><td>169680</td></tr><tr><td>2022-07-01</td><td>191386</td></tr><tr><td>2022-08-01</td><td>207982</td></tr><tr><td>2022-09-01</td><td>254331</td></tr><tr><td>2022-10-01</td><td>201566</td></tr><tr><td>2022-11-01</td><td>148644</td></tr><tr><td>2022-12-01</td><td>75300</td></tr><tr><td>2023-01-01</td><td>72857</td></tr><tr><td>2023-02-01</td><td>85216</td></tr><tr><td>2023-03-01</td><td>105441</td></tr></tbody></table></div>"
      ],
      "text/plain": [
       "shape: (15, 2)\n",
       "┌────────────┬────────┐\n",
       "│ starttime  ┆ count  │\n",
       "│ ---        ┆ ---    │\n",
       "│ date       ┆ u32    │\n",
       "╞════════════╪════════╡\n",
       "│ 2022-01-01 ┆ 43555  │\n",
       "│ 2022-02-01 ┆ 63646  │\n",
       "│ 2022-03-01 ┆ 93223  │\n",
       "│ 2022-04-01 ┆ 137045 │\n",
       "│ …          ┆ …      │\n",
       "│ 2022-12-01 ┆ 75300  │\n",
       "│ 2023-01-01 ┆ 72857  │\n",
       "│ 2023-02-01 ┆ 85216  │\n",
       "│ 2023-03-01 ┆ 105441 │\n",
       "└────────────┴────────┘"
      ]
     },
     "metadata": {},
     "output_type": "display_data"
    },
    {
     "data": {
      "text/html": [
       "<div><style>\n",
       ".dataframe > thead > tr > th,\n",
       ".dataframe > tbody > tr > td {\n",
       "  text-align: right;\n",
       "}\n",
       "</style>\n",
       "<small>shape: (8, 2)</small><table border=\"1\" class=\"dataframe\"><thead><tr><th>starttime</th><th>count</th></tr><tr><td>date</td><td>u32</td></tr></thead><tbody><tr><td>2016-01-01</td><td>588701</td></tr><tr><td>2017-01-01</td><td>651458</td></tr><tr><td>2018-01-01</td><td>878302</td></tr><tr><td>2019-01-01</td><td>1192178</td></tr><tr><td>2020-01-01</td><td>831471</td></tr><tr><td>2021-01-01</td><td>1327930</td></tr><tr><td>2022-01-01</td><td>1749436</td></tr><tr><td>2023-01-01</td><td>263514</td></tr></tbody></table></div>"
      ],
      "text/plain": [
       "shape: (8, 2)\n",
       "┌────────────┬─────────┐\n",
       "│ starttime  ┆ count   │\n",
       "│ ---        ┆ ---     │\n",
       "│ date       ┆ u32     │\n",
       "╞════════════╪═════════╡\n",
       "│ 2016-01-01 ┆ 588701  │\n",
       "│ 2017-01-01 ┆ 651458  │\n",
       "│ 2018-01-01 ┆ 878302  │\n",
       "│ 2019-01-01 ┆ 1192178 │\n",
       "│ 2020-01-01 ┆ 831471  │\n",
       "│ 2021-01-01 ┆ 1327930 │\n",
       "│ 2022-01-01 ┆ 1749436 │\n",
       "│ 2023-01-01 ┆ 263514  │\n",
       "└────────────┴─────────┘"
      ]
     },
     "metadata": {},
     "output_type": "display_data"
    }
   ],
   "source": [
    "def by_month(df):\n",
    "    return df.groupby_dynamic(\"starttime\", every=\"1mo\").agg(pl.count())\n",
    "\n",
    "def by_year(df):\n",
    "    return df.groupby_dynamic(\"starttime\", every=\"1y\").agg(pl.count())\n",
    "\n",
    "monthly = by_month(cambridge_rides)\n",
    "display(monthly.select([pl.col(\"count\").sum()]))\n",
    "yearly = by_year(cambridge_rides)\n",
    "display(yearly.select([pl.col(\"count\").sum()]))\n",
    "display(monthly.filter(pl.col(\"starttime\").dt.year() >= 2022))\n",
    "display(yearly)"
   ]
  },
  {
   "cell_type": "code",
   "execution_count": 8,
   "id": "db262740-3344-4710-93ed-551ee1b4f0fa",
   "metadata": {
    "tags": []
   },
   "outputs": [
    {
     "data": {
      "text/html": [
       "<div><style>\n",
       ".dataframe > thead > tr > th,\n",
       ".dataframe > tbody > tr > td {\n",
       "  text-align: right;\n",
       "}\n",
       "</style>\n",
       "<small>shape: (237697, 7)</small><table border=\"1\" class=\"dataframe\"><thead><tr><th>DateTime</th><th>Day</th><th>Date</th><th>Time</th><th>Total</th><th>Westbound</th><th>Eastbound</th></tr><tr><td>str</td><td>cat</td><td>date</td><td>time</td><td>i64</td><td>i64</td><td>i64</td></tr></thead><tbody><tr><td>&quot;01/01/2016 12:00:00 AM&quot;</td><td>&quot;Friday&quot;</td><td>2016-01-01</td><td>00:00:00</td><td>1</td><td>1</td><td>0</td></tr><tr><td>&quot;01/01/2016 12:15:00 AM&quot;</td><td>&quot;Friday&quot;</td><td>2016-01-01</td><td>00:15:00</td><td>1</td><td>1</td><td>0</td></tr><tr><td>&quot;01/01/2016 12:30:00 AM&quot;</td><td>&quot;Friday&quot;</td><td>2016-01-01</td><td>00:30:00</td><td>1</td><td>1</td><td>0</td></tr><tr><td>&quot;01/01/2016 12:45:00 AM&quot;</td><td>&quot;Friday&quot;</td><td>2016-01-01</td><td>00:45:00</td><td>0</td><td>0</td><td>0</td></tr><tr><td>&quot;01/01/2016 01:00:00 AM&quot;</td><td>&quot;Friday&quot;</td><td>2016-01-01</td><td>01:00:00</td><td>0</td><td>0</td><td>0</td></tr><tr><td>&quot;01/01/2016 01:15:00 AM&quot;</td><td>&quot;Friday&quot;</td><td>2016-01-01</td><td>01:15:00</td><td>0</td><td>0</td><td>0</td></tr><tr><td>&quot;01/01/2016 01:30:00 AM&quot;</td><td>&quot;Friday&quot;</td><td>2016-01-01</td><td>01:30:00</td><td>0</td><td>0</td><td>0</td></tr><tr><td>&quot;01/01/2016 01:45:00 AM&quot;</td><td>&quot;Friday&quot;</td><td>2016-01-01</td><td>01:45:00</td><td>1</td><td>0</td><td>1</td></tr><tr><td>&quot;01/01/2016 02:00:00 AM&quot;</td><td>&quot;Friday&quot;</td><td>2016-01-01</td><td>02:00:00</td><td>1</td><td>1</td><td>0</td></tr><tr><td>&quot;01/01/2016 02:15:00 AM&quot;</td><td>&quot;Friday&quot;</td><td>2016-01-01</td><td>02:15:00</td><td>1</td><td>1</td><td>0</td></tr><tr><td>&quot;01/01/2016 02:30:00 AM&quot;</td><td>&quot;Friday&quot;</td><td>2016-01-01</td><td>02:30:00</td><td>1</td><td>1</td><td>0</td></tr><tr><td>&quot;01/01/2016 02:45:00 AM&quot;</td><td>&quot;Friday&quot;</td><td>2016-01-01</td><td>02:45:00</td><td>0</td><td>0</td><td>0</td></tr><tr><td>&hellip;</td><td>&hellip;</td><td>&hellip;</td><td>&hellip;</td><td>&hellip;</td><td>&hellip;</td><td>&hellip;</td></tr><tr><td>&quot;12/31/2022 09:00:00 PM&quot;</td><td>&quot;Saturday&quot;</td><td>2022-12-31</td><td>21:00:00</td><td>2</td><td>2</td><td>0</td></tr><tr><td>&quot;12/31/2022 09:15:00 PM&quot;</td><td>&quot;Saturday&quot;</td><td>2022-12-31</td><td>21:15:00</td><td>0</td><td>0</td><td>0</td></tr><tr><td>&quot;12/31/2022 09:30:00 PM&quot;</td><td>&quot;Saturday&quot;</td><td>2022-12-31</td><td>21:30:00</td><td>0</td><td>0</td><td>0</td></tr><tr><td>&quot;12/31/2022 09:45:00 PM&quot;</td><td>&quot;Saturday&quot;</td><td>2022-12-31</td><td>21:45:00</td><td>0</td><td>0</td><td>0</td></tr><tr><td>&quot;12/31/2022 10:00:00 PM&quot;</td><td>&quot;Saturday&quot;</td><td>2022-12-31</td><td>22:00:00</td><td>0</td><td>0</td><td>0</td></tr><tr><td>&quot;12/31/2022 10:15:00 PM&quot;</td><td>&quot;Saturday&quot;</td><td>2022-12-31</td><td>22:15:00</td><td>1</td><td>0</td><td>1</td></tr><tr><td>&quot;12/31/2022 10:30:00 PM&quot;</td><td>&quot;Saturday&quot;</td><td>2022-12-31</td><td>22:30:00</td><td>2</td><td>2</td><td>0</td></tr><tr><td>&quot;12/31/2022 10:45:00 PM&quot;</td><td>&quot;Saturday&quot;</td><td>2022-12-31</td><td>22:45:00</td><td>0</td><td>0</td><td>0</td></tr><tr><td>&quot;12/31/2022 11:00:00 PM&quot;</td><td>&quot;Saturday&quot;</td><td>2022-12-31</td><td>23:00:00</td><td>0</td><td>0</td><td>0</td></tr><tr><td>&quot;12/31/2022 11:15:00 PM&quot;</td><td>&quot;Saturday&quot;</td><td>2022-12-31</td><td>23:15:00</td><td>2</td><td>1</td><td>1</td></tr><tr><td>&quot;12/31/2022 11:30:00 PM&quot;</td><td>&quot;Saturday&quot;</td><td>2022-12-31</td><td>23:30:00</td><td>0</td><td>0</td><td>0</td></tr><tr><td>&quot;12/31/2022 11:45:00 PM&quot;</td><td>&quot;Saturday&quot;</td><td>2022-12-31</td><td>23:45:00</td><td>0</td><td>0</td><td>0</td></tr></tbody></table></div>"
      ],
      "text/plain": [
       "shape: (237_697, 7)\n",
       "┌────────────────────────┬──────────┬────────────┬──────────┬───────┬───────────┬───────────┐\n",
       "│ DateTime               ┆ Day      ┆ Date       ┆ Time     ┆ Total ┆ Westbound ┆ Eastbound │\n",
       "│ ---                    ┆ ---      ┆ ---        ┆ ---      ┆ ---   ┆ ---       ┆ ---       │\n",
       "│ str                    ┆ cat      ┆ date       ┆ time     ┆ i64   ┆ i64       ┆ i64       │\n",
       "╞════════════════════════╪══════════╪════════════╪══════════╪═══════╪═══════════╪═══════════╡\n",
       "│ 01/01/2016 12:00:00 AM ┆ Friday   ┆ 2016-01-01 ┆ 00:00:00 ┆ 1     ┆ 1         ┆ 0         │\n",
       "│ 01/01/2016 12:15:00 AM ┆ Friday   ┆ 2016-01-01 ┆ 00:15:00 ┆ 1     ┆ 1         ┆ 0         │\n",
       "│ 01/01/2016 12:30:00 AM ┆ Friday   ┆ 2016-01-01 ┆ 00:30:00 ┆ 1     ┆ 1         ┆ 0         │\n",
       "│ 01/01/2016 12:45:00 AM ┆ Friday   ┆ 2016-01-01 ┆ 00:45:00 ┆ 0     ┆ 0         ┆ 0         │\n",
       "│ …                      ┆ …        ┆ …          ┆ …        ┆ …     ┆ …         ┆ …         │\n",
       "│ 12/31/2022 11:00:00 PM ┆ Saturday ┆ 2022-12-31 ┆ 23:00:00 ┆ 0     ┆ 0         ┆ 0         │\n",
       "│ 12/31/2022 11:15:00 PM ┆ Saturday ┆ 2022-12-31 ┆ 23:15:00 ┆ 2     ┆ 1         ┆ 1         │\n",
       "│ 12/31/2022 11:30:00 PM ┆ Saturday ┆ 2022-12-31 ┆ 23:30:00 ┆ 0     ┆ 0         ┆ 0         │\n",
       "│ 12/31/2022 11:45:00 PM ┆ Saturday ┆ 2022-12-31 ┆ 23:45:00 ┆ 0     ┆ 0         ┆ 0         │\n",
       "└────────────────────────┴──────────┴────────────┴──────────┴───────┴───────────┴───────────┘"
      ]
     },
     "execution_count": 8,
     "metadata": {},
     "output_type": "execute_result"
    }
   ],
   "source": [
    "from datetime import datetime\n",
    "\n",
    "broadway = pl.read_csv(\"data/broadway.csv.gz\", dtypes={\"Day\": pl.Categorical}, try_parse_dates=True).with_columns(pl.col(\"Date\").str.strptime(pl.Date, fmt=\"%m/%d/%Y\")).sort(\"Date\")\n",
    "# Filter out partial months\n",
    "broadway = broadway.filter((pl.col(\"Date\") >= datetime(2016, 1, 1)) & (pl.col(\"Date\") < datetime(2023, 1, 1)))\n",
    "broadway"
   ]
  },
  {
   "cell_type": "code",
   "execution_count": 9,
   "id": "332b23b8-01ad-41c4-a955-2d6f09c9cfd4",
   "metadata": {
    "tags": []
   },
   "outputs": [
    {
     "data": {
      "text/html": [
       "<div><style>\n",
       ".dataframe > thead > tr > th,\n",
       ".dataframe > tbody > tr > td {\n",
       "  text-align: right;\n",
       "}\n",
       "</style>\n",
       "<small>shape: (7, 2)</small><table border=\"1\" class=\"dataframe\"><thead><tr><th>Date</th><th>Broadway count</th></tr><tr><td>i32</td><td>i64</td></tr></thead><tbody><tr><td>2016</td><td>383844</td></tr><tr><td>2017</td><td>336919</td></tr><tr><td>2018</td><td>315111</td></tr><tr><td>2019</td><td>428411</td></tr><tr><td>2020</td><td>271296</td></tr><tr><td>2021</td><td>292089</td></tr><tr><td>2022</td><td>324530</td></tr></tbody></table></div>"
      ],
      "text/plain": [
       "shape: (7, 2)\n",
       "┌──────┬────────────────┐\n",
       "│ Date ┆ Broadway count │\n",
       "│ ---  ┆ ---            │\n",
       "│ i32  ┆ i64            │\n",
       "╞══════╪════════════════╡\n",
       "│ 2016 ┆ 383844         │\n",
       "│ 2017 ┆ 336919         │\n",
       "│ 2018 ┆ 315111         │\n",
       "│ 2019 ┆ 428411         │\n",
       "│ 2020 ┆ 271296         │\n",
       "│ 2021 ┆ 292089         │\n",
       "│ 2022 ┆ 324530         │\n",
       "└──────┴────────────────┘"
      ]
     },
     "metadata": {},
     "output_type": "display_data"
    },
    {
     "data": {
      "text/html": [
       "\n",
       "<div id=\"altair-viz-b9d55ff5b23d4264bc18e0b67a3ebe5a\"></div>\n",
       "<script type=\"text/javascript\">\n",
       "  var VEGA_DEBUG = (typeof VEGA_DEBUG == \"undefined\") ? {} : VEGA_DEBUG;\n",
       "  (function(spec, embedOpt){\n",
       "    let outputDiv = document.currentScript.previousElementSibling;\n",
       "    if (outputDiv.id !== \"altair-viz-b9d55ff5b23d4264bc18e0b67a3ebe5a\") {\n",
       "      outputDiv = document.getElementById(\"altair-viz-b9d55ff5b23d4264bc18e0b67a3ebe5a\");\n",
       "    }\n",
       "    const paths = {\n",
       "      \"vega\": \"https://cdn.jsdelivr.net/npm/vega@5?noext\",\n",
       "      \"vega-lib\": \"https://cdn.jsdelivr.net/npm/vega-lib?noext\",\n",
       "      \"vega-lite\": \"https://cdn.jsdelivr.net/npm/vega-lite@5.6.1?noext\",\n",
       "      \"vega-embed\": \"https://cdn.jsdelivr.net/npm/vega-embed@6?noext\",\n",
       "    };\n",
       "\n",
       "    function maybeLoadScript(lib, version) {\n",
       "      var key = `${lib.replace(\"-\", \"\")}_version`;\n",
       "      return (VEGA_DEBUG[key] == version) ?\n",
       "        Promise.resolve(paths[lib]) :\n",
       "        new Promise(function(resolve, reject) {\n",
       "          var s = document.createElement('script');\n",
       "          document.getElementsByTagName(\"head\")[0].appendChild(s);\n",
       "          s.async = true;\n",
       "          s.onload = () => {\n",
       "            VEGA_DEBUG[key] = version;\n",
       "            return resolve(paths[lib]);\n",
       "          };\n",
       "          s.onerror = () => reject(`Error loading script: ${paths[lib]}`);\n",
       "          s.src = paths[lib];\n",
       "        });\n",
       "    }\n",
       "\n",
       "    function showError(err) {\n",
       "      outputDiv.innerHTML = `<div class=\"error\" style=\"color:red;\">${err}</div>`;\n",
       "      throw err;\n",
       "    }\n",
       "\n",
       "    function displayChart(vegaEmbed) {\n",
       "      vegaEmbed(outputDiv, spec, embedOpt)\n",
       "        .catch(err => showError(`Javascript Error: ${err.message}<br>This usually means there's a typo in your chart specification. See the javascript console for the full traceback.`));\n",
       "    }\n",
       "\n",
       "    if(typeof define === \"function\" && define.amd) {\n",
       "      requirejs.config({paths});\n",
       "      require([\"vega-embed\"], displayChart, err => showError(`Error loading script: ${err.message}`));\n",
       "    } else {\n",
       "      maybeLoadScript(\"vega\", \"5\")\n",
       "        .then(() => maybeLoadScript(\"vega-lite\", \"5.6.1\"))\n",
       "        .then(() => maybeLoadScript(\"vega-embed\", \"6\"))\n",
       "        .catch(showError)\n",
       "        .then(() => displayChart(vegaEmbed));\n",
       "    }\n",
       "  })({\"config\": {\"view\": {\"continuousWidth\": 300, \"continuousHeight\": 300}}, \"repeat\": {\"layer\": [\"BlueBikes to/from Cambridge\", \"Broadway count\"]}, \"spec\": {\"data\": {\"name\": \"data-de412bbf41c38da327ebbf25f6c52f94\"}, \"mark\": {\"type\": \"line\"}, \"encoding\": {\"color\": {\"datum\": {\"repeat\": \"layer\"}}, \"x\": {\"field\": \"Year\", \"type\": \"temporal\"}, \"y\": {\"field\": {\"repeat\": \"layer\"}, \"title\": \"Rides\", \"type\": \"quantitative\"}}}, \"title\": \"Annual rides\", \"$schema\": \"https://vega.github.io/schema/vega-lite/v5.6.1.json\", \"datasets\": {\"data-de412bbf41c38da327ebbf25f6c52f94\": [{\"Year\": \"2016-01-01T00:00:00\", \"BlueBikes to/from Cambridge\": 588701, \"Broadway count\": 383844}, {\"Year\": \"2017-01-01T00:00:00\", \"BlueBikes to/from Cambridge\": 651458, \"Broadway count\": 336919}, {\"Year\": \"2018-01-01T00:00:00\", \"BlueBikes to/from Cambridge\": 878302, \"Broadway count\": 315111}, {\"Year\": \"2019-01-01T00:00:00\", \"BlueBikes to/from Cambridge\": 1192178, \"Broadway count\": 428411}, {\"Year\": \"2020-01-01T00:00:00\", \"BlueBikes to/from Cambridge\": 831471, \"Broadway count\": 271296}, {\"Year\": \"2021-01-01T00:00:00\", \"BlueBikes to/from Cambridge\": 1327930, \"Broadway count\": 292089}, {\"Year\": \"2022-01-01T00:00:00\", \"BlueBikes to/from Cambridge\": 1749436, \"Broadway count\": 324530}]}}, {\"mode\": \"vega-lite\"});\n",
       "</script>"
      ],
      "text/plain": [
       "alt.RepeatChart(...)"
      ]
     },
     "execution_count": 9,
     "metadata": {},
     "output_type": "execute_result"
    }
   ],
   "source": [
    "broadway_yearly = broadway.groupby(pl.col(\"Date\").dt.year()).agg(pl.col(\"Total\").sum().alias(\"Broadway count\")).sort(\"Date\")\n",
    "display(broadway_yearly)\n",
    "bluebikes_plus_broadway = yearly.rename({\"count\": \"BlueBikes to/from Cambridge\"}).filter(pl.col(\"starttime\").dt.year() < 2023).rename({\"starttime\": \"Year\"}).with_columns(broadway_yearly.get_column(\"Broadway count\"))\n",
    "bluebikes_plus_broadway\n",
    "alt = altair\n",
    "altair.Chart(bluebikes_plus_broadway.filter(pl.col(\"Year\") >= 2016).to_pandas()).mark_line().encode(\n",
    "    x=alt.X(\"Year\"),\n",
    "    y=alt.Y(altair.repeat('layer'), type=\"quantitative\").title(\"Rides\"),\n",
    "    color=altair.ColorDatum(altair.repeat('layer'))\n",
    ").repeat(layer=[\"BlueBikes to/from Cambridge\", \"Broadway count\"]).properties(title=\"Annual rides\")"
   ]
  },
  {
   "cell_type": "code",
   "execution_count": 10,
   "id": "7b0772a8-d898-4456-96d1-61251e292bf2",
   "metadata": {
    "tags": []
   },
   "outputs": [
    {
     "data": {
      "text/html": [
       "<div><style>\n",
       ".dataframe > thead > tr > th,\n",
       ".dataframe > tbody > tr > td {\n",
       "  text-align: right;\n",
       "}\n",
       "</style>\n",
       "<small>shape: (1, 1)</small><table border=\"1\" class=\"dataframe\"><thead><tr><th>count</th></tr><tr><td>u32</td></tr></thead><tbody><tr><td>7482990</td></tr></tbody></table></div>"
      ],
      "text/plain": [
       "shape: (1, 1)\n",
       "┌─────────┐\n",
       "│ count   │\n",
       "│ ---     │\n",
       "│ u32     │\n",
       "╞═════════╡\n",
       "│ 7482990 │\n",
       "└─────────┘"
      ]
     },
     "metadata": {},
     "output_type": "display_data"
    },
    {
     "data": {
      "text/html": [
       "\n",
       "<div id=\"altair-viz-2b572a24d9ee4847bad69a7b9ffb62eb\"></div>\n",
       "<script type=\"text/javascript\">\n",
       "  var VEGA_DEBUG = (typeof VEGA_DEBUG == \"undefined\") ? {} : VEGA_DEBUG;\n",
       "  (function(spec, embedOpt){\n",
       "    let outputDiv = document.currentScript.previousElementSibling;\n",
       "    if (outputDiv.id !== \"altair-viz-2b572a24d9ee4847bad69a7b9ffb62eb\") {\n",
       "      outputDiv = document.getElementById(\"altair-viz-2b572a24d9ee4847bad69a7b9ffb62eb\");\n",
       "    }\n",
       "    const paths = {\n",
       "      \"vega\": \"https://cdn.jsdelivr.net/npm/vega@5?noext\",\n",
       "      \"vega-lib\": \"https://cdn.jsdelivr.net/npm/vega-lib?noext\",\n",
       "      \"vega-lite\": \"https://cdn.jsdelivr.net/npm/vega-lite@5.6.1?noext\",\n",
       "      \"vega-embed\": \"https://cdn.jsdelivr.net/npm/vega-embed@6?noext\",\n",
       "    };\n",
       "\n",
       "    function maybeLoadScript(lib, version) {\n",
       "      var key = `${lib.replace(\"-\", \"\")}_version`;\n",
       "      return (VEGA_DEBUG[key] == version) ?\n",
       "        Promise.resolve(paths[lib]) :\n",
       "        new Promise(function(resolve, reject) {\n",
       "          var s = document.createElement('script');\n",
       "          document.getElementsByTagName(\"head\")[0].appendChild(s);\n",
       "          s.async = true;\n",
       "          s.onload = () => {\n",
       "            VEGA_DEBUG[key] = version;\n",
       "            return resolve(paths[lib]);\n",
       "          };\n",
       "          s.onerror = () => reject(`Error loading script: ${paths[lib]}`);\n",
       "          s.src = paths[lib];\n",
       "        });\n",
       "    }\n",
       "\n",
       "    function showError(err) {\n",
       "      outputDiv.innerHTML = `<div class=\"error\" style=\"color:red;\">${err}</div>`;\n",
       "      throw err;\n",
       "    }\n",
       "\n",
       "    function displayChart(vegaEmbed) {\n",
       "      vegaEmbed(outputDiv, spec, embedOpt)\n",
       "        .catch(err => showError(`Javascript Error: ${err.message}<br>This usually means there's a typo in your chart specification. See the javascript console for the full traceback.`));\n",
       "    }\n",
       "\n",
       "    if(typeof define === \"function\" && define.amd) {\n",
       "      requirejs.config({paths});\n",
       "      require([\"vega-embed\"], displayChart, err => showError(`Error loading script: ${err.message}`));\n",
       "    } else {\n",
       "      maybeLoadScript(\"vega\", \"5\")\n",
       "        .then(() => maybeLoadScript(\"vega-lite\", \"5.6.1\"))\n",
       "        .then(() => maybeLoadScript(\"vega-embed\", \"6\"))\n",
       "        .catch(showError)\n",
       "        .then(() => displayChart(vegaEmbed));\n",
       "    }\n",
       "  })({\"config\": {\"view\": {\"continuousWidth\": 300, \"continuousHeight\": 300}}, \"data\": {\"name\": \"data-c69d88dd671250a851cb9d8da04027ab\"}, \"mark\": {\"type\": \"line\"}, \"encoding\": {\"x\": {\"field\": \"Year\", \"type\": \"temporal\"}, \"y\": {\"field\": \"# of rides\", \"type\": \"quantitative\"}}, \"title\": \"Yearly BlueBike rides starting or ending in Cambridge\", \"$schema\": \"https://vega.github.io/schema/vega-lite/v5.6.1.json\", \"datasets\": {\"data-c69d88dd671250a851cb9d8da04027ab\": [{\"Year\": \"2016-01-01T00:00:00\", \"# of rides\": 588701}, {\"Year\": \"2017-01-01T00:00:00\", \"# of rides\": 651458}, {\"Year\": \"2018-01-01T00:00:00\", \"# of rides\": 878302}, {\"Year\": \"2019-01-01T00:00:00\", \"# of rides\": 1192178}, {\"Year\": \"2020-01-01T00:00:00\", \"# of rides\": 831471}, {\"Year\": \"2021-01-01T00:00:00\", \"# of rides\": 1327930}, {\"Year\": \"2022-01-01T00:00:00\", \"# of rides\": 1749436}]}}, {\"mode\": \"vega-lite\"});\n",
       "</script>"
      ],
      "text/plain": [
       "alt.Chart(...)"
      ]
     },
     "execution_count": 10,
     "metadata": {},
     "output_type": "execute_result"
    }
   ],
   "source": [
    "display(yearly.select(pl.col(\"count\").sum()))\n",
    "to_2022 = yearly.filter(pl.col(\"starttime\").dt.year() < 2023).rename({\"starttime\": \"Year\", \"count\": \"# of rides\"})\n",
    "altair.Chart(to_2022.to_pandas()).mark_line().encode(x=\"Year:T\", y=f\"# of rides:Q\").properties(title=\"Yearly BlueBike rides starting or ending in Cambridge\")"
   ]
  },
  {
   "cell_type": "code",
   "execution_count": 11,
   "id": "0cc39741-531d-419d-83f4-e3c2fe0ad446",
   "metadata": {
    "tags": []
   },
   "outputs": [
    {
     "data": {
      "text/html": [
       "\n",
       "<div id=\"altair-viz-4f78a478ed814a4ba93fc8b069660053\"></div>\n",
       "<script type=\"text/javascript\">\n",
       "  var VEGA_DEBUG = (typeof VEGA_DEBUG == \"undefined\") ? {} : VEGA_DEBUG;\n",
       "  (function(spec, embedOpt){\n",
       "    let outputDiv = document.currentScript.previousElementSibling;\n",
       "    if (outputDiv.id !== \"altair-viz-4f78a478ed814a4ba93fc8b069660053\") {\n",
       "      outputDiv = document.getElementById(\"altair-viz-4f78a478ed814a4ba93fc8b069660053\");\n",
       "    }\n",
       "    const paths = {\n",
       "      \"vega\": \"https://cdn.jsdelivr.net/npm/vega@5?noext\",\n",
       "      \"vega-lib\": \"https://cdn.jsdelivr.net/npm/vega-lib?noext\",\n",
       "      \"vega-lite\": \"https://cdn.jsdelivr.net/npm/vega-lite@5.6.1?noext\",\n",
       "      \"vega-embed\": \"https://cdn.jsdelivr.net/npm/vega-embed@6?noext\",\n",
       "    };\n",
       "\n",
       "    function maybeLoadScript(lib, version) {\n",
       "      var key = `${lib.replace(\"-\", \"\")}_version`;\n",
       "      return (VEGA_DEBUG[key] == version) ?\n",
       "        Promise.resolve(paths[lib]) :\n",
       "        new Promise(function(resolve, reject) {\n",
       "          var s = document.createElement('script');\n",
       "          document.getElementsByTagName(\"head\")[0].appendChild(s);\n",
       "          s.async = true;\n",
       "          s.onload = () => {\n",
       "            VEGA_DEBUG[key] = version;\n",
       "            return resolve(paths[lib]);\n",
       "          };\n",
       "          s.onerror = () => reject(`Error loading script: ${paths[lib]}`);\n",
       "          s.src = paths[lib];\n",
       "        });\n",
       "    }\n",
       "\n",
       "    function showError(err) {\n",
       "      outputDiv.innerHTML = `<div class=\"error\" style=\"color:red;\">${err}</div>`;\n",
       "      throw err;\n",
       "    }\n",
       "\n",
       "    function displayChart(vegaEmbed) {\n",
       "      vegaEmbed(outputDiv, spec, embedOpt)\n",
       "        .catch(err => showError(`Javascript Error: ${err.message}<br>This usually means there's a typo in your chart specification. See the javascript console for the full traceback.`));\n",
       "    }\n",
       "\n",
       "    if(typeof define === \"function\" && define.amd) {\n",
       "      requirejs.config({paths});\n",
       "      require([\"vega-embed\"], displayChart, err => showError(`Error loading script: ${err.message}`));\n",
       "    } else {\n",
       "      maybeLoadScript(\"vega\", \"5\")\n",
       "        .then(() => maybeLoadScript(\"vega-lite\", \"5.6.1\"))\n",
       "        .then(() => maybeLoadScript(\"vega-embed\", \"6\"))\n",
       "        .catch(showError)\n",
       "        .then(() => displayChart(vegaEmbed));\n",
       "    }\n",
       "  })({\"config\": {\"view\": {\"continuousWidth\": 300, \"continuousHeight\": 300}}, \"data\": {\"name\": \"data-59f1667ab1534f95019bad605c331a5d\"}, \"mark\": {\"type\": \"line\"}, \"encoding\": {\"x\": {\"field\": \"starttime\", \"type\": \"temporal\"}, \"y\": {\"field\": \"count\", \"type\": \"quantitative\"}}, \"title\": \"Monthly Bluebikes rides starting/ending in Cambridge\", \"$schema\": \"https://vega.github.io/schema/vega-lite/v5.6.1.json\", \"datasets\": {\"data-59f1667ab1534f95019bad605c331a5d\": [{\"starttime\": \"2016-01-01T00:00:00\", \"count\": 12031}, {\"starttime\": \"2016-02-01T00:00:00\", \"count\": 14631}, {\"starttime\": \"2016-03-01T00:00:00\", \"count\": 26227}, {\"starttime\": \"2016-04-01T00:00:00\", \"count\": 44246}, {\"starttime\": \"2016-05-01T00:00:00\", \"count\": 57531}, {\"starttime\": \"2016-06-01T00:00:00\", \"count\": 70931}, {\"starttime\": \"2016-07-01T00:00:00\", \"count\": 73552}, {\"starttime\": \"2016-08-01T00:00:00\", \"count\": 74497}, {\"starttime\": \"2016-09-01T00:00:00\", \"count\": 76185}, {\"starttime\": \"2016-10-01T00:00:00\", \"count\": 65004}, {\"starttime\": \"2016-11-01T00:00:00\", \"count\": 48830}, {\"starttime\": \"2016-12-01T00:00:00\", \"count\": 25036}, {\"starttime\": \"2017-01-01T00:00:00\", \"count\": 17181}, {\"starttime\": \"2017-02-01T00:00:00\", \"count\": 17221}, {\"starttime\": \"2017-03-01T00:00:00\", \"count\": 22636}, {\"starttime\": \"2017-04-01T00:00:00\", \"count\": 50419}, {\"starttime\": \"2017-05-01T00:00:00\", \"count\": 60602}, {\"starttime\": \"2017-06-01T00:00:00\", \"count\": 73351}, {\"starttime\": \"2017-07-01T00:00:00\", \"count\": 79994}, {\"starttime\": \"2017-08-01T00:00:00\", \"count\": 85348}, {\"starttime\": \"2017-09-01T00:00:00\", \"count\": 79270}, {\"starttime\": \"2017-10-01T00:00:00\", \"count\": 81685}, {\"starttime\": \"2017-11-01T00:00:00\", \"count\": 54182}, {\"starttime\": \"2017-12-01T00:00:00\", \"count\": 29569}, {\"starttime\": \"2018-01-01T00:00:00\", \"count\": 23533}, {\"starttime\": \"2018-02-01T00:00:00\", \"count\": 35994}, {\"starttime\": \"2018-03-01T00:00:00\", \"count\": 35682}, {\"starttime\": \"2018-04-01T00:00:00\", \"count\": 52708}, {\"starttime\": \"2018-05-01T00:00:00\", \"count\": 86049}, {\"starttime\": \"2018-06-01T00:00:00\", \"count\": 95606}, {\"starttime\": \"2018-07-01T00:00:00\", \"count\": 115805}, {\"starttime\": \"2018-08-01T00:00:00\", \"count\": 112517}, {\"starttime\": \"2018-09-01T00:00:00\", \"count\": 115410}, {\"starttime\": \"2018-10-01T00:00:00\", \"count\": 97423}, {\"starttime\": \"2018-11-01T00:00:00\", \"count\": 63209}, {\"starttime\": \"2018-12-01T00:00:00\", \"count\": 44366}, {\"starttime\": \"2019-01-01T00:00:00\", \"count\": 37108}, {\"starttime\": \"2019-02-01T00:00:00\", \"count\": 44724}, {\"starttime\": \"2019-03-01T00:00:00\", \"count\": 55133}, {\"starttime\": \"2019-04-01T00:00:00\", \"count\": 83450}, {\"starttime\": \"2019-05-01T00:00:00\", \"count\": 105137}, {\"starttime\": \"2019-06-01T00:00:00\", \"count\": 122512}, {\"starttime\": \"2019-07-01T00:00:00\", \"count\": 142630}, {\"starttime\": \"2019-08-01T00:00:00\", \"count\": 146264}, {\"starttime\": \"2019-09-01T00:00:00\", \"count\": 165361}, {\"starttime\": \"2019-10-01T00:00:00\", \"count\": 145857}, {\"starttime\": \"2019-11-01T00:00:00\", \"count\": 95910}, {\"starttime\": \"2019-12-01T00:00:00\", \"count\": 48092}, {\"starttime\": \"2020-01-01T00:00:00\", \"count\": 65306}, {\"starttime\": \"2020-02-01T00:00:00\", \"count\": 71408}, {\"starttime\": \"2020-03-01T00:00:00\", \"count\": 53050}, {\"starttime\": \"2020-04-01T00:00:00\", \"count\": 16506}, {\"starttime\": \"2020-05-01T00:00:00\", \"count\": 41073}, {\"starttime\": \"2020-06-01T00:00:00\", \"count\": 66621}, {\"starttime\": \"2020-07-01T00:00:00\", \"count\": 92341}, {\"starttime\": \"2020-08-01T00:00:00\", \"count\": 103762}, {\"starttime\": \"2020-09-01T00:00:00\", \"count\": 117601}, {\"starttime\": \"2020-10-01T00:00:00\", \"count\": 100752}, {\"starttime\": \"2020-11-01T00:00:00\", \"count\": 68935}, {\"starttime\": \"2020-12-01T00:00:00\", \"count\": 34116}, {\"starttime\": \"2021-01-01T00:00:00\", \"count\": 34562}, {\"starttime\": \"2021-02-01T00:00:00\", \"count\": 30185}, {\"starttime\": \"2021-03-01T00:00:00\", \"count\": 64627}, {\"starttime\": \"2021-04-01T00:00:00\", \"count\": 81994}, {\"starttime\": \"2021-05-01T00:00:00\", \"count\": 116425}, {\"starttime\": \"2021-06-01T00:00:00\", \"count\": 123875}, {\"starttime\": \"2021-07-01T00:00:00\", \"count\": 126275}, {\"starttime\": \"2021-08-01T00:00:00\", \"count\": 149732}, {\"starttime\": \"2021-09-01T00:00:00\", \"count\": 204170}, {\"starttime\": \"2021-10-01T00:00:00\", \"count\": 192592}, {\"starttime\": \"2021-11-01T00:00:00\", \"count\": 129915}, {\"starttime\": \"2021-12-01T00:00:00\", \"count\": 73578}, {\"starttime\": \"2022-01-01T00:00:00\", \"count\": 43555}, {\"starttime\": \"2022-02-01T00:00:00\", \"count\": 63646}, {\"starttime\": \"2022-03-01T00:00:00\", \"count\": 93223}, {\"starttime\": \"2022-04-01T00:00:00\", \"count\": 137045}, {\"starttime\": \"2022-05-01T00:00:00\", \"count\": 163078}, {\"starttime\": \"2022-06-01T00:00:00\", \"count\": 169680}, {\"starttime\": \"2022-07-01T00:00:00\", \"count\": 191386}, {\"starttime\": \"2022-08-01T00:00:00\", \"count\": 207982}, {\"starttime\": \"2022-09-01T00:00:00\", \"count\": 254331}, {\"starttime\": \"2022-10-01T00:00:00\", \"count\": 201566}, {\"starttime\": \"2022-11-01T00:00:00\", \"count\": 148644}, {\"starttime\": \"2022-12-01T00:00:00\", \"count\": 75300}, {\"starttime\": \"2023-01-01T00:00:00\", \"count\": 72857}, {\"starttime\": \"2023-02-01T00:00:00\", \"count\": 85216}, {\"starttime\": \"2023-03-01T00:00:00\", \"count\": 105441}]}}, {\"mode\": \"vega-lite\"});\n",
       "</script>"
      ],
      "text/plain": [
       "alt.Chart(...)"
      ]
     },
     "metadata": {},
     "output_type": "display_data"
    },
    {
     "data": {
      "text/html": [
       "\n",
       "<div id=\"altair-viz-0e378d36a5224744ade44d0956f8d05e\"></div>\n",
       "<script type=\"text/javascript\">\n",
       "  var VEGA_DEBUG = (typeof VEGA_DEBUG == \"undefined\") ? {} : VEGA_DEBUG;\n",
       "  (function(spec, embedOpt){\n",
       "    let outputDiv = document.currentScript.previousElementSibling;\n",
       "    if (outputDiv.id !== \"altair-viz-0e378d36a5224744ade44d0956f8d05e\") {\n",
       "      outputDiv = document.getElementById(\"altair-viz-0e378d36a5224744ade44d0956f8d05e\");\n",
       "    }\n",
       "    const paths = {\n",
       "      \"vega\": \"https://cdn.jsdelivr.net/npm/vega@5?noext\",\n",
       "      \"vega-lib\": \"https://cdn.jsdelivr.net/npm/vega-lib?noext\",\n",
       "      \"vega-lite\": \"https://cdn.jsdelivr.net/npm/vega-lite@5.6.1?noext\",\n",
       "      \"vega-embed\": \"https://cdn.jsdelivr.net/npm/vega-embed@6?noext\",\n",
       "    };\n",
       "\n",
       "    function maybeLoadScript(lib, version) {\n",
       "      var key = `${lib.replace(\"-\", \"\")}_version`;\n",
       "      return (VEGA_DEBUG[key] == version) ?\n",
       "        Promise.resolve(paths[lib]) :\n",
       "        new Promise(function(resolve, reject) {\n",
       "          var s = document.createElement('script');\n",
       "          document.getElementsByTagName(\"head\")[0].appendChild(s);\n",
       "          s.async = true;\n",
       "          s.onload = () => {\n",
       "            VEGA_DEBUG[key] = version;\n",
       "            return resolve(paths[lib]);\n",
       "          };\n",
       "          s.onerror = () => reject(`Error loading script: ${paths[lib]}`);\n",
       "          s.src = paths[lib];\n",
       "        });\n",
       "    }\n",
       "\n",
       "    function showError(err) {\n",
       "      outputDiv.innerHTML = `<div class=\"error\" style=\"color:red;\">${err}</div>`;\n",
       "      throw err;\n",
       "    }\n",
       "\n",
       "    function displayChart(vegaEmbed) {\n",
       "      vegaEmbed(outputDiv, spec, embedOpt)\n",
       "        .catch(err => showError(`Javascript Error: ${err.message}<br>This usually means there's a typo in your chart specification. See the javascript console for the full traceback.`));\n",
       "    }\n",
       "\n",
       "    if(typeof define === \"function\" && define.amd) {\n",
       "      requirejs.config({paths});\n",
       "      require([\"vega-embed\"], displayChart, err => showError(`Error loading script: ${err.message}`));\n",
       "    } else {\n",
       "      maybeLoadScript(\"vega\", \"5\")\n",
       "        .then(() => maybeLoadScript(\"vega-lite\", \"5.6.1\"))\n",
       "        .then(() => maybeLoadScript(\"vega-embed\", \"6\"))\n",
       "        .catch(showError)\n",
       "        .then(() => displayChart(vegaEmbed));\n",
       "    }\n",
       "  })({\"config\": {\"view\": {\"continuousWidth\": 300, \"continuousHeight\": 300}}, \"data\": {\"name\": \"data-a3913632eed4fa0b8505e03f276306fa\"}, \"mark\": {\"type\": \"line\"}, \"encoding\": {\"x\": {\"field\": \"starttime\", \"type\": \"temporal\"}, \"y\": {\"field\": \"count\", \"type\": \"quantitative\"}}, \"title\": \"Yearly Bluebikes rides starting/ending in Cambridge (2016-2022)\", \"$schema\": \"https://vega.github.io/schema/vega-lite/v5.6.1.json\", \"datasets\": {\"data-a3913632eed4fa0b8505e03f276306fa\": [{\"starttime\": \"2016-01-01T00:00:00\", \"count\": 588701}, {\"starttime\": \"2017-01-01T00:00:00\", \"count\": 651458}, {\"starttime\": \"2018-01-01T00:00:00\", \"count\": 878302}, {\"starttime\": \"2019-01-01T00:00:00\", \"count\": 1192178}, {\"starttime\": \"2020-01-01T00:00:00\", \"count\": 831471}, {\"starttime\": \"2021-01-01T00:00:00\", \"count\": 1327930}, {\"starttime\": \"2022-01-01T00:00:00\", \"count\": 1749436}]}}, {\"mode\": \"vega-lite\"});\n",
       "</script>"
      ],
      "text/plain": [
       "alt.Chart(...)"
      ]
     },
     "metadata": {},
     "output_type": "display_data"
    },
    {
     "data": {
      "text/html": [
       "\n",
       "<div id=\"altair-viz-f108aa446925448ba6c3cf831b3b97e9\"></div>\n",
       "<script type=\"text/javascript\">\n",
       "  var VEGA_DEBUG = (typeof VEGA_DEBUG == \"undefined\") ? {} : VEGA_DEBUG;\n",
       "  (function(spec, embedOpt){\n",
       "    let outputDiv = document.currentScript.previousElementSibling;\n",
       "    if (outputDiv.id !== \"altair-viz-f108aa446925448ba6c3cf831b3b97e9\") {\n",
       "      outputDiv = document.getElementById(\"altair-viz-f108aa446925448ba6c3cf831b3b97e9\");\n",
       "    }\n",
       "    const paths = {\n",
       "      \"vega\": \"https://cdn.jsdelivr.net/npm/vega@5?noext\",\n",
       "      \"vega-lib\": \"https://cdn.jsdelivr.net/npm/vega-lib?noext\",\n",
       "      \"vega-lite\": \"https://cdn.jsdelivr.net/npm/vega-lite@5.6.1?noext\",\n",
       "      \"vega-embed\": \"https://cdn.jsdelivr.net/npm/vega-embed@6?noext\",\n",
       "    };\n",
       "\n",
       "    function maybeLoadScript(lib, version) {\n",
       "      var key = `${lib.replace(\"-\", \"\")}_version`;\n",
       "      return (VEGA_DEBUG[key] == version) ?\n",
       "        Promise.resolve(paths[lib]) :\n",
       "        new Promise(function(resolve, reject) {\n",
       "          var s = document.createElement('script');\n",
       "          document.getElementsByTagName(\"head\")[0].appendChild(s);\n",
       "          s.async = true;\n",
       "          s.onload = () => {\n",
       "            VEGA_DEBUG[key] = version;\n",
       "            return resolve(paths[lib]);\n",
       "          };\n",
       "          s.onerror = () => reject(`Error loading script: ${paths[lib]}`);\n",
       "          s.src = paths[lib];\n",
       "        });\n",
       "    }\n",
       "\n",
       "    function showError(err) {\n",
       "      outputDiv.innerHTML = `<div class=\"error\" style=\"color:red;\">${err}</div>`;\n",
       "      throw err;\n",
       "    }\n",
       "\n",
       "    function displayChart(vegaEmbed) {\n",
       "      vegaEmbed(outputDiv, spec, embedOpt)\n",
       "        .catch(err => showError(`Javascript Error: ${err.message}<br>This usually means there's a typo in your chart specification. See the javascript console for the full traceback.`));\n",
       "    }\n",
       "\n",
       "    if(typeof define === \"function\" && define.amd) {\n",
       "      requirejs.config({paths});\n",
       "      require([\"vega-embed\"], displayChart, err => showError(`Error loading script: ${err.message}`));\n",
       "    } else {\n",
       "      maybeLoadScript(\"vega\", \"5\")\n",
       "        .then(() => maybeLoadScript(\"vega-lite\", \"5.6.1\"))\n",
       "        .then(() => maybeLoadScript(\"vega-embed\", \"6\"))\n",
       "        .catch(showError)\n",
       "        .then(() => displayChart(vegaEmbed));\n",
       "    }\n",
       "  })({\"config\": {\"view\": {\"continuousWidth\": 300, \"continuousHeight\": 300}}, \"data\": {\"name\": \"data-b260bc161c155699b3b3127ccab903ff\"}, \"mark\": {\"type\": \"line\"}, \"encoding\": {\"x\": {\"field\": \"starttime\", \"type\": \"temporal\"}, \"y\": {\"field\": \"count\", \"type\": \"quantitative\"}}, \"title\": \"Broadway EcoTotem\", \"$schema\": \"https://vega.github.io/schema/vega-lite/v5.6.1.json\", \"datasets\": {\"data-b260bc161c155699b3b3127ccab903ff\": [{\"Date\": \"2016-01-01T00:00:00\", \"count\": 35131}, {\"Date\": \"2017-01-01T00:00:00\", \"count\": 34364}, {\"Date\": \"2018-01-01T00:00:00\", \"count\": 29756}, {\"Date\": \"2019-01-01T00:00:00\", \"count\": 34844}, {\"Date\": \"2020-01-01T00:00:00\", \"count\": 34172}, {\"Date\": \"2021-01-01T00:00:00\", \"count\": 34944}, {\"Date\": \"2022-01-01T00:00:00\", \"count\": 34486}]}}, {\"mode\": \"vega-lite\"});\n",
       "</script>"
      ],
      "text/plain": [
       "alt.Chart(...)"
      ]
     },
     "metadata": {},
     "output_type": "display_data"
    }
   ],
   "source": [
    "\n",
    "def linechart(df, title, y_column=\"count\"):\n",
    "    return altair.Chart(df.to_pandas()).mark_line().encode(x=\"starttime:T\", y=f\"{y_column}:Q\").properties(title=title)\n",
    "\n",
    "display(linechart(monthly, 'Monthly Bluebikes rides starting/ending in Cambridge'))\n",
    "display(linechart(yearly.filter(pl.col(\"starttime\").dt.year() < 2023), 'Yearly Bluebikes rides starting/ending in Cambridge (2016-2022)'))\n",
    "display(linechart(broadway.groupby_dynamic(\"Date\", every=\"1y\").agg(pl.count()), 'Broadway EcoTotem'))"
   ]
  },
  {
   "cell_type": "code",
   "execution_count": null,
   "id": "b3a1fb91-4527-4226-aac5-11bf1cd807ef",
   "metadata": {},
   "outputs": [],
   "source": []
  },
  {
   "cell_type": "code",
   "execution_count": 12,
   "id": "4f1aa7c1-28b8-484e-a6fc-23612ed8c79c",
   "metadata": {
    "tags": []
   },
   "outputs": [
    {
     "data": {
      "text/html": [
       "<div><style>\n",
       ".dataframe > thead > tr > th,\n",
       ".dataframe > tbody > tr > td {\n",
       "  text-align: right;\n",
       "}\n",
       "</style>\n",
       "<small>shape: (87, 3)</small><table border=\"1\" class=\"dataframe\"><thead><tr><th>Month</th><th>Year</th><th>Count</th></tr><tr><td>u32</td><td>i32</td><td>u32</td></tr></thead><tbody><tr><td>1</td><td>2016</td><td>12031</td></tr><tr><td>2</td><td>2016</td><td>14631</td></tr><tr><td>3</td><td>2016</td><td>26227</td></tr><tr><td>4</td><td>2016</td><td>44246</td></tr><tr><td>5</td><td>2016</td><td>57531</td></tr><tr><td>6</td><td>2016</td><td>70931</td></tr><tr><td>7</td><td>2016</td><td>73552</td></tr><tr><td>8</td><td>2016</td><td>74497</td></tr><tr><td>9</td><td>2016</td><td>76185</td></tr><tr><td>10</td><td>2016</td><td>65004</td></tr><tr><td>11</td><td>2016</td><td>48830</td></tr><tr><td>12</td><td>2016</td><td>25036</td></tr><tr><td>&hellip;</td><td>&hellip;</td><td>&hellip;</td></tr><tr><td>4</td><td>2022</td><td>137045</td></tr><tr><td>5</td><td>2022</td><td>163078</td></tr><tr><td>6</td><td>2022</td><td>169680</td></tr><tr><td>7</td><td>2022</td><td>191386</td></tr><tr><td>8</td><td>2022</td><td>207982</td></tr><tr><td>9</td><td>2022</td><td>254331</td></tr><tr><td>10</td><td>2022</td><td>201566</td></tr><tr><td>11</td><td>2022</td><td>148644</td></tr><tr><td>12</td><td>2022</td><td>75300</td></tr><tr><td>1</td><td>2023</td><td>72857</td></tr><tr><td>2</td><td>2023</td><td>85216</td></tr><tr><td>3</td><td>2023</td><td>105441</td></tr></tbody></table></div>"
      ],
      "text/plain": [
       "shape: (87, 3)\n",
       "┌───────┬──────┬────────┐\n",
       "│ Month ┆ Year ┆ Count  │\n",
       "│ ---   ┆ ---  ┆ ---    │\n",
       "│ u32   ┆ i32  ┆ u32    │\n",
       "╞═══════╪══════╪════════╡\n",
       "│ 1     ┆ 2016 ┆ 12031  │\n",
       "│ 2     ┆ 2016 ┆ 14631  │\n",
       "│ 3     ┆ 2016 ┆ 26227  │\n",
       "│ 4     ┆ 2016 ┆ 44246  │\n",
       "│ …     ┆ …    ┆ …      │\n",
       "│ 12    ┆ 2022 ┆ 75300  │\n",
       "│ 1     ┆ 2023 ┆ 72857  │\n",
       "│ 2     ┆ 2023 ┆ 85216  │\n",
       "│ 3     ┆ 2023 ┆ 105441 │\n",
       "└───────┴──────┴────────┘"
      ]
     },
     "execution_count": 12,
     "metadata": {},
     "output_type": "execute_result"
    }
   ],
   "source": [
    "monthly2 = monthly.select([pl.col(\"starttime\").dt.month().alias(\"Month\"), pl.col(\"starttime\").dt.year().alias(\"Year\"), pl.col(\"count\").alias(\"Count\")])\n",
    "monthly2"
   ]
  },
  {
   "cell_type": "code",
   "execution_count": 13,
   "id": "99ebfa54-c1a6-49e2-b607-1940768580c4",
   "metadata": {
    "tags": []
   },
   "outputs": [
    {
     "name": "stderr",
     "output_type": "stream",
     "text": [
      "/tmp/ipykernel_397047/2079401287.py:1: DeprecationWarning: In a future version of polars, the default `aggregate_function` will change from `'first'` to `None`. Please pass `'first'` to keep the current behaviour, or `None` to accept the new one.\n",
      "  month_per_year = monthly2.pivot(values=\"Count\", index=\"Month\", columns=\"Year\")\n"
     ]
    },
    {
     "data": {
      "text/html": [
       "<div><style>\n",
       ".dataframe > thead > tr > th,\n",
       ".dataframe > tbody > tr > td {\n",
       "  text-align: right;\n",
       "}\n",
       "</style>\n",
       "<small>shape: (12, 9)</small><table border=\"1\" class=\"dataframe\"><thead><tr><th>Month</th><th>2016</th><th>2017</th><th>2018</th><th>2019</th><th>2020</th><th>2021</th><th>2022</th><th>2023</th></tr><tr><td>u32</td><td>u32</td><td>u32</td><td>u32</td><td>u32</td><td>u32</td><td>u32</td><td>u32</td><td>u32</td></tr></thead><tbody><tr><td>1</td><td>12031</td><td>17181</td><td>23533</td><td>37108</td><td>65306</td><td>34562</td><td>43555</td><td>72857</td></tr><tr><td>2</td><td>14631</td><td>17221</td><td>35994</td><td>44724</td><td>71408</td><td>30185</td><td>63646</td><td>85216</td></tr><tr><td>3</td><td>26227</td><td>22636</td><td>35682</td><td>55133</td><td>53050</td><td>64627</td><td>93223</td><td>105441</td></tr><tr><td>4</td><td>44246</td><td>50419</td><td>52708</td><td>83450</td><td>16506</td><td>81994</td><td>137045</td><td>null</td></tr><tr><td>5</td><td>57531</td><td>60602</td><td>86049</td><td>105137</td><td>41073</td><td>116425</td><td>163078</td><td>null</td></tr><tr><td>6</td><td>70931</td><td>73351</td><td>95606</td><td>122512</td><td>66621</td><td>123875</td><td>169680</td><td>null</td></tr><tr><td>7</td><td>73552</td><td>79994</td><td>115805</td><td>142630</td><td>92341</td><td>126275</td><td>191386</td><td>null</td></tr><tr><td>8</td><td>74497</td><td>85348</td><td>112517</td><td>146264</td><td>103762</td><td>149732</td><td>207982</td><td>null</td></tr><tr><td>9</td><td>76185</td><td>79270</td><td>115410</td><td>165361</td><td>117601</td><td>204170</td><td>254331</td><td>null</td></tr><tr><td>10</td><td>65004</td><td>81685</td><td>97423</td><td>145857</td><td>100752</td><td>192592</td><td>201566</td><td>null</td></tr><tr><td>11</td><td>48830</td><td>54182</td><td>63209</td><td>95910</td><td>68935</td><td>129915</td><td>148644</td><td>null</td></tr><tr><td>12</td><td>25036</td><td>29569</td><td>44366</td><td>48092</td><td>34116</td><td>73578</td><td>75300</td><td>null</td></tr></tbody></table></div>"
      ],
      "text/plain": [
       "shape: (12, 9)\n",
       "┌───────┬───────┬───────┬────────┬───┬────────┬────────┬────────┬────────┐\n",
       "│ Month ┆ 2016  ┆ 2017  ┆ 2018   ┆ … ┆ 2020   ┆ 2021   ┆ 2022   ┆ 2023   │\n",
       "│ ---   ┆ ---   ┆ ---   ┆ ---    ┆   ┆ ---    ┆ ---    ┆ ---    ┆ ---    │\n",
       "│ u32   ┆ u32   ┆ u32   ┆ u32    ┆   ┆ u32    ┆ u32    ┆ u32    ┆ u32    │\n",
       "╞═══════╪═══════╪═══════╪════════╪═══╪════════╪════════╪════════╪════════╡\n",
       "│ 1     ┆ 12031 ┆ 17181 ┆ 23533  ┆ … ┆ 65306  ┆ 34562  ┆ 43555  ┆ 72857  │\n",
       "│ 2     ┆ 14631 ┆ 17221 ┆ 35994  ┆ … ┆ 71408  ┆ 30185  ┆ 63646  ┆ 85216  │\n",
       "│ 3     ┆ 26227 ┆ 22636 ┆ 35682  ┆ … ┆ 53050  ┆ 64627  ┆ 93223  ┆ 105441 │\n",
       "│ 4     ┆ 44246 ┆ 50419 ┆ 52708  ┆ … ┆ 16506  ┆ 81994  ┆ 137045 ┆ null   │\n",
       "│ …     ┆ …     ┆ …     ┆ …      ┆ … ┆ …      ┆ …      ┆ …      ┆ …      │\n",
       "│ 9     ┆ 76185 ┆ 79270 ┆ 115410 ┆ … ┆ 117601 ┆ 204170 ┆ 254331 ┆ null   │\n",
       "│ 10    ┆ 65004 ┆ 81685 ┆ 97423  ┆ … ┆ 100752 ┆ 192592 ┆ 201566 ┆ null   │\n",
       "│ 11    ┆ 48830 ┆ 54182 ┆ 63209  ┆ … ┆ 68935  ┆ 129915 ┆ 148644 ┆ null   │\n",
       "│ 12    ┆ 25036 ┆ 29569 ┆ 44366  ┆ … ┆ 34116  ┆ 73578  ┆ 75300  ┆ null   │\n",
       "└───────┴───────┴───────┴────────┴───┴────────┴────────┴────────┴────────┘"
      ]
     },
     "execution_count": 13,
     "metadata": {},
     "output_type": "execute_result"
    }
   ],
   "source": [
    "month_per_year = monthly2.pivot(values=\"Count\", index=\"Month\", columns=\"Year\")\n",
    "month_per_year"
   ]
  },
  {
   "cell_type": "code",
   "execution_count": 14,
   "id": "fd8a9ba0-7a3b-4ccb-b509-51517d9b53b3",
   "metadata": {
    "tags": []
   },
   "outputs": [
    {
     "data": {
      "text/html": [
       "\n",
       "<div id=\"altair-viz-88d28ac46fea438fb01427d2decac275\"></div>\n",
       "<script type=\"text/javascript\">\n",
       "  var VEGA_DEBUG = (typeof VEGA_DEBUG == \"undefined\") ? {} : VEGA_DEBUG;\n",
       "  (function(spec, embedOpt){\n",
       "    let outputDiv = document.currentScript.previousElementSibling;\n",
       "    if (outputDiv.id !== \"altair-viz-88d28ac46fea438fb01427d2decac275\") {\n",
       "      outputDiv = document.getElementById(\"altair-viz-88d28ac46fea438fb01427d2decac275\");\n",
       "    }\n",
       "    const paths = {\n",
       "      \"vega\": \"https://cdn.jsdelivr.net/npm/vega@5?noext\",\n",
       "      \"vega-lib\": \"https://cdn.jsdelivr.net/npm/vega-lib?noext\",\n",
       "      \"vega-lite\": \"https://cdn.jsdelivr.net/npm/vega-lite@5.6.1?noext\",\n",
       "      \"vega-embed\": \"https://cdn.jsdelivr.net/npm/vega-embed@6?noext\",\n",
       "    };\n",
       "\n",
       "    function maybeLoadScript(lib, version) {\n",
       "      var key = `${lib.replace(\"-\", \"\")}_version`;\n",
       "      return (VEGA_DEBUG[key] == version) ?\n",
       "        Promise.resolve(paths[lib]) :\n",
       "        new Promise(function(resolve, reject) {\n",
       "          var s = document.createElement('script');\n",
       "          document.getElementsByTagName(\"head\")[0].appendChild(s);\n",
       "          s.async = true;\n",
       "          s.onload = () => {\n",
       "            VEGA_DEBUG[key] = version;\n",
       "            return resolve(paths[lib]);\n",
       "          };\n",
       "          s.onerror = () => reject(`Error loading script: ${paths[lib]}`);\n",
       "          s.src = paths[lib];\n",
       "        });\n",
       "    }\n",
       "\n",
       "    function showError(err) {\n",
       "      outputDiv.innerHTML = `<div class=\"error\" style=\"color:red;\">${err}</div>`;\n",
       "      throw err;\n",
       "    }\n",
       "\n",
       "    function displayChart(vegaEmbed) {\n",
       "      vegaEmbed(outputDiv, spec, embedOpt)\n",
       "        .catch(err => showError(`Javascript Error: ${err.message}<br>This usually means there's a typo in your chart specification. See the javascript console for the full traceback.`));\n",
       "    }\n",
       "\n",
       "    if(typeof define === \"function\" && define.amd) {\n",
       "      requirejs.config({paths});\n",
       "      require([\"vega-embed\"], displayChart, err => showError(`Error loading script: ${err.message}`));\n",
       "    } else {\n",
       "      maybeLoadScript(\"vega\", \"5\")\n",
       "        .then(() => maybeLoadScript(\"vega-lite\", \"5.6.1\"))\n",
       "        .then(() => maybeLoadScript(\"vega-embed\", \"6\"))\n",
       "        .catch(showError)\n",
       "        .then(() => displayChart(vegaEmbed));\n",
       "    }\n",
       "  })({\"config\": {\"view\": {\"continuousWidth\": 300, \"continuousHeight\": 300}}, \"repeat\": {\"layer\": [\"2019\", \"2020\", \"2021\", \"2022\", \"2023\"]}, \"spec\": {\"data\": {\"name\": \"data-c624a453a1d3b4145b12f0fda5c7a0b0\"}, \"mark\": {\"type\": \"line\"}, \"encoding\": {\"color\": {\"datum\": {\"repeat\": \"layer\"}, \"type\": \"ordinal\"}, \"x\": {\"field\": \"Month\", \"type\": \"quantitative\"}, \"y\": {\"field\": {\"repeat\": \"layer\"}, \"title\": \"Monthly rides\", \"type\": \"quantitative\"}}}, \"title\": \"Monthly BlueBikes rides to/from Cambridge\", \"$schema\": \"https://vega.github.io/schema/vega-lite/v5.6.1.json\", \"datasets\": {\"data-c624a453a1d3b4145b12f0fda5c7a0b0\": [{\"Month\": 1, \"2016\": 12031, \"2017\": 17181, \"2018\": 23533, \"2019\": 37108, \"2020\": 65306, \"2021\": 34562, \"2022\": 43555, \"2023\": 72857.0}, {\"Month\": 2, \"2016\": 14631, \"2017\": 17221, \"2018\": 35994, \"2019\": 44724, \"2020\": 71408, \"2021\": 30185, \"2022\": 63646, \"2023\": 85216.0}, {\"Month\": 3, \"2016\": 26227, \"2017\": 22636, \"2018\": 35682, \"2019\": 55133, \"2020\": 53050, \"2021\": 64627, \"2022\": 93223, \"2023\": 105441.0}, {\"Month\": 4, \"2016\": 44246, \"2017\": 50419, \"2018\": 52708, \"2019\": 83450, \"2020\": 16506, \"2021\": 81994, \"2022\": 137045, \"2023\": null}, {\"Month\": 5, \"2016\": 57531, \"2017\": 60602, \"2018\": 86049, \"2019\": 105137, \"2020\": 41073, \"2021\": 116425, \"2022\": 163078, \"2023\": null}, {\"Month\": 6, \"2016\": 70931, \"2017\": 73351, \"2018\": 95606, \"2019\": 122512, \"2020\": 66621, \"2021\": 123875, \"2022\": 169680, \"2023\": null}, {\"Month\": 7, \"2016\": 73552, \"2017\": 79994, \"2018\": 115805, \"2019\": 142630, \"2020\": 92341, \"2021\": 126275, \"2022\": 191386, \"2023\": null}, {\"Month\": 8, \"2016\": 74497, \"2017\": 85348, \"2018\": 112517, \"2019\": 146264, \"2020\": 103762, \"2021\": 149732, \"2022\": 207982, \"2023\": null}, {\"Month\": 9, \"2016\": 76185, \"2017\": 79270, \"2018\": 115410, \"2019\": 165361, \"2020\": 117601, \"2021\": 204170, \"2022\": 254331, \"2023\": null}, {\"Month\": 10, \"2016\": 65004, \"2017\": 81685, \"2018\": 97423, \"2019\": 145857, \"2020\": 100752, \"2021\": 192592, \"2022\": 201566, \"2023\": null}, {\"Month\": 11, \"2016\": 48830, \"2017\": 54182, \"2018\": 63209, \"2019\": 95910, \"2020\": 68935, \"2021\": 129915, \"2022\": 148644, \"2023\": null}, {\"Month\": 12, \"2016\": 25036, \"2017\": 29569, \"2018\": 44366, \"2019\": 48092, \"2020\": 34116, \"2021\": 73578, \"2022\": 75300, \"2023\": null}]}}, {\"mode\": \"vega-lite\"});\n",
       "</script>"
      ],
      "text/plain": [
       "alt.RepeatChart(...)"
      ]
     },
     "execution_count": 14,
     "metadata": {},
     "output_type": "execute_result"
    }
   ],
   "source": [
    "alt = altair\n",
    "altair.Chart(month_per_year.to_pandas()).mark_line().encode(\n",
    "    x=alt.X(\"Month\"),\n",
    "    y=alt.Y(altair.repeat('layer'), type=\"quantitative\").title(\"Monthly rides\"),\n",
    "    color=altair.ColorDatum(altair.repeat('layer'), type=\"ordinal\")\n",
    ").repeat(layer=[str(y) for y in range(2019, 2024)]).properties(title=\"Monthly BlueBikes rides to/from Cambridge\")\n"
   ]
  },
  {
   "cell_type": "code",
   "execution_count": 15,
   "id": "8399c651-957f-4ba5-b8c7-008e76785405",
   "metadata": {
    "tags": []
   },
   "outputs": [
    {
     "data": {
      "text/html": [
       "<div><style>\n",
       ".dataframe > thead > tr > th,\n",
       ".dataframe > tbody > tr > td {\n",
       "  text-align: right;\n",
       "}\n",
       "</style>\n",
       "<small>shape: (87, 2)</small><table border=\"1\" class=\"dataframe\"><thead><tr><th>starttime</th><th>count</th></tr><tr><td>date</td><td>u32</td></tr></thead><tbody><tr><td>2016-01-01</td><td>634</td></tr><tr><td>2016-02-01</td><td>644</td></tr><tr><td>2016-03-01</td><td>983</td></tr><tr><td>2016-04-01</td><td>1599</td></tr><tr><td>2016-05-01</td><td>2108</td></tr><tr><td>2016-06-01</td><td>2485</td></tr><tr><td>2016-07-01</td><td>2486</td></tr><tr><td>2016-08-01</td><td>2353</td></tr><tr><td>2016-09-01</td><td>2392</td></tr><tr><td>2016-10-01</td><td>1999</td></tr><tr><td>2016-11-01</td><td>1445</td></tr><tr><td>2016-12-01</td><td>833</td></tr><tr><td>&hellip;</td><td>&hellip;</td></tr><tr><td>2022-04-01</td><td>2400</td></tr><tr><td>2022-05-01</td><td>3037</td></tr><tr><td>2022-06-01</td><td>3621</td></tr><tr><td>2022-07-01</td><td>3899</td></tr><tr><td>2022-08-01</td><td>4473</td></tr><tr><td>2022-09-01</td><td>5208</td></tr><tr><td>2022-10-01</td><td>3901</td></tr><tr><td>2022-11-01</td><td>2866</td></tr><tr><td>2022-12-01</td><td>1942</td></tr><tr><td>2023-01-01</td><td>1717</td></tr><tr><td>2023-02-01</td><td>1907</td></tr><tr><td>2023-03-01</td><td>2356</td></tr></tbody></table></div>"
      ],
      "text/plain": [
       "shape: (87, 2)\n",
       "┌────────────┬───────┐\n",
       "│ starttime  ┆ count │\n",
       "│ ---        ┆ ---   │\n",
       "│ date       ┆ u32   │\n",
       "╞════════════╪═══════╡\n",
       "│ 2016-01-01 ┆ 634   │\n",
       "│ 2016-02-01 ┆ 644   │\n",
       "│ 2016-03-01 ┆ 983   │\n",
       "│ 2016-04-01 ┆ 1599  │\n",
       "│ …          ┆ …     │\n",
       "│ 2022-12-01 ┆ 1942  │\n",
       "│ 2023-01-01 ┆ 1717  │\n",
       "│ 2023-02-01 ┆ 1907  │\n",
       "│ 2023-03-01 ┆ 2356  │\n",
       "└────────────┴───────┘"
      ]
     },
     "metadata": {},
     "output_type": "display_data"
    }
   ],
   "source": [
    "porter = cambridge_rides.filter((pl.col(\"start station name\") == \"Porter Square Station\") | (pl.col(\"end station name\") == \"Porter Square Station\"))\n",
    "porter_monthly = by_month(porter)\n",
    "display(porter_monthly)"
   ]
  },
  {
   "cell_type": "code",
   "execution_count": 16,
   "id": "c70ba6c6-e66e-4c61-98b8-ad32a04db575",
   "metadata": {
    "tags": []
   },
   "outputs": [
    {
     "data": {
      "text/html": [
       "\n",
       "<div id=\"altair-viz-37f6be2e23c84910ae1e102e9a7b4505\"></div>\n",
       "<script type=\"text/javascript\">\n",
       "  var VEGA_DEBUG = (typeof VEGA_DEBUG == \"undefined\") ? {} : VEGA_DEBUG;\n",
       "  (function(spec, embedOpt){\n",
       "    let outputDiv = document.currentScript.previousElementSibling;\n",
       "    if (outputDiv.id !== \"altair-viz-37f6be2e23c84910ae1e102e9a7b4505\") {\n",
       "      outputDiv = document.getElementById(\"altair-viz-37f6be2e23c84910ae1e102e9a7b4505\");\n",
       "    }\n",
       "    const paths = {\n",
       "      \"vega\": \"https://cdn.jsdelivr.net/npm/vega@5?noext\",\n",
       "      \"vega-lib\": \"https://cdn.jsdelivr.net/npm/vega-lib?noext\",\n",
       "      \"vega-lite\": \"https://cdn.jsdelivr.net/npm/vega-lite@5.6.1?noext\",\n",
       "      \"vega-embed\": \"https://cdn.jsdelivr.net/npm/vega-embed@6?noext\",\n",
       "    };\n",
       "\n",
       "    function maybeLoadScript(lib, version) {\n",
       "      var key = `${lib.replace(\"-\", \"\")}_version`;\n",
       "      return (VEGA_DEBUG[key] == version) ?\n",
       "        Promise.resolve(paths[lib]) :\n",
       "        new Promise(function(resolve, reject) {\n",
       "          var s = document.createElement('script');\n",
       "          document.getElementsByTagName(\"head\")[0].appendChild(s);\n",
       "          s.async = true;\n",
       "          s.onload = () => {\n",
       "            VEGA_DEBUG[key] = version;\n",
       "            return resolve(paths[lib]);\n",
       "          };\n",
       "          s.onerror = () => reject(`Error loading script: ${paths[lib]}`);\n",
       "          s.src = paths[lib];\n",
       "        });\n",
       "    }\n",
       "\n",
       "    function showError(err) {\n",
       "      outputDiv.innerHTML = `<div class=\"error\" style=\"color:red;\">${err}</div>`;\n",
       "      throw err;\n",
       "    }\n",
       "\n",
       "    function displayChart(vegaEmbed) {\n",
       "      vegaEmbed(outputDiv, spec, embedOpt)\n",
       "        .catch(err => showError(`Javascript Error: ${err.message}<br>This usually means there's a typo in your chart specification. See the javascript console for the full traceback.`));\n",
       "    }\n",
       "\n",
       "    if(typeof define === \"function\" && define.amd) {\n",
       "      requirejs.config({paths});\n",
       "      require([\"vega-embed\"], displayChart, err => showError(`Error loading script: ${err.message}`));\n",
       "    } else {\n",
       "      maybeLoadScript(\"vega\", \"5\")\n",
       "        .then(() => maybeLoadScript(\"vega-lite\", \"5.6.1\"))\n",
       "        .then(() => maybeLoadScript(\"vega-embed\", \"6\"))\n",
       "        .catch(showError)\n",
       "        .then(() => displayChart(vegaEmbed));\n",
       "    }\n",
       "  })({\"config\": {\"view\": {\"continuousWidth\": 300, \"continuousHeight\": 300}}, \"data\": {\"name\": \"data-7ea688d16f53d5bebf9e5593a32749da\"}, \"mark\": {\"type\": \"line\"}, \"encoding\": {\"x\": {\"field\": \"starttime\", \"type\": \"temporal\"}, \"y\": {\"field\": \"count\", \"type\": \"quantitative\"}}, \"title\": \"Year-over-Year growth, Porter Sq. BlueBikes Station\", \"$schema\": \"https://vega.github.io/schema/vega-lite/v5.6.1.json\", \"datasets\": {\"data-7ea688d16f53d5bebf9e5593a32749da\": [{\"starttime\": \"2016-07-01T00:00:00\", \"count\": null}, {\"starttime\": \"2016-08-01T00:00:00\", \"count\": null}, {\"starttime\": \"2016-09-01T00:00:00\", \"count\": null}, {\"starttime\": \"2016-10-01T00:00:00\", \"count\": null}, {\"starttime\": \"2016-11-01T00:00:00\", \"count\": null}, {\"starttime\": \"2017-07-01T00:00:00\", \"count\": 0.8113435237329043}, {\"starttime\": \"2017-08-01T00:00:00\", \"count\": 1.0254993625159372}, {\"starttime\": \"2017-09-01T00:00:00\", \"count\": 0.8917224080267558}, {\"starttime\": \"2017-10-01T00:00:00\", \"count\": 1.0600300150075037}, {\"starttime\": \"2017-11-01T00:00:00\", \"count\": 1.0200692041522492}, {\"starttime\": \"2018-07-01T00:00:00\", \"count\": 1.458601883986118}, {\"starttime\": \"2018-08-01T00:00:00\", \"count\": 1.263157894736842}, {\"starttime\": \"2018-09-01T00:00:00\", \"count\": 1.350210970464135}, {\"starttime\": \"2018-10-01T00:00:00\", \"count\": 1.2496460594620105}, {\"starttime\": \"2018-11-01T00:00:00\", \"count\": 1.2530529172320217}, {\"starttime\": \"2019-07-01T00:00:00\", \"count\": 1.1845683208701563}, {\"starttime\": \"2019-08-01T00:00:00\", \"count\": 1.109251968503937}, {\"starttime\": \"2019-09-01T00:00:00\", \"count\": 1.2878472222222221}, {\"starttime\": \"2019-10-01T00:00:00\", \"count\": 1.1771148036253776}, {\"starttime\": \"2019-11-01T00:00:00\", \"count\": 1.2154845695722793}, {\"starttime\": \"2020-07-01T00:00:00\", \"count\": 0.5449067431850789}, {\"starttime\": \"2020-08-01T00:00:00\", \"count\": 0.5891748003549245}, {\"starttime\": \"2020-09-01T00:00:00\", \"count\": 0.5500134807225667}, {\"starttime\": \"2020-10-01T00:00:00\", \"count\": 0.5717035611164581}, {\"starttime\": \"2020-11-01T00:00:00\", \"count\": 0.5821826280623608}, {\"starttime\": \"2021-07-01T00:00:00\", \"count\": 1.3828330700368614}, {\"starttime\": \"2021-08-01T00:00:00\", \"count\": 1.4809236947791165}, {\"starttime\": \"2021-09-01T00:00:00\", \"count\": 1.6848039215686275}, {\"starttime\": \"2021-10-01T00:00:00\", \"count\": 1.8961840628507296}, {\"starttime\": \"2021-11-01T00:00:00\", \"count\": 1.709257842387146}, {\"starttime\": \"2022-07-01T00:00:00\", \"count\": 1.4847677075399848}, {\"starttime\": \"2022-08-01T00:00:00\", \"count\": 1.516271186440678}, {\"starttime\": \"2022-09-01T00:00:00\", \"count\": 1.5152749490835031}, {\"starttime\": \"2022-10-01T00:00:00\", \"count\": 1.154483575022196}, {\"starttime\": \"2022-11-01T00:00:00\", \"count\": 1.2829006266786034}]}}, {\"mode\": \"vega-lite\"});\n",
       "</script>"
      ],
      "text/plain": [
       "alt.Chart(...)"
      ]
     },
     "metadata": {},
     "output_type": "display_data"
    },
    {
     "data": {
      "text/html": [
       "\n",
       "<div id=\"altair-viz-5845ceeba64c4df38142e1f66a5a0171\"></div>\n",
       "<script type=\"text/javascript\">\n",
       "  var VEGA_DEBUG = (typeof VEGA_DEBUG == \"undefined\") ? {} : VEGA_DEBUG;\n",
       "  (function(spec, embedOpt){\n",
       "    let outputDiv = document.currentScript.previousElementSibling;\n",
       "    if (outputDiv.id !== \"altair-viz-5845ceeba64c4df38142e1f66a5a0171\") {\n",
       "      outputDiv = document.getElementById(\"altair-viz-5845ceeba64c4df38142e1f66a5a0171\");\n",
       "    }\n",
       "    const paths = {\n",
       "      \"vega\": \"https://cdn.jsdelivr.net/npm/vega@5?noext\",\n",
       "      \"vega-lib\": \"https://cdn.jsdelivr.net/npm/vega-lib?noext\",\n",
       "      \"vega-lite\": \"https://cdn.jsdelivr.net/npm/vega-lite@5.6.1?noext\",\n",
       "      \"vega-embed\": \"https://cdn.jsdelivr.net/npm/vega-embed@6?noext\",\n",
       "    };\n",
       "\n",
       "    function maybeLoadScript(lib, version) {\n",
       "      var key = `${lib.replace(\"-\", \"\")}_version`;\n",
       "      return (VEGA_DEBUG[key] == version) ?\n",
       "        Promise.resolve(paths[lib]) :\n",
       "        new Promise(function(resolve, reject) {\n",
       "          var s = document.createElement('script');\n",
       "          document.getElementsByTagName(\"head\")[0].appendChild(s);\n",
       "          s.async = true;\n",
       "          s.onload = () => {\n",
       "            VEGA_DEBUG[key] = version;\n",
       "            return resolve(paths[lib]);\n",
       "          };\n",
       "          s.onerror = () => reject(`Error loading script: ${paths[lib]}`);\n",
       "          s.src = paths[lib];\n",
       "        });\n",
       "    }\n",
       "\n",
       "    function showError(err) {\n",
       "      outputDiv.innerHTML = `<div class=\"error\" style=\"color:red;\">${err}</div>`;\n",
       "      throw err;\n",
       "    }\n",
       "\n",
       "    function displayChart(vegaEmbed) {\n",
       "      vegaEmbed(outputDiv, spec, embedOpt)\n",
       "        .catch(err => showError(`Javascript Error: ${err.message}<br>This usually means there's a typo in your chart specification. See the javascript console for the full traceback.`));\n",
       "    }\n",
       "\n",
       "    if(typeof define === \"function\" && define.amd) {\n",
       "      requirejs.config({paths});\n",
       "      require([\"vega-embed\"], displayChart, err => showError(`Error loading script: ${err.message}`));\n",
       "    } else {\n",
       "      maybeLoadScript(\"vega\", \"5\")\n",
       "        .then(() => maybeLoadScript(\"vega-lite\", \"5.6.1\"))\n",
       "        .then(() => maybeLoadScript(\"vega-embed\", \"6\"))\n",
       "        .catch(showError)\n",
       "        .then(() => displayChart(vegaEmbed));\n",
       "    }\n",
       "  })({\"config\": {\"view\": {\"continuousWidth\": 300, \"continuousHeight\": 300}}, \"data\": {\"name\": \"data-089a135a72782afd75c17d2340fb68b9\"}, \"mark\": {\"type\": \"line\"}, \"encoding\": {\"x\": {\"field\": \"starttime\", \"type\": \"temporal\"}, \"y\": {\"field\": \"count\", \"type\": \"quantitative\"}}, \"title\": \"Year-over-Year growth, Porter Sq. BlueBikes Station\", \"$schema\": \"https://vega.github.io/schema/vega-lite/v5.6.1.json\", \"datasets\": {\"data-089a135a72782afd75c17d2340fb68b9\": [{\"starttime\": \"2016-01-01T00:00:00\", \"count\": null}, {\"starttime\": \"2017-01-01T00:00:00\", \"count\": 0.9114272832022444}, {\"starttime\": \"2018-01-01T00:00:00\", \"count\": 1.3250700818996317}, {\"starttime\": \"2019-01-01T00:00:00\", \"count\": 1.2579333803459576}, {\"starttime\": \"2020-01-01T00:00:00\", \"count\": 0.6065952184666117}, {\"starttime\": \"2021-01-01T00:00:00\", \"count\": 1.3723837999456374}, {\"starttime\": \"2022-01-01T00:00:00\", \"count\": 1.3916022974846505}, {\"starttime\": \"2023-01-01T00:00:00\", \"count\": 0.1702200335885685}]}}, {\"mode\": \"vega-lite\"});\n",
       "</script>"
      ],
      "text/plain": [
       "alt.Chart(...)"
      ]
     },
     "execution_count": 16,
     "metadata": {},
     "output_type": "execute_result"
    }
   ],
   "source": [
    "year_over_year = porter_monthly.select(pl.col(\"starttime\"), pl.col(\"count\") / pl.col(\"count\").shift(12)).filter(pl.col(\"starttime\").dt.month().is_in([7, 8, 9, 10, 11]))\n",
    "display(linechart(year_over_year, \"Year-over-Year growth, Porter Sq. BlueBikes Station\"))\n",
    "year_over_year = by_year(porter).select(pl.col(\"starttime\"), pl.col(\"count\") / pl.col(\"count\").shift(1))\n",
    "linechart(year_over_year, \"Year-over-Year growth, Porter Sq. BlueBikes Station\")"
   ]
  },
  {
   "cell_type": "code",
   "execution_count": 17,
   "id": "222da607-1e12-4d08-b155-c3c45eb322b2",
   "metadata": {
    "tags": []
   },
   "outputs": [
    {
     "data": {
      "text/html": [
       "<div><style>\n",
       ".dataframe > thead > tr > th,\n",
       ".dataframe > tbody > tr > td {\n",
       "  text-align: right;\n",
       "}\n",
       "</style>\n",
       "<small>shape: (87, 3)</small><table border=\"1\" class=\"dataframe\"><thead><tr><th>starttime</th><th>count</th><th>Porter</th></tr><tr><td>date</td><td>u32</td><td>u32</td></tr></thead><tbody><tr><td>2016-01-01</td><td>12031</td><td>634</td></tr><tr><td>2016-02-01</td><td>14631</td><td>644</td></tr><tr><td>2016-03-01</td><td>26227</td><td>983</td></tr><tr><td>2016-04-01</td><td>44246</td><td>1599</td></tr><tr><td>2016-05-01</td><td>57531</td><td>2108</td></tr><tr><td>2016-06-01</td><td>70931</td><td>2485</td></tr><tr><td>2016-07-01</td><td>73552</td><td>2486</td></tr><tr><td>2016-08-01</td><td>74497</td><td>2353</td></tr><tr><td>2016-09-01</td><td>76185</td><td>2392</td></tr><tr><td>2016-10-01</td><td>65004</td><td>1999</td></tr><tr><td>2016-11-01</td><td>48830</td><td>1445</td></tr><tr><td>2016-12-01</td><td>25036</td><td>833</td></tr><tr><td>&hellip;</td><td>&hellip;</td><td>&hellip;</td></tr><tr><td>2022-04-01</td><td>137045</td><td>2400</td></tr><tr><td>2022-05-01</td><td>163078</td><td>3037</td></tr><tr><td>2022-06-01</td><td>169680</td><td>3621</td></tr><tr><td>2022-07-01</td><td>191386</td><td>3899</td></tr><tr><td>2022-08-01</td><td>207982</td><td>4473</td></tr><tr><td>2022-09-01</td><td>254331</td><td>5208</td></tr><tr><td>2022-10-01</td><td>201566</td><td>3901</td></tr><tr><td>2022-11-01</td><td>148644</td><td>2866</td></tr><tr><td>2022-12-01</td><td>75300</td><td>1942</td></tr><tr><td>2023-01-01</td><td>72857</td><td>1717</td></tr><tr><td>2023-02-01</td><td>85216</td><td>1907</td></tr><tr><td>2023-03-01</td><td>105441</td><td>2356</td></tr></tbody></table></div>"
      ],
      "text/plain": [
       "shape: (87, 3)\n",
       "┌────────────┬────────┬────────┐\n",
       "│ starttime  ┆ count  ┆ Porter │\n",
       "│ ---        ┆ ---    ┆ ---    │\n",
       "│ date       ┆ u32    ┆ u32    │\n",
       "╞════════════╪════════╪════════╡\n",
       "│ 2016-01-01 ┆ 12031  ┆ 634    │\n",
       "│ 2016-02-01 ┆ 14631  ┆ 644    │\n",
       "│ 2016-03-01 ┆ 26227  ┆ 983    │\n",
       "│ 2016-04-01 ┆ 44246  ┆ 1599   │\n",
       "│ …          ┆ …      ┆ …      │\n",
       "│ 2022-12-01 ┆ 75300  ┆ 1942   │\n",
       "│ 2023-01-01 ┆ 72857  ┆ 1717   │\n",
       "│ 2023-02-01 ┆ 85216  ┆ 1907   │\n",
       "│ 2023-03-01 ┆ 105441 ┆ 2356   │\n",
       "└────────────┴────────┴────────┘"
      ]
     },
     "metadata": {},
     "output_type": "display_data"
    },
    {
     "data": {
      "text/html": [
       "<div><style>\n",
       ".dataframe > thead > tr > th,\n",
       ".dataframe > tbody > tr > td {\n",
       "  text-align: right;\n",
       "}\n",
       "</style>\n",
       "<small>shape: (8, 3)</small><table border=\"1\" class=\"dataframe\"><thead><tr><th>starttime</th><th>count</th><th>Porter</th></tr><tr><td>i32</td><td>u32</td><td>u32</td></tr></thead><tbody><tr><td>2016</td><td>588701</td><td>19961</td></tr><tr><td>2017</td><td>651458</td><td>18193</td></tr><tr><td>2018</td><td>878302</td><td>24107</td></tr><tr><td>2019</td><td>1192178</td><td>30325</td></tr><tr><td>2020</td><td>831471</td><td>18395</td></tr><tr><td>2021</td><td>1327930</td><td>25245</td></tr><tr><td>2022</td><td>1749436</td><td>35131</td></tr><tr><td>2023</td><td>263514</td><td>5980</td></tr></tbody></table></div>"
      ],
      "text/plain": [
       "shape: (8, 3)\n",
       "┌───────────┬─────────┬────────┐\n",
       "│ starttime ┆ count   ┆ Porter │\n",
       "│ ---       ┆ ---     ┆ ---    │\n",
       "│ i32       ┆ u32     ┆ u32    │\n",
       "╞═══════════╪═════════╪════════╡\n",
       "│ 2016      ┆ 588701  ┆ 19961  │\n",
       "│ 2017      ┆ 651458  ┆ 18193  │\n",
       "│ 2018      ┆ 878302  ┆ 24107  │\n",
       "│ 2019      ┆ 1192178 ┆ 30325  │\n",
       "│ 2020      ┆ 831471  ┆ 18395  │\n",
       "│ 2021      ┆ 1327930 ┆ 25245  │\n",
       "│ 2022      ┆ 1749436 ┆ 35131  │\n",
       "│ 2023      ┆ 263514  ┆ 5980   │\n",
       "└───────────┴─────────┴────────┘"
      ]
     },
     "metadata": {},
     "output_type": "display_data"
    },
    {
     "data": {
      "text/html": [
       "<div><style>\n",
       ".dataframe > thead > tr > th,\n",
       ".dataframe > tbody > tr > td {\n",
       "  text-align: right;\n",
       "}\n",
       "</style>\n",
       "<small>shape: (8, 3)</small><table border=\"1\" class=\"dataframe\"><thead><tr><th>starttime</th><th>count</th><th>Porter</th></tr><tr><td>i32</td><td>f64</td><td>f64</td></tr></thead><tbody><tr><td>2016</td><td>1.0</td><td>1.0</td></tr><tr><td>2017</td><td>1.106603</td><td>0.911427</td></tr><tr><td>2018</td><td>1.491932</td><td>1.207705</td></tr><tr><td>2019</td><td>2.025099</td><td>1.519212</td></tr><tr><td>2020</td><td>1.412383</td><td>0.921547</td></tr><tr><td>2021</td><td>2.255695</td><td>1.264716</td></tr><tr><td>2022</td><td>2.971689</td><td>1.759982</td></tr><tr><td>2023</td><td>0.447619</td><td>0.299584</td></tr></tbody></table></div>"
      ],
      "text/plain": [
       "shape: (8, 3)\n",
       "┌───────────┬──────────┬──────────┐\n",
       "│ starttime ┆ count    ┆ Porter   │\n",
       "│ ---       ┆ ---      ┆ ---      │\n",
       "│ i32       ┆ f64      ┆ f64      │\n",
       "╞═══════════╪══════════╪══════════╡\n",
       "│ 2016      ┆ 1.0      ┆ 1.0      │\n",
       "│ 2017      ┆ 1.106603 ┆ 0.911427 │\n",
       "│ 2018      ┆ 1.491932 ┆ 1.207705 │\n",
       "│ 2019      ┆ 2.025099 ┆ 1.519212 │\n",
       "│ 2020      ┆ 1.412383 ┆ 0.921547 │\n",
       "│ 2021      ┆ 2.255695 ┆ 1.264716 │\n",
       "│ 2022      ┆ 2.971689 ┆ 1.759982 │\n",
       "│ 2023      ┆ 0.447619 ┆ 0.299584 │\n",
       "└───────────┴──────────┴──────────┘"
      ]
     },
     "metadata": {},
     "output_type": "display_data"
    },
    {
     "data": {
      "text/html": [
       "\n",
       "<div id=\"altair-viz-2ab839805e5e4637bee136d6053a48de\"></div>\n",
       "<script type=\"text/javascript\">\n",
       "  var VEGA_DEBUG = (typeof VEGA_DEBUG == \"undefined\") ? {} : VEGA_DEBUG;\n",
       "  (function(spec, embedOpt){\n",
       "    let outputDiv = document.currentScript.previousElementSibling;\n",
       "    if (outputDiv.id !== \"altair-viz-2ab839805e5e4637bee136d6053a48de\") {\n",
       "      outputDiv = document.getElementById(\"altair-viz-2ab839805e5e4637bee136d6053a48de\");\n",
       "    }\n",
       "    const paths = {\n",
       "      \"vega\": \"https://cdn.jsdelivr.net/npm/vega@5?noext\",\n",
       "      \"vega-lib\": \"https://cdn.jsdelivr.net/npm/vega-lib?noext\",\n",
       "      \"vega-lite\": \"https://cdn.jsdelivr.net/npm/vega-lite@5.6.1?noext\",\n",
       "      \"vega-embed\": \"https://cdn.jsdelivr.net/npm/vega-embed@6?noext\",\n",
       "    };\n",
       "\n",
       "    function maybeLoadScript(lib, version) {\n",
       "      var key = `${lib.replace(\"-\", \"\")}_version`;\n",
       "      return (VEGA_DEBUG[key] == version) ?\n",
       "        Promise.resolve(paths[lib]) :\n",
       "        new Promise(function(resolve, reject) {\n",
       "          var s = document.createElement('script');\n",
       "          document.getElementsByTagName(\"head\")[0].appendChild(s);\n",
       "          s.async = true;\n",
       "          s.onload = () => {\n",
       "            VEGA_DEBUG[key] = version;\n",
       "            return resolve(paths[lib]);\n",
       "          };\n",
       "          s.onerror = () => reject(`Error loading script: ${paths[lib]}`);\n",
       "          s.src = paths[lib];\n",
       "        });\n",
       "    }\n",
       "\n",
       "    function showError(err) {\n",
       "      outputDiv.innerHTML = `<div class=\"error\" style=\"color:red;\">${err}</div>`;\n",
       "      throw err;\n",
       "    }\n",
       "\n",
       "    function displayChart(vegaEmbed) {\n",
       "      vegaEmbed(outputDiv, spec, embedOpt)\n",
       "        .catch(err => showError(`Javascript Error: ${err.message}<br>This usually means there's a typo in your chart specification. See the javascript console for the full traceback.`));\n",
       "    }\n",
       "\n",
       "    if(typeof define === \"function\" && define.amd) {\n",
       "      requirejs.config({paths});\n",
       "      require([\"vega-embed\"], displayChart, err => showError(`Error loading script: ${err.message}`));\n",
       "    } else {\n",
       "      maybeLoadScript(\"vega\", \"5\")\n",
       "        .then(() => maybeLoadScript(\"vega-lite\", \"5.6.1\"))\n",
       "        .then(() => maybeLoadScript(\"vega-embed\", \"6\"))\n",
       "        .catch(showError)\n",
       "        .then(() => displayChart(vegaEmbed));\n",
       "    }\n",
       "  })({\"config\": {\"view\": {\"continuousWidth\": 300, \"continuousHeight\": 300}}, \"data\": {\"name\": \"data-a40318993560fb4463267ad3c0a50ce1\"}, \"mark\": {\"type\": \"line\"}, \"encoding\": {\"x\": {\"field\": \"starttime\", \"type\": \"temporal\"}, \"y\": {\"field\": \"Porter %\", \"type\": \"quantitative\"}}, \"title\": \"\", \"$schema\": \"https://vega.github.io/schema/vega-lite/v5.6.1.json\", \"datasets\": {\"data-a40318993560fb4463267ad3c0a50ce1\": [{\"starttime\": \"2016-01-01T00:00:00\", \"Porter %\": 5.269719890283434}, {\"starttime\": \"2016-02-01T00:00:00\", \"Porter %\": 4.401613013464561}, {\"starttime\": \"2016-03-01T00:00:00\", \"Porter %\": 3.748045906889846}, {\"starttime\": \"2016-04-01T00:00:00\", \"Porter %\": 3.61388600099444}, {\"starttime\": \"2016-05-01T00:00:00\", \"Porter %\": 3.6641115224835303}, {\"starttime\": \"2016-06-01T00:00:00\", \"Porter %\": 3.503404717260436}, {\"starttime\": \"2016-07-01T00:00:00\", \"Porter %\": 3.3799216880574288}, {\"starttime\": \"2016-08-01T00:00:00\", \"Porter %\": 3.1585164503268586}, {\"starttime\": \"2016-09-01T00:00:00\", \"Porter %\": 3.139725667782372}, {\"starttime\": \"2016-10-01T00:00:00\", \"Porter %\": 3.075195372592456}, {\"starttime\": \"2016-11-01T00:00:00\", \"Porter %\": 2.9592463649395864}, {\"starttime\": \"2016-12-01T00:00:00\", \"Porter %\": 3.327208819300208}, {\"starttime\": \"2017-01-01T00:00:00\", \"Porter %\": 3.1953902566788894}, {\"starttime\": \"2017-02-01T00:00:00\", \"Porter %\": 3.513152546309738}, {\"starttime\": \"2017-03-01T00:00:00\", \"Porter %\": 3.1100901219296695}, {\"starttime\": \"2017-04-01T00:00:00\", \"Porter %\": 2.7727642357047935}, {\"starttime\": \"2017-05-01T00:00:00\", \"Porter %\": 3.105508069040626}, {\"starttime\": \"2017-06-01T00:00:00\", \"Porter %\": 2.8002344889640223}, {\"starttime\": \"2017-07-01T00:00:00\", \"Porter %\": 2.521439107933095}, {\"starttime\": \"2017-08-01T00:00:00\", \"Porter %\": 2.827248441674087}, {\"starttime\": \"2017-09-01T00:00:00\", \"Porter %\": 2.690803582692065}, {\"starttime\": \"2017-10-01T00:00:00\", \"Porter %\": 2.5941115259839624}, {\"starttime\": \"2017-11-01T00:00:00\", \"Porter %\": 2.7204606695950684}, {\"starttime\": \"2017-12-01T00:00:00\", \"Porter %\": 2.857722614900741}, {\"starttime\": \"2018-01-01T00:00:00\", \"Porter %\": 3.1232737007606337}, {\"starttime\": \"2018-02-01T00:00:00\", \"Porter %\": 2.99772184252931}, {\"starttime\": \"2018-03-01T00:00:00\", \"Porter %\": 3.060366571380528}, {\"starttime\": \"2018-04-01T00:00:00\", \"Porter %\": 2.8648402519541625}, {\"starttime\": \"2018-05-01T00:00:00\", \"Porter %\": 2.783297888412416}, {\"starttime\": \"2018-06-01T00:00:00\", \"Porter %\": 2.648369349204025}, {\"starttime\": \"2018-07-01T00:00:00\", \"Porter %\": 2.5404775268770776}, {\"starttime\": \"2018-08-01T00:00:00\", \"Porter %\": 2.7089239848200717}, {\"starttime\": \"2018-09-01T00:00:00\", \"Porter %\": 2.4954510007798287}, {\"starttime\": \"2018-10-01T00:00:00\", \"Porter %\": 2.718043993718116}, {\"starttime\": \"2018-11-01T00:00:00\", \"Porter %\": 2.9220522393962884}, {\"starttime\": \"2018-12-01T00:00:00\", \"Porter %\": 3.1533156020375963}, {\"starttime\": \"2019-01-01T00:00:00\", \"Porter %\": 3.3389026624986524}, {\"starttime\": \"2019-02-01T00:00:00\", \"Porter %\": 3.045344781325463}, {\"starttime\": \"2019-03-01T00:00:00\", \"Porter %\": 2.943790470317233}, {\"starttime\": \"2019-04-01T00:00:00\", \"Porter %\": 2.89035350509287}, {\"starttime\": \"2019-05-01T00:00:00\", \"Porter %\": 2.8011071268915795}, {\"starttime\": \"2019-06-01T00:00:00\", \"Porter %\": 2.9091027817683166}, {\"starttime\": \"2019-07-01T00:00:00\", \"Porter %\": 2.443384982121573}, {\"starttime\": \"2019-08-01T00:00:00\", \"Porter %\": 2.311573592955204}, {\"starttime\": \"2019-09-01T00:00:00\", \"Porter %\": 2.2429714382472286}, {\"starttime\": \"2019-10-01T00:00:00\", \"Porter %\": 2.137024620004525}, {\"starttime\": \"2019-11-01T00:00:00\", \"Porter %\": 2.3407361067667605}, {\"starttime\": \"2019-12-01T00:00:00\", \"Porter %\": 2.584629460201281}, {\"starttime\": \"2020-01-01T00:00:00\", \"Porter %\": 3.0793495237803574}, {\"starttime\": \"2020-02-01T00:00:00\", \"Porter %\": 2.8848308312794084}, {\"starttime\": \"2020-03-01T00:00:00\", \"Porter %\": 2.989632422243167}, {\"starttime\": \"2020-04-01T00:00:00\", \"Porter %\": 2.4597116200169635}, {\"starttime\": \"2020-05-01T00:00:00\", \"Porter %\": 2.1571348574489324}, {\"starttime\": \"2020-06-01T00:00:00\", \"Porter %\": 2.102940514252263}, {\"starttime\": \"2020-07-01T00:00:00\", \"Porter %\": 2.056507943383762}, {\"starttime\": \"2020-08-01T00:00:00\", \"Porter %\": 1.9197779533933423}, {\"starttime\": \"2020-09-01T00:00:00\", \"Porter %\": 1.7346791268781727}, {\"starttime\": \"2020-10-01T00:00:00\", \"Porter %\": 1.7686993806574558}, {\"starttime\": \"2020-11-01T00:00:00\", \"Porter %\": 1.8959889751214913}, {\"starttime\": \"2020-12-01T00:00:00\", \"Porter %\": 3.0044553875014657}, {\"starttime\": \"2021-01-01T00:00:00\", \"Porter %\": 2.609802673456397}, {\"starttime\": \"2021-02-01T00:00:00\", \"Porter %\": 2.5012423389100547}, {\"starttime\": \"2021-03-01T00:00:00\", \"Porter %\": 2.201866093118975}, {\"starttime\": \"2021-04-01T00:00:00\", \"Porter %\": 1.8989194331292532}, {\"starttime\": \"2021-05-01T00:00:00\", \"Porter %\": 1.7144084174361176}, {\"starttime\": \"2021-06-01T00:00:00\", \"Porter %\": 1.8437941473259334}, {\"starttime\": \"2021-07-01T00:00:00\", \"Porter %\": 2.079588200356365}, {\"starttime\": \"2021-08-01T00:00:00\", \"Porter %\": 1.9701867336307535}, {\"starttime\": \"2021-09-01T00:00:00\", \"Porter %\": 1.6834010873291865}, {\"starttime\": \"2021-10-01T00:00:00\", \"Porter %\": 1.7544861676497467}, {\"starttime\": \"2021-11-01T00:00:00\", \"Porter %\": 1.719585883077397}, {\"starttime\": \"2021-12-01T00:00:00\", \"Porter %\": 2.3131914430944036}, {\"starttime\": \"2022-01-01T00:00:00\", \"Porter %\": 2.2959476523935254}, {\"starttime\": \"2022-02-01T00:00:00\", \"Porter %\": 1.886999968576187}, {\"starttime\": \"2022-03-01T00:00:00\", \"Porter %\": 1.6980788002960643}, {\"starttime\": \"2022-04-01T00:00:00\", \"Porter %\": 1.7512495895508775}, {\"starttime\": \"2022-05-01T00:00:00\", \"Porter %\": 1.8622990225536245}, {\"starttime\": \"2022-06-01T00:00:00\", \"Porter %\": 2.1340169731258842}, {\"starttime\": \"2022-07-01T00:00:00\", \"Porter %\": 2.037244103539444}, {\"starttime\": \"2022-08-01T00:00:00\", \"Porter %\": 2.150666884634247}, {\"starttime\": \"2022-09-01T00:00:00\", \"Porter %\": 2.0477252084881514}, {\"starttime\": \"2022-10-01T00:00:00\", \"Porter %\": 1.9353462389490292}, {\"starttime\": \"2022-11-01T00:00:00\", \"Porter %\": 1.9280966604773822}, {\"starttime\": \"2022-12-01T00:00:00\", \"Porter %\": 2.5790172642762283}, {\"starttime\": \"2023-01-01T00:00:00\", \"Porter %\": 2.35667128759076}, {\"starttime\": \"2023-02-01T00:00:00\", \"Porter %\": 2.2378426586556515}, {\"starttime\": \"2023-03-01T00:00:00\", \"Porter %\": 2.2344249390654487}]}}, {\"mode\": \"vega-lite\"});\n",
       "</script>"
      ],
      "text/plain": [
       "alt.Chart(...)"
      ]
     },
     "execution_count": 17,
     "metadata": {},
     "output_type": "execute_result"
    }
   ],
   "source": [
    "monthly2 = monthly.sort(\"starttime\").with_columns(porter_monthly.sort(\"starttime\").get_column(\"count\").alias(\"Porter\"))\n",
    "display(monthly2)\n",
    "yearly2 = monthly2.groupby(pl.col(\"starttime\").dt.year()).agg([pl.col(\"count\").sum(), pl.col(\"Porter\").sum()]).sort(\"starttime\")\n",
    "display(yearly2)\n",
    "display(yearly2.select([pl.col(\"starttime\"), pl.col(\"count\") / 588701, pl.col(\"Porter\") / 19961]))\n",
    "linechart(monthly2.select([pl.col(\"starttime\"), ((pl.col(\"Porter\") / pl.col(\"count\")) * 100).alias(\"Porter %\")]), \"\", \"Porter %\")"
   ]
  }
 ],
 "metadata": {
  "kernelspec": {
   "display_name": "Python 3 (ipykernel)",
   "language": "python",
   "name": "python3"
  },
  "language_info": {
   "codemirror_mode": {
    "name": "ipython",
    "version": 3
   },
   "file_extension": ".py",
   "mimetype": "text/x-python",
   "name": "python",
   "nbconvert_exporter": "python",
   "pygments_lexer": "ipython3",
   "version": "3.11.4"
  }
 },
 "nbformat": 4,
 "nbformat_minor": 5
}
