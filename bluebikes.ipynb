{
 "cells": [
  {
   "cell_type": "code",
   "execution_count": 1,
   "id": "3d55a297-7922-485a-af15-74959ff4f2f9",
   "metadata": {
    "tags": []
   },
   "outputs": [],
   "source": [
    "import polars as pl\n",
    "import altair"
   ]
  },
  {
   "cell_type": "code",
   "execution_count": 13,
   "id": "74e3afaa-c72a-4e03-b588-99b2e15f9b50",
   "metadata": {
    "tags": []
   },
   "outputs": [
    {
     "data": {
      "text/html": [
       "<div><style>\n",
       ".dataframe > thead > tr > th,\n",
       ".dataframe > tbody > tr > td {\n",
       "  text-align: right;\n",
       "}\n",
       "</style>\n",
       "<small>shape: (119, 2)</small><table border=\"1\" class=\"dataframe\"><thead><tr><th>name</th><th>City</th></tr><tr><td>str</td><td>str</td></tr></thead><tbody><tr><td>&quot;Harvard Univer…</td><td>&quot;Cambridge&quot;</td></tr><tr><td>&quot;Ames St at Mai…</td><td>&quot;Cambridge&quot;</td></tr><tr><td>&quot;Kendall Street…</td><td>&quot;Cambridge&quot;</td></tr><tr><td>&quot;MIT Pacific St…</td><td>&quot;Cambridge&quot;</td></tr><tr><td>&quot;Central Square…</td><td>&quot;Cambridge&quot;</td></tr><tr><td>&quot;One Broadway /…</td><td>&quot;Cambridge&quot;</td></tr><tr><td>&quot;Harvard Square…</td><td>&quot;Cambridge&quot;</td></tr><tr><td>&quot;CambridgeSide …</td><td>&quot;Cambridge&quot;</td></tr><tr><td>&quot;Cambridge St -…</td><td>&quot;Cambridge&quot;</td></tr><tr><td>&quot;MIT Stata Cent…</td><td>&quot;Cambridge&quot;</td></tr><tr><td>&quot;Harvard Kenned…</td><td>&quot;Cambridge&quot;</td></tr><tr><td>&quot;Harvard Square…</td><td>&quot;Cambridge&quot;</td></tr><tr><td>&hellip;</td><td>&hellip;</td></tr><tr><td>&quot;Harvard Square…</td><td>&quot;Cambridge&quot;</td></tr><tr><td>&quot;Galileo Galile…</td><td>&quot;Cambridge&quot;</td></tr><tr><td>&quot;Beacon St at W…</td><td>&quot;Cambridge&quot;</td></tr><tr><td>&quot;CambridgeSide …</td><td>&quot;Cambridge&quot;</td></tr><tr><td>&quot;Child Street a…</td><td>&quot;Cambridge&quot;</td></tr><tr><td>&quot;Raymond Park a…</td><td>&quot;Cambridge&quot;</td></tr><tr><td>&quot;Main Street/Al…</td><td>&quot;Cambridge&quot;</td></tr><tr><td>&quot;Harvard Univer…</td><td>&quot;Cambridge&quot;</td></tr><tr><td>&quot;Gore Street at…</td><td>&quot;Cambridge&quot;</td></tr><tr><td>&quot;Broad Canal Wa…</td><td>&quot;Cambridge&quot;</td></tr><tr><td>&quot;John Ahern Fie…</td><td>&quot;Cambridge&quot;</td></tr><tr><td>&quot;87-101 Cambrid…</td><td>&quot;Cambridge&quot;</td></tr></tbody></table></div>"
      ],
      "text/plain": [
       "shape: (119, 2)\n",
       "┌───────────────────────────────────┬───────────┐\n",
       "│ name                              ┆ City      │\n",
       "│ ---                               ┆ ---       │\n",
       "│ str                               ┆ str       │\n",
       "╞═══════════════════════════════════╪═══════════╡\n",
       "│ Harvard University Gund Hall at … ┆ Cambridge │\n",
       "│ Ames St at Main St                ┆ Cambridge │\n",
       "│ Kendall Street                    ┆ Cambridge │\n",
       "│ MIT Pacific St at Purrington St   ┆ Cambridge │\n",
       "│ …                                 ┆ …         │\n",
       "│ Gore Street at Lambert Street     ┆ Cambridge │\n",
       "│ Broad Canal Way at Third Street   ┆ Cambridge │\n",
       "│ John Ahern Field at Kennedy-Long… ┆ Cambridge │\n",
       "│ 87-101 Cambridgepark Drive        ┆ Cambridge │\n",
       "└───────────────────────────────────┴───────────┘"
      ]
     },
     "metadata": {},
     "output_type": "display_data"
    }
   ],
   "source": [
    "stations = pl.read_csv(\"data/bluebike_stations_geolocated.csv\", columns=[\"name\", \"City\"])\n",
    "cambridge_stations = stations.filter(pl.col(\"City\") == \"Cambridge\")\n",
    "display(cambridge_stations)\n",
    "cambridge_station_ids = {s for s in cambridge_stations.to_dict()[\"name\"]}"
   ]
  },
  {
   "cell_type": "code",
   "execution_count": 14,
   "id": "2608d751-990d-4517-8262-e58389396849",
   "metadata": {
    "tags": []
   },
   "outputs": [
    {
     "data": {
      "text/html": [
       "<div><style>\n",
       ".dataframe > thead > tr > th,\n",
       ".dataframe > tbody > tr > td {\n",
       "  text-align: right;\n",
       "}\n",
       "</style>\n",
       "<small>shape: (16097979, 5)</small><table border=\"1\" class=\"dataframe\"><thead><tr><th>starttime</th><th>start station id</th><th>end station id</th><th>start station name</th><th>end station name</th></tr><tr><td>date</td><td>i64</td><td>i64</td><td>str</td><td>str</td></tr></thead><tbody><tr><td>2016-01-01</td><td>36</td><td>19</td><td>&quot;Boston Public …</td><td>&quot;Buswell St. at…</td></tr><tr><td>2016-01-01</td><td>36</td><td>19</td><td>&quot;Boston Public …</td><td>&quot;Buswell St. at…</td></tr><tr><td>2016-01-01</td><td>36</td><td>19</td><td>&quot;Boston Public …</td><td>&quot;Buswell St. at…</td></tr><tr><td>2016-01-01</td><td>36</td><td>19</td><td>&quot;Boston Public …</td><td>&quot;Buswell St. at…</td></tr><tr><td>2016-01-01</td><td>36</td><td>67</td><td>&quot;Boston Public …</td><td>&quot;MIT at Mass Av…</td></tr><tr><td>2016-01-01</td><td>110</td><td>88</td><td>&quot;Harvard Univer…</td><td>&quot;Inman Square a…</td></tr><tr><td>2016-01-01</td><td>107</td><td>176</td><td>&quot;Ames St at Mai…</td><td>&quot;Lesley Univers…</td></tr><tr><td>2016-01-01</td><td>141</td><td>90</td><td>&quot;Kendall Street…</td><td>&quot;Lechmere Stati…</td></tr><tr><td>2016-01-01</td><td>178</td><td>80</td><td>&quot;MIT Pacific St…</td><td>&quot;MIT Stata Cent…</td></tr><tr><td>2016-01-01</td><td>68</td><td>178</td><td>&quot;Central Square…</td><td>&quot;MIT Pacific St…</td></tr><tr><td>2016-01-01</td><td>72</td><td>178</td><td>&quot;One Broadway /…</td><td>&quot;MIT Pacific St…</td></tr><tr><td>2016-01-01</td><td>68</td><td>177</td><td>&quot;Central Square…</td><td>&quot;University Par…</td></tr><tr><td>&hellip;</td><td>&hellip;</td><td>&hellip;</td><td>&hellip;</td><td>&hellip;</td></tr><tr><td>2023-03-31</td><td>128</td><td>128</td><td>&quot;E Cottage St a…</td><td>&quot;E Cottage St a…</td></tr><tr><td>2023-03-31</td><td>55</td><td>32</td><td>&quot;Boylston St at…</td><td>&quot;Landmark Cente…</td></tr><tr><td>2023-03-31</td><td>139</td><td>110</td><td>&quot;Dana Park&quot;</td><td>&quot;Harvard Univer…</td></tr><tr><td>2023-03-31</td><td>566</td><td>413</td><td>&quot;Main Street/Al…</td><td>&quot;Kennedy-Longfe…</td></tr><tr><td>2023-03-31</td><td>9</td><td>9</td><td>&quot;Commonwealth A…</td><td>&quot;Commonwealth A…</td></tr><tr><td>2023-03-31</td><td>9</td><td>9</td><td>&quot;Commonwealth A…</td><td>&quot;Commonwealth A…</td></tr><tr><td>2023-03-31</td><td>9</td><td>9</td><td>&quot;Commonwealth A…</td><td>&quot;Commonwealth A…</td></tr><tr><td>2023-03-31</td><td>550</td><td>156</td><td>&quot;Somerville Hig…</td><td>&quot;Somerville Hos…</td></tr><tr><td>2023-03-31</td><td>61</td><td>178</td><td>&quot;Boylston St at…</td><td>&quot;MIT Pacific St…</td></tr><tr><td>2023-03-31</td><td>381</td><td>36</td><td>&quot;Inman Square a…</td><td>&quot;Copley Square …</td></tr><tr><td>2023-03-31</td><td>4</td><td>437</td><td>&quot;Tremont St at …</td><td>&quot;Berkshire Stre…</td></tr><tr><td>2023-03-31</td><td>515</td><td>471</td><td>&quot;955 Mass Ave&quot;</td><td>&quot;MIT Carleton S…</td></tr></tbody></table></div>"
      ],
      "text/plain": [
       "shape: (16_097_979, 5)\n",
       "┌────────────┬──────────────────┬────────────────┬───────────────────────────┬─────────────────────┐\n",
       "│ starttime  ┆ start station id ┆ end station id ┆ start station name        ┆ end station name    │\n",
       "│ ---        ┆ ---              ┆ ---            ┆ ---                       ┆ ---                 │\n",
       "│ date       ┆ i64              ┆ i64            ┆ str                       ┆ str                 │\n",
       "╞════════════╪══════════════════╪════════════════╪═══════════════════════════╪═════════════════════╡\n",
       "│ 2016-01-01 ┆ 36               ┆ 19             ┆ Boston Public Library -   ┆ Buswell St. at Park │\n",
       "│            ┆                  ┆                ┆ 700 Boyl…                 ┆ Dr.                 │\n",
       "│ 2016-01-01 ┆ 36               ┆ 19             ┆ Boston Public Library -   ┆ Buswell St. at Park │\n",
       "│            ┆                  ┆                ┆ 700 Boyl…                 ┆ Dr.                 │\n",
       "│ 2016-01-01 ┆ 36               ┆ 19             ┆ Boston Public Library -   ┆ Buswell St. at Park │\n",
       "│            ┆                  ┆                ┆ 700 Boyl…                 ┆ Dr.                 │\n",
       "│ 2016-01-01 ┆ 36               ┆ 19             ┆ Boston Public Library -   ┆ Buswell St. at Park │\n",
       "│            ┆                  ┆                ┆ 700 Boyl…                 ┆ Dr.                 │\n",
       "│ …          ┆ …                ┆ …              ┆ …                         ┆ …                   │\n",
       "│ 2023-03-31 ┆ 61               ┆ 178            ┆ Boylston St at Fairfield  ┆ MIT Pacific St at   │\n",
       "│            ┆                  ┆                ┆ St                        ┆ Purrington St       │\n",
       "│ 2023-03-31 ┆ 381              ┆ 36             ┆ Inman Square at           ┆ Copley Square -     │\n",
       "│            ┆                  ┆                ┆ Springfield St.           ┆ Dartmouth St at …   │\n",
       "│ 2023-03-31 ┆ 4                ┆ 437            ┆ Tremont St at E Berkeley  ┆ Berkshire Street at │\n",
       "│            ┆                  ┆                ┆ St                        ┆ Cambridge St…       │\n",
       "│ 2023-03-31 ┆ 515              ┆ 471            ┆ 955 Mass Ave              ┆ MIT Carleton St at  │\n",
       "│            ┆                  ┆                ┆                           ┆ Amherst St          │\n",
       "└────────────┴──────────────────┴────────────────┴───────────────────────────┴─────────────────────┘"
      ]
     },
     "execution_count": 14,
     "metadata": {},
     "output_type": "execute_result"
    }
   ],
   "source": [
    "rides = pl.read_csv(\"data/20*.csv\", columns=[\"starttime\", \"start station id\", \"end station id\", \"start station name\", \"end station name\"]).with_columns(pl.col(\"starttime\").str.slice(0, 10).str.strptime(pl.Date, fmt=\"%Y-%m-%d\", strict=False)).sort(\"starttime\")\n",
    "rides "
   ]
  },
  {
   "cell_type": "code",
   "execution_count": 15,
   "id": "bb1121a0-f12f-4cca-ac08-712064cc3ce9",
   "metadata": {
    "tags": []
   },
   "outputs": [
    {
     "data": {
      "text/html": [
       "<div><style>\n",
       ".dataframe > thead > tr > th,\n",
       ".dataframe > tbody > tr > td {\n",
       "  text-align: right;\n",
       "}\n",
       "</style>\n",
       "<small>shape: (7482990, 5)</small><table border=\"1\" class=\"dataframe\"><thead><tr><th>starttime</th><th>start station id</th><th>end station id</th><th>start station name</th><th>end station name</th></tr><tr><td>date</td><td>i64</td><td>i64</td><td>str</td><td>str</td></tr></thead><tbody><tr><td>2016-01-01</td><td>36</td><td>67</td><td>&quot;Boston Public …</td><td>&quot;MIT at Mass Av…</td></tr><tr><td>2016-01-01</td><td>110</td><td>88</td><td>&quot;Harvard Univer…</td><td>&quot;Inman Square a…</td></tr><tr><td>2016-01-01</td><td>107</td><td>176</td><td>&quot;Ames St at Mai…</td><td>&quot;Lesley Univers…</td></tr><tr><td>2016-01-01</td><td>141</td><td>90</td><td>&quot;Kendall Street…</td><td>&quot;Lechmere Stati…</td></tr><tr><td>2016-01-01</td><td>178</td><td>80</td><td>&quot;MIT Pacific St…</td><td>&quot;MIT Stata Cent…</td></tr><tr><td>2016-01-01</td><td>68</td><td>178</td><td>&quot;Central Square…</td><td>&quot;MIT Pacific St…</td></tr><tr><td>2016-01-01</td><td>72</td><td>178</td><td>&quot;One Broadway /…</td><td>&quot;MIT Pacific St…</td></tr><tr><td>2016-01-01</td><td>68</td><td>177</td><td>&quot;Central Square…</td><td>&quot;University Par…</td></tr><tr><td>2016-01-01</td><td>68</td><td>177</td><td>&quot;Central Square…</td><td>&quot;University Par…</td></tr><tr><td>2016-01-01</td><td>68</td><td>88</td><td>&quot;Central Square…</td><td>&quot;Inman Square a…</td></tr><tr><td>2016-01-01</td><td>74</td><td>22</td><td>&quot;Harvard Square…</td><td>&quot;South Station …</td></tr><tr><td>2016-01-01</td><td>74</td><td>22</td><td>&quot;Harvard Square…</td><td>&quot;South Station …</td></tr><tr><td>&hellip;</td><td>&hellip;</td><td>&hellip;</td><td>&hellip;</td><td>&hellip;</td></tr><tr><td>2023-03-31</td><td>330</td><td>107</td><td>&quot;30 Dane St&quot;</td><td>&quot;Ames St at Mai…</td></tr><tr><td>2023-03-31</td><td>89</td><td>79</td><td>&quot;Harvard Law Sc…</td><td>&quot;Beacon St at W…</td></tr><tr><td>2023-03-31</td><td>228</td><td>60</td><td>&quot;One Memorial D…</td><td>&quot;Charles Circle…</td></tr><tr><td>2023-03-31</td><td>515</td><td>71</td><td>&quot;955 Mass Ave&quot;</td><td>&quot;Conway Park - …</td></tr><tr><td>2023-03-31</td><td>177</td><td>590</td><td>&quot;University Par…</td><td>&quot;John Ahern Fie…</td></tr><tr><td>2023-03-31</td><td>380</td><td>381</td><td>&quot;Mass Ave at Al…</td><td>&quot;Inman Square a…</td></tr><tr><td>2023-03-31</td><td>139</td><td>110</td><td>&quot;Dana Park&quot;</td><td>&quot;Harvard Univer…</td></tr><tr><td>2023-03-31</td><td>566</td><td>413</td><td>&quot;Main Street/Al…</td><td>&quot;Kennedy-Longfe…</td></tr><tr><td>2023-03-31</td><td>61</td><td>178</td><td>&quot;Boylston St at…</td><td>&quot;MIT Pacific St…</td></tr><tr><td>2023-03-31</td><td>381</td><td>36</td><td>&quot;Inman Square a…</td><td>&quot;Copley Square …</td></tr><tr><td>2023-03-31</td><td>4</td><td>437</td><td>&quot;Tremont St at …</td><td>&quot;Berkshire Stre…</td></tr><tr><td>2023-03-31</td><td>515</td><td>471</td><td>&quot;955 Mass Ave&quot;</td><td>&quot;MIT Carleton S…</td></tr></tbody></table></div>"
      ],
      "text/plain": [
       "shape: (7_482_990, 5)\n",
       "┌────────────┬──────────────────┬────────────────┬───────────────────────────┬─────────────────────┐\n",
       "│ starttime  ┆ start station id ┆ end station id ┆ start station name        ┆ end station name    │\n",
       "│ ---        ┆ ---              ┆ ---            ┆ ---                       ┆ ---                 │\n",
       "│ date       ┆ i64              ┆ i64            ┆ str                       ┆ str                 │\n",
       "╞════════════╪══════════════════╪════════════════╪═══════════════════════════╪═════════════════════╡\n",
       "│ 2016-01-01 ┆ 36               ┆ 67             ┆ Boston Public Library -   ┆ MIT at Mass Ave /   │\n",
       "│            ┆                  ┆                ┆ 700 Boyl…                 ┆ Amherst St          │\n",
       "│ 2016-01-01 ┆ 110              ┆ 88             ┆ Harvard University Gund   ┆ Inman Square at     │\n",
       "│            ┆                  ┆                ┆ Hall at …                 ┆ Vellucci Plaza /…   │\n",
       "│ 2016-01-01 ┆ 107              ┆ 176            ┆ Ames St at Main St        ┆ Lesley University   │\n",
       "│ 2016-01-01 ┆ 141              ┆ 90             ┆ Kendall Street            ┆ Lechmere Station at │\n",
       "│            ┆                  ┆                ┆                           ┆ Cambridge St…       │\n",
       "│ …          ┆ …                ┆ …              ┆ …                         ┆ …                   │\n",
       "│ 2023-03-31 ┆ 61               ┆ 178            ┆ Boylston St at Fairfield  ┆ MIT Pacific St at   │\n",
       "│            ┆                  ┆                ┆ St                        ┆ Purrington St       │\n",
       "│ 2023-03-31 ┆ 381              ┆ 36             ┆ Inman Square at           ┆ Copley Square -     │\n",
       "│            ┆                  ┆                ┆ Springfield St.           ┆ Dartmouth St at …   │\n",
       "│ 2023-03-31 ┆ 4                ┆ 437            ┆ Tremont St at E Berkeley  ┆ Berkshire Street at │\n",
       "│            ┆                  ┆                ┆ St                        ┆ Cambridge St…       │\n",
       "│ 2023-03-31 ┆ 515              ┆ 471            ┆ 955 Mass Ave              ┆ MIT Carleton St at  │\n",
       "│            ┆                  ┆                ┆                           ┆ Amherst St          │\n",
       "└────────────┴──────────────────┴────────────────┴───────────────────────────┴─────────────────────┘"
      ]
     },
     "execution_count": 15,
     "metadata": {},
     "output_type": "execute_result"
    }
   ],
   "source": [
    "cambridge_rides = rides.filter(pl.col(\"start station name\").is_in(cambridge_station_ids) | pl.col(\"end station name\").is_in(cambridge_station_ids))\n",
    "cambridge_rides"
   ]
  },
  {
   "cell_type": "code",
   "execution_count": 20,
   "id": "e95afdba-4113-4379-9b1d-20d96377da99",
   "metadata": {
    "tags": []
   },
   "outputs": [
    {
     "data": {
      "text/html": [
       "<div><style>\n",
       ".dataframe > thead > tr > th,\n",
       ".dataframe > tbody > tr > td {\n",
       "  text-align: right;\n",
       "}\n",
       "</style>\n",
       "<small>shape: (1, 1)</small><table border=\"1\" class=\"dataframe\"><thead><tr><th>count</th></tr><tr><td>u32</td></tr></thead><tbody><tr><td>7482990</td></tr></tbody></table></div>"
      ],
      "text/plain": [
       "shape: (1, 1)\n",
       "┌─────────┐\n",
       "│ count   │\n",
       "│ ---     │\n",
       "│ u32     │\n",
       "╞═════════╡\n",
       "│ 7482990 │\n",
       "└─────────┘"
      ]
     },
     "metadata": {},
     "output_type": "display_data"
    },
    {
     "data": {
      "text/html": [
       "<div><style>\n",
       ".dataframe > thead > tr > th,\n",
       ".dataframe > tbody > tr > td {\n",
       "  text-align: right;\n",
       "}\n",
       "</style>\n",
       "<small>shape: (1, 1)</small><table border=\"1\" class=\"dataframe\"><thead><tr><th>count</th></tr><tr><td>u32</td></tr></thead><tbody><tr><td>7482990</td></tr></tbody></table></div>"
      ],
      "text/plain": [
       "shape: (1, 1)\n",
       "┌─────────┐\n",
       "│ count   │\n",
       "│ ---     │\n",
       "│ u32     │\n",
       "╞═════════╡\n",
       "│ 7482990 │\n",
       "└─────────┘"
      ]
     },
     "metadata": {},
     "output_type": "display_data"
    },
    {
     "data": {
      "text/html": [
       "<div><style>\n",
       ".dataframe > thead > tr > th,\n",
       ".dataframe > tbody > tr > td {\n",
       "  text-align: right;\n",
       "}\n",
       "</style>\n",
       "<small>shape: (15, 2)</small><table border=\"1\" class=\"dataframe\"><thead><tr><th>starttime</th><th>count</th></tr><tr><td>date</td><td>u32</td></tr></thead><tbody><tr><td>2022-01-01</td><td>43555</td></tr><tr><td>2022-02-01</td><td>63646</td></tr><tr><td>2022-03-01</td><td>93223</td></tr><tr><td>2022-04-01</td><td>137045</td></tr><tr><td>2022-05-01</td><td>163078</td></tr><tr><td>2022-06-01</td><td>169680</td></tr><tr><td>2022-07-01</td><td>191386</td></tr><tr><td>2022-08-01</td><td>207982</td></tr><tr><td>2022-09-01</td><td>254331</td></tr><tr><td>2022-10-01</td><td>201566</td></tr><tr><td>2022-11-01</td><td>148644</td></tr><tr><td>2022-12-01</td><td>75300</td></tr><tr><td>2023-01-01</td><td>72857</td></tr><tr><td>2023-02-01</td><td>85216</td></tr><tr><td>2023-03-01</td><td>105441</td></tr></tbody></table></div>"
      ],
      "text/plain": [
       "shape: (15, 2)\n",
       "┌────────────┬────────┐\n",
       "│ starttime  ┆ count  │\n",
       "│ ---        ┆ ---    │\n",
       "│ date       ┆ u32    │\n",
       "╞════════════╪════════╡\n",
       "│ 2022-01-01 ┆ 43555  │\n",
       "│ 2022-02-01 ┆ 63646  │\n",
       "│ 2022-03-01 ┆ 93223  │\n",
       "│ 2022-04-01 ┆ 137045 │\n",
       "│ …          ┆ …      │\n",
       "│ 2022-12-01 ┆ 75300  │\n",
       "│ 2023-01-01 ┆ 72857  │\n",
       "│ 2023-02-01 ┆ 85216  │\n",
       "│ 2023-03-01 ┆ 105441 │\n",
       "└────────────┴────────┘"
      ]
     },
     "metadata": {},
     "output_type": "display_data"
    }
   ],
   "source": [
    "def by_month(df):\n",
    "    return df.groupby_dynamic(\"starttime\", every=\"1mo\").agg(pl.count())\n",
    "\n",
    "def by_year(df):\n",
    "    return df.groupby_dynamic(\"starttime\", every=\"1y\").agg(pl.count())\n",
    "\n",
    "monthly = by_month(cambridge_rides)\n",
    "display(monthly.select([pl.col(\"count\").sum()]))\n",
    "yearly = by_year(cambridge_rides)\n",
    "display(yearly.select([pl.col(\"count\").sum()]))\n",
    "display(monthly.filter(pl.col(\"starttime\").dt.year() >= 2022))"
   ]
  },
  {
   "cell_type": "code",
   "execution_count": 17,
   "id": "0cc39741-531d-419d-83f4-e3c2fe0ad446",
   "metadata": {
    "tags": []
   },
   "outputs": [
    {
     "data": {
      "text/html": [
       "\n",
       "<div id=\"altair-viz-b4e9d87a1f04401a9fc2e6495480338d\"></div>\n",
       "<script type=\"text/javascript\">\n",
       "  var VEGA_DEBUG = (typeof VEGA_DEBUG == \"undefined\") ? {} : VEGA_DEBUG;\n",
       "  (function(spec, embedOpt){\n",
       "    let outputDiv = document.currentScript.previousElementSibling;\n",
       "    if (outputDiv.id !== \"altair-viz-b4e9d87a1f04401a9fc2e6495480338d\") {\n",
       "      outputDiv = document.getElementById(\"altair-viz-b4e9d87a1f04401a9fc2e6495480338d\");\n",
       "    }\n",
       "    const paths = {\n",
       "      \"vega\": \"https://cdn.jsdelivr.net/npm/vega@5?noext\",\n",
       "      \"vega-lib\": \"https://cdn.jsdelivr.net/npm/vega-lib?noext\",\n",
       "      \"vega-lite\": \"https://cdn.jsdelivr.net/npm/vega-lite@5.6.1?noext\",\n",
       "      \"vega-embed\": \"https://cdn.jsdelivr.net/npm/vega-embed@6?noext\",\n",
       "    };\n",
       "\n",
       "    function maybeLoadScript(lib, version) {\n",
       "      var key = `${lib.replace(\"-\", \"\")}_version`;\n",
       "      return (VEGA_DEBUG[key] == version) ?\n",
       "        Promise.resolve(paths[lib]) :\n",
       "        new Promise(function(resolve, reject) {\n",
       "          var s = document.createElement('script');\n",
       "          document.getElementsByTagName(\"head\")[0].appendChild(s);\n",
       "          s.async = true;\n",
       "          s.onload = () => {\n",
       "            VEGA_DEBUG[key] = version;\n",
       "            return resolve(paths[lib]);\n",
       "          };\n",
       "          s.onerror = () => reject(`Error loading script: ${paths[lib]}`);\n",
       "          s.src = paths[lib];\n",
       "        });\n",
       "    }\n",
       "\n",
       "    function showError(err) {\n",
       "      outputDiv.innerHTML = `<div class=\"error\" style=\"color:red;\">${err}</div>`;\n",
       "      throw err;\n",
       "    }\n",
       "\n",
       "    function displayChart(vegaEmbed) {\n",
       "      vegaEmbed(outputDiv, spec, embedOpt)\n",
       "        .catch(err => showError(`Javascript Error: ${err.message}<br>This usually means there's a typo in your chart specification. See the javascript console for the full traceback.`));\n",
       "    }\n",
       "\n",
       "    if(typeof define === \"function\" && define.amd) {\n",
       "      requirejs.config({paths});\n",
       "      require([\"vega-embed\"], displayChart, err => showError(`Error loading script: ${err.message}`));\n",
       "    } else {\n",
       "      maybeLoadScript(\"vega\", \"5\")\n",
       "        .then(() => maybeLoadScript(\"vega-lite\", \"5.6.1\"))\n",
       "        .then(() => maybeLoadScript(\"vega-embed\", \"6\"))\n",
       "        .catch(showError)\n",
       "        .then(() => displayChart(vegaEmbed));\n",
       "    }\n",
       "  })({\"config\": {\"view\": {\"continuousWidth\": 300, \"continuousHeight\": 300}}, \"data\": {\"name\": \"data-59f1667ab1534f95019bad605c331a5d\"}, \"mark\": {\"type\": \"line\"}, \"encoding\": {\"x\": {\"field\": \"starttime\", \"type\": \"temporal\"}, \"y\": {\"field\": \"count\", \"type\": \"quantitative\"}}, \"title\": \"Monthly Bluebikes rides starting/ending in Cambridge\", \"$schema\": \"https://vega.github.io/schema/vega-lite/v5.6.1.json\", \"datasets\": {\"data-59f1667ab1534f95019bad605c331a5d\": [{\"starttime\": \"2016-01-01T00:00:00\", \"count\": 12031}, {\"starttime\": \"2016-02-01T00:00:00\", \"count\": 14631}, {\"starttime\": \"2016-03-01T00:00:00\", \"count\": 26227}, {\"starttime\": \"2016-04-01T00:00:00\", \"count\": 44246}, {\"starttime\": \"2016-05-01T00:00:00\", \"count\": 57531}, {\"starttime\": \"2016-06-01T00:00:00\", \"count\": 70931}, {\"starttime\": \"2016-07-01T00:00:00\", \"count\": 73552}, {\"starttime\": \"2016-08-01T00:00:00\", \"count\": 74497}, {\"starttime\": \"2016-09-01T00:00:00\", \"count\": 76185}, {\"starttime\": \"2016-10-01T00:00:00\", \"count\": 65004}, {\"starttime\": \"2016-11-01T00:00:00\", \"count\": 48830}, {\"starttime\": \"2016-12-01T00:00:00\", \"count\": 25036}, {\"starttime\": \"2017-01-01T00:00:00\", \"count\": 17181}, {\"starttime\": \"2017-02-01T00:00:00\", \"count\": 17221}, {\"starttime\": \"2017-03-01T00:00:00\", \"count\": 22636}, {\"starttime\": \"2017-04-01T00:00:00\", \"count\": 50419}, {\"starttime\": \"2017-05-01T00:00:00\", \"count\": 60602}, {\"starttime\": \"2017-06-01T00:00:00\", \"count\": 73351}, {\"starttime\": \"2017-07-01T00:00:00\", \"count\": 79994}, {\"starttime\": \"2017-08-01T00:00:00\", \"count\": 85348}, {\"starttime\": \"2017-09-01T00:00:00\", \"count\": 79270}, {\"starttime\": \"2017-10-01T00:00:00\", \"count\": 81685}, {\"starttime\": \"2017-11-01T00:00:00\", \"count\": 54182}, {\"starttime\": \"2017-12-01T00:00:00\", \"count\": 29569}, {\"starttime\": \"2018-01-01T00:00:00\", \"count\": 23533}, {\"starttime\": \"2018-02-01T00:00:00\", \"count\": 35994}, {\"starttime\": \"2018-03-01T00:00:00\", \"count\": 35682}, {\"starttime\": \"2018-04-01T00:00:00\", \"count\": 52708}, {\"starttime\": \"2018-05-01T00:00:00\", \"count\": 86049}, {\"starttime\": \"2018-06-01T00:00:00\", \"count\": 95606}, {\"starttime\": \"2018-07-01T00:00:00\", \"count\": 115805}, {\"starttime\": \"2018-08-01T00:00:00\", \"count\": 112517}, {\"starttime\": \"2018-09-01T00:00:00\", \"count\": 115410}, {\"starttime\": \"2018-10-01T00:00:00\", \"count\": 97423}, {\"starttime\": \"2018-11-01T00:00:00\", \"count\": 63209}, {\"starttime\": \"2018-12-01T00:00:00\", \"count\": 44366}, {\"starttime\": \"2019-01-01T00:00:00\", \"count\": 37108}, {\"starttime\": \"2019-02-01T00:00:00\", \"count\": 44724}, {\"starttime\": \"2019-03-01T00:00:00\", \"count\": 55133}, {\"starttime\": \"2019-04-01T00:00:00\", \"count\": 83450}, {\"starttime\": \"2019-05-01T00:00:00\", \"count\": 105137}, {\"starttime\": \"2019-06-01T00:00:00\", \"count\": 122512}, {\"starttime\": \"2019-07-01T00:00:00\", \"count\": 142630}, {\"starttime\": \"2019-08-01T00:00:00\", \"count\": 146264}, {\"starttime\": \"2019-09-01T00:00:00\", \"count\": 165361}, {\"starttime\": \"2019-10-01T00:00:00\", \"count\": 145857}, {\"starttime\": \"2019-11-01T00:00:00\", \"count\": 95910}, {\"starttime\": \"2019-12-01T00:00:00\", \"count\": 48092}, {\"starttime\": \"2020-01-01T00:00:00\", \"count\": 65306}, {\"starttime\": \"2020-02-01T00:00:00\", \"count\": 71408}, {\"starttime\": \"2020-03-01T00:00:00\", \"count\": 53050}, {\"starttime\": \"2020-04-01T00:00:00\", \"count\": 16506}, {\"starttime\": \"2020-05-01T00:00:00\", \"count\": 41073}, {\"starttime\": \"2020-06-01T00:00:00\", \"count\": 66621}, {\"starttime\": \"2020-07-01T00:00:00\", \"count\": 92341}, {\"starttime\": \"2020-08-01T00:00:00\", \"count\": 103762}, {\"starttime\": \"2020-09-01T00:00:00\", \"count\": 117601}, {\"starttime\": \"2020-10-01T00:00:00\", \"count\": 100752}, {\"starttime\": \"2020-11-01T00:00:00\", \"count\": 68935}, {\"starttime\": \"2020-12-01T00:00:00\", \"count\": 34116}, {\"starttime\": \"2021-01-01T00:00:00\", \"count\": 34562}, {\"starttime\": \"2021-02-01T00:00:00\", \"count\": 30185}, {\"starttime\": \"2021-03-01T00:00:00\", \"count\": 64627}, {\"starttime\": \"2021-04-01T00:00:00\", \"count\": 81994}, {\"starttime\": \"2021-05-01T00:00:00\", \"count\": 116425}, {\"starttime\": \"2021-06-01T00:00:00\", \"count\": 123875}, {\"starttime\": \"2021-07-01T00:00:00\", \"count\": 126275}, {\"starttime\": \"2021-08-01T00:00:00\", \"count\": 149732}, {\"starttime\": \"2021-09-01T00:00:00\", \"count\": 204170}, {\"starttime\": \"2021-10-01T00:00:00\", \"count\": 192592}, {\"starttime\": \"2021-11-01T00:00:00\", \"count\": 129915}, {\"starttime\": \"2021-12-01T00:00:00\", \"count\": 73578}, {\"starttime\": \"2022-01-01T00:00:00\", \"count\": 43555}, {\"starttime\": \"2022-02-01T00:00:00\", \"count\": 63646}, {\"starttime\": \"2022-03-01T00:00:00\", \"count\": 93223}, {\"starttime\": \"2022-04-01T00:00:00\", \"count\": 137045}, {\"starttime\": \"2022-05-01T00:00:00\", \"count\": 163078}, {\"starttime\": \"2022-06-01T00:00:00\", \"count\": 169680}, {\"starttime\": \"2022-07-01T00:00:00\", \"count\": 191386}, {\"starttime\": \"2022-08-01T00:00:00\", \"count\": 207982}, {\"starttime\": \"2022-09-01T00:00:00\", \"count\": 254331}, {\"starttime\": \"2022-10-01T00:00:00\", \"count\": 201566}, {\"starttime\": \"2022-11-01T00:00:00\", \"count\": 148644}, {\"starttime\": \"2022-12-01T00:00:00\", \"count\": 75300}, {\"starttime\": \"2023-01-01T00:00:00\", \"count\": 72857}, {\"starttime\": \"2023-02-01T00:00:00\", \"count\": 85216}, {\"starttime\": \"2023-03-01T00:00:00\", \"count\": 105441}]}}, {\"mode\": \"vega-lite\"});\n",
       "</script>"
      ],
      "text/plain": [
       "alt.Chart(...)"
      ]
     },
     "metadata": {},
     "output_type": "display_data"
    },
    {
     "data": {
      "text/html": [
       "\n",
       "<div id=\"altair-viz-d290f31962334582ad4fcd5a6d12ac1b\"></div>\n",
       "<script type=\"text/javascript\">\n",
       "  var VEGA_DEBUG = (typeof VEGA_DEBUG == \"undefined\") ? {} : VEGA_DEBUG;\n",
       "  (function(spec, embedOpt){\n",
       "    let outputDiv = document.currentScript.previousElementSibling;\n",
       "    if (outputDiv.id !== \"altair-viz-d290f31962334582ad4fcd5a6d12ac1b\") {\n",
       "      outputDiv = document.getElementById(\"altair-viz-d290f31962334582ad4fcd5a6d12ac1b\");\n",
       "    }\n",
       "    const paths = {\n",
       "      \"vega\": \"https://cdn.jsdelivr.net/npm/vega@5?noext\",\n",
       "      \"vega-lib\": \"https://cdn.jsdelivr.net/npm/vega-lib?noext\",\n",
       "      \"vega-lite\": \"https://cdn.jsdelivr.net/npm/vega-lite@5.6.1?noext\",\n",
       "      \"vega-embed\": \"https://cdn.jsdelivr.net/npm/vega-embed@6?noext\",\n",
       "    };\n",
       "\n",
       "    function maybeLoadScript(lib, version) {\n",
       "      var key = `${lib.replace(\"-\", \"\")}_version`;\n",
       "      return (VEGA_DEBUG[key] == version) ?\n",
       "        Promise.resolve(paths[lib]) :\n",
       "        new Promise(function(resolve, reject) {\n",
       "          var s = document.createElement('script');\n",
       "          document.getElementsByTagName(\"head\")[0].appendChild(s);\n",
       "          s.async = true;\n",
       "          s.onload = () => {\n",
       "            VEGA_DEBUG[key] = version;\n",
       "            return resolve(paths[lib]);\n",
       "          };\n",
       "          s.onerror = () => reject(`Error loading script: ${paths[lib]}`);\n",
       "          s.src = paths[lib];\n",
       "        });\n",
       "    }\n",
       "\n",
       "    function showError(err) {\n",
       "      outputDiv.innerHTML = `<div class=\"error\" style=\"color:red;\">${err}</div>`;\n",
       "      throw err;\n",
       "    }\n",
       "\n",
       "    function displayChart(vegaEmbed) {\n",
       "      vegaEmbed(outputDiv, spec, embedOpt)\n",
       "        .catch(err => showError(`Javascript Error: ${err.message}<br>This usually means there's a typo in your chart specification. See the javascript console for the full traceback.`));\n",
       "    }\n",
       "\n",
       "    if(typeof define === \"function\" && define.amd) {\n",
       "      requirejs.config({paths});\n",
       "      require([\"vega-embed\"], displayChart, err => showError(`Error loading script: ${err.message}`));\n",
       "    } else {\n",
       "      maybeLoadScript(\"vega\", \"5\")\n",
       "        .then(() => maybeLoadScript(\"vega-lite\", \"5.6.1\"))\n",
       "        .then(() => maybeLoadScript(\"vega-embed\", \"6\"))\n",
       "        .catch(showError)\n",
       "        .then(() => displayChart(vegaEmbed));\n",
       "    }\n",
       "  })({\"config\": {\"view\": {\"continuousWidth\": 300, \"continuousHeight\": 300}}, \"data\": {\"name\": \"data-a3913632eed4fa0b8505e03f276306fa\"}, \"mark\": {\"type\": \"line\"}, \"encoding\": {\"x\": {\"field\": \"starttime\", \"type\": \"temporal\"}, \"y\": {\"field\": \"count\", \"type\": \"quantitative\"}}, \"title\": \"Yearly Bluebikes rides starting/ending in Cambridge (2016-2022)\", \"$schema\": \"https://vega.github.io/schema/vega-lite/v5.6.1.json\", \"datasets\": {\"data-a3913632eed4fa0b8505e03f276306fa\": [{\"starttime\": \"2016-01-01T00:00:00\", \"count\": 588701}, {\"starttime\": \"2017-01-01T00:00:00\", \"count\": 651458}, {\"starttime\": \"2018-01-01T00:00:00\", \"count\": 878302}, {\"starttime\": \"2019-01-01T00:00:00\", \"count\": 1192178}, {\"starttime\": \"2020-01-01T00:00:00\", \"count\": 831471}, {\"starttime\": \"2021-01-01T00:00:00\", \"count\": 1327930}, {\"starttime\": \"2022-01-01T00:00:00\", \"count\": 1749436}]}}, {\"mode\": \"vega-lite\"});\n",
       "</script>"
      ],
      "text/plain": [
       "alt.Chart(...)"
      ]
     },
     "metadata": {},
     "output_type": "display_data"
    }
   ],
   "source": [
    "def linechart(df, title, y_column=\"count\"):\n",
    "    return altair.Chart(df.to_pandas()).mark_line().encode(x=\"starttime:T\", y=f\"{y_column}:Q\").properties(title=title)\n",
    "\n",
    "display(linechart(monthly, 'Monthly Bluebikes rides starting/ending in Cambridge'))\n",
    "display(linechart(yearly.filter(pl.col(\"starttime\").dt.year() < 2023), 'Yearly Bluebikes rides starting/ending in Cambridge (2016-2022)'))"
   ]
  },
  {
   "cell_type": "code",
   "execution_count": 23,
   "id": "4f1aa7c1-28b8-484e-a6fc-23612ed8c79c",
   "metadata": {
    "tags": []
   },
   "outputs": [
    {
     "data": {
      "text/html": [
       "<div><style>\n",
       ".dataframe > thead > tr > th,\n",
       ".dataframe > tbody > tr > td {\n",
       "  text-align: right;\n",
       "}\n",
       "</style>\n",
       "<small>shape: (87, 3)</small><table border=\"1\" class=\"dataframe\"><thead><tr><th>Month</th><th>Year</th><th>Count</th></tr><tr><td>u32</td><td>i32</td><td>u32</td></tr></thead><tbody><tr><td>1</td><td>2016</td><td>12031</td></tr><tr><td>2</td><td>2016</td><td>14631</td></tr><tr><td>3</td><td>2016</td><td>26227</td></tr><tr><td>4</td><td>2016</td><td>44246</td></tr><tr><td>5</td><td>2016</td><td>57531</td></tr><tr><td>6</td><td>2016</td><td>70931</td></tr><tr><td>7</td><td>2016</td><td>73552</td></tr><tr><td>8</td><td>2016</td><td>74497</td></tr><tr><td>9</td><td>2016</td><td>76185</td></tr><tr><td>10</td><td>2016</td><td>65004</td></tr><tr><td>11</td><td>2016</td><td>48830</td></tr><tr><td>12</td><td>2016</td><td>25036</td></tr><tr><td>&hellip;</td><td>&hellip;</td><td>&hellip;</td></tr><tr><td>4</td><td>2022</td><td>137045</td></tr><tr><td>5</td><td>2022</td><td>163078</td></tr><tr><td>6</td><td>2022</td><td>169680</td></tr><tr><td>7</td><td>2022</td><td>191386</td></tr><tr><td>8</td><td>2022</td><td>207982</td></tr><tr><td>9</td><td>2022</td><td>254331</td></tr><tr><td>10</td><td>2022</td><td>201566</td></tr><tr><td>11</td><td>2022</td><td>148644</td></tr><tr><td>12</td><td>2022</td><td>75300</td></tr><tr><td>1</td><td>2023</td><td>72857</td></tr><tr><td>2</td><td>2023</td><td>85216</td></tr><tr><td>3</td><td>2023</td><td>105441</td></tr></tbody></table></div>"
      ],
      "text/plain": [
       "shape: (87, 3)\n",
       "┌───────┬──────┬────────┐\n",
       "│ Month ┆ Year ┆ Count  │\n",
       "│ ---   ┆ ---  ┆ ---    │\n",
       "│ u32   ┆ i32  ┆ u32    │\n",
       "╞═══════╪══════╪════════╡\n",
       "│ 1     ┆ 2016 ┆ 12031  │\n",
       "│ 2     ┆ 2016 ┆ 14631  │\n",
       "│ 3     ┆ 2016 ┆ 26227  │\n",
       "│ 4     ┆ 2016 ┆ 44246  │\n",
       "│ …     ┆ …    ┆ …      │\n",
       "│ 12    ┆ 2022 ┆ 75300  │\n",
       "│ 1     ┆ 2023 ┆ 72857  │\n",
       "│ 2     ┆ 2023 ┆ 85216  │\n",
       "│ 3     ┆ 2023 ┆ 105441 │\n",
       "└───────┴──────┴────────┘"
      ]
     },
     "execution_count": 23,
     "metadata": {},
     "output_type": "execute_result"
    }
   ],
   "source": [
    "monthly2 = monthly.select([pl.col(\"starttime\").dt.month().alias(\"Month\"), pl.col(\"starttime\").dt.year().alias(\"Year\"), pl.col(\"count\").alias(\"Count\")])\n",
    "monthly2"
   ]
  },
  {
   "cell_type": "code",
   "execution_count": 28,
   "id": "99ebfa54-c1a6-49e2-b607-1940768580c4",
   "metadata": {
    "tags": []
   },
   "outputs": [
    {
     "name": "stderr",
     "output_type": "stream",
     "text": [
      "/tmp/ipykernel_1618889/2079401287.py:1: DeprecationWarning: In a future version of polars, the default `aggregate_function` will change from `'first'` to `None`. Please pass `'first'` to keep the current behaviour, or `None` to accept the new one.\n",
      "  month_per_year = monthly2.pivot(values=\"Count\", index=\"Month\", columns=\"Year\")\n"
     ]
    },
    {
     "data": {
      "text/html": [
       "<div><style>\n",
       ".dataframe > thead > tr > th,\n",
       ".dataframe > tbody > tr > td {\n",
       "  text-align: right;\n",
       "}\n",
       "</style>\n",
       "<small>shape: (12, 9)</small><table border=\"1\" class=\"dataframe\"><thead><tr><th>Month</th><th>2016</th><th>2017</th><th>2018</th><th>2019</th><th>2020</th><th>2021</th><th>2022</th><th>2023</th></tr><tr><td>u32</td><td>u32</td><td>u32</td><td>u32</td><td>u32</td><td>u32</td><td>u32</td><td>u32</td><td>u32</td></tr></thead><tbody><tr><td>1</td><td>12031</td><td>17181</td><td>23533</td><td>37108</td><td>65306</td><td>34562</td><td>43555</td><td>72857</td></tr><tr><td>2</td><td>14631</td><td>17221</td><td>35994</td><td>44724</td><td>71408</td><td>30185</td><td>63646</td><td>85216</td></tr><tr><td>3</td><td>26227</td><td>22636</td><td>35682</td><td>55133</td><td>53050</td><td>64627</td><td>93223</td><td>105441</td></tr><tr><td>4</td><td>44246</td><td>50419</td><td>52708</td><td>83450</td><td>16506</td><td>81994</td><td>137045</td><td>null</td></tr><tr><td>5</td><td>57531</td><td>60602</td><td>86049</td><td>105137</td><td>41073</td><td>116425</td><td>163078</td><td>null</td></tr><tr><td>6</td><td>70931</td><td>73351</td><td>95606</td><td>122512</td><td>66621</td><td>123875</td><td>169680</td><td>null</td></tr><tr><td>7</td><td>73552</td><td>79994</td><td>115805</td><td>142630</td><td>92341</td><td>126275</td><td>191386</td><td>null</td></tr><tr><td>8</td><td>74497</td><td>85348</td><td>112517</td><td>146264</td><td>103762</td><td>149732</td><td>207982</td><td>null</td></tr><tr><td>9</td><td>76185</td><td>79270</td><td>115410</td><td>165361</td><td>117601</td><td>204170</td><td>254331</td><td>null</td></tr><tr><td>10</td><td>65004</td><td>81685</td><td>97423</td><td>145857</td><td>100752</td><td>192592</td><td>201566</td><td>null</td></tr><tr><td>11</td><td>48830</td><td>54182</td><td>63209</td><td>95910</td><td>68935</td><td>129915</td><td>148644</td><td>null</td></tr><tr><td>12</td><td>25036</td><td>29569</td><td>44366</td><td>48092</td><td>34116</td><td>73578</td><td>75300</td><td>null</td></tr></tbody></table></div>"
      ],
      "text/plain": [
       "shape: (12, 9)\n",
       "┌───────┬───────┬───────┬────────┬───┬────────┬────────┬────────┬────────┐\n",
       "│ Month ┆ 2016  ┆ 2017  ┆ 2018   ┆ … ┆ 2020   ┆ 2021   ┆ 2022   ┆ 2023   │\n",
       "│ ---   ┆ ---   ┆ ---   ┆ ---    ┆   ┆ ---    ┆ ---    ┆ ---    ┆ ---    │\n",
       "│ u32   ┆ u32   ┆ u32   ┆ u32    ┆   ┆ u32    ┆ u32    ┆ u32    ┆ u32    │\n",
       "╞═══════╪═══════╪═══════╪════════╪═══╪════════╪════════╪════════╪════════╡\n",
       "│ 1     ┆ 12031 ┆ 17181 ┆ 23533  ┆ … ┆ 65306  ┆ 34562  ┆ 43555  ┆ 72857  │\n",
       "│ 2     ┆ 14631 ┆ 17221 ┆ 35994  ┆ … ┆ 71408  ┆ 30185  ┆ 63646  ┆ 85216  │\n",
       "│ 3     ┆ 26227 ┆ 22636 ┆ 35682  ┆ … ┆ 53050  ┆ 64627  ┆ 93223  ┆ 105441 │\n",
       "│ 4     ┆ 44246 ┆ 50419 ┆ 52708  ┆ … ┆ 16506  ┆ 81994  ┆ 137045 ┆ null   │\n",
       "│ …     ┆ …     ┆ …     ┆ …      ┆ … ┆ …      ┆ …      ┆ …      ┆ …      │\n",
       "│ 9     ┆ 76185 ┆ 79270 ┆ 115410 ┆ … ┆ 117601 ┆ 204170 ┆ 254331 ┆ null   │\n",
       "│ 10    ┆ 65004 ┆ 81685 ┆ 97423  ┆ … ┆ 100752 ┆ 192592 ┆ 201566 ┆ null   │\n",
       "│ 11    ┆ 48830 ┆ 54182 ┆ 63209  ┆ … ┆ 68935  ┆ 129915 ┆ 148644 ┆ null   │\n",
       "│ 12    ┆ 25036 ┆ 29569 ┆ 44366  ┆ … ┆ 34116  ┆ 73578  ┆ 75300  ┆ null   │\n",
       "└───────┴───────┴───────┴────────┴───┴────────┴────────┴────────┴────────┘"
      ]
     },
     "execution_count": 28,
     "metadata": {},
     "output_type": "execute_result"
    }
   ],
   "source": [
    "month_per_year = monthly2.pivot(values=\"Count\", index=\"Month\", columns=\"Year\")\n",
    "month_per_year"
   ]
  },
  {
   "cell_type": "code",
   "execution_count": 43,
   "id": "fd8a9ba0-7a3b-4ccb-b509-51517d9b53b3",
   "metadata": {
    "tags": []
   },
   "outputs": [
    {
     "data": {
      "text/html": [
       "\n",
       "<div id=\"altair-viz-564020354a7644738260f999b5c31bf8\"></div>\n",
       "<script type=\"text/javascript\">\n",
       "  var VEGA_DEBUG = (typeof VEGA_DEBUG == \"undefined\") ? {} : VEGA_DEBUG;\n",
       "  (function(spec, embedOpt){\n",
       "    let outputDiv = document.currentScript.previousElementSibling;\n",
       "    if (outputDiv.id !== \"altair-viz-564020354a7644738260f999b5c31bf8\") {\n",
       "      outputDiv = document.getElementById(\"altair-viz-564020354a7644738260f999b5c31bf8\");\n",
       "    }\n",
       "    const paths = {\n",
       "      \"vega\": \"https://cdn.jsdelivr.net/npm/vega@5?noext\",\n",
       "      \"vega-lib\": \"https://cdn.jsdelivr.net/npm/vega-lib?noext\",\n",
       "      \"vega-lite\": \"https://cdn.jsdelivr.net/npm/vega-lite@5.6.1?noext\",\n",
       "      \"vega-embed\": \"https://cdn.jsdelivr.net/npm/vega-embed@6?noext\",\n",
       "    };\n",
       "\n",
       "    function maybeLoadScript(lib, version) {\n",
       "      var key = `${lib.replace(\"-\", \"\")}_version`;\n",
       "      return (VEGA_DEBUG[key] == version) ?\n",
       "        Promise.resolve(paths[lib]) :\n",
       "        new Promise(function(resolve, reject) {\n",
       "          var s = document.createElement('script');\n",
       "          document.getElementsByTagName(\"head\")[0].appendChild(s);\n",
       "          s.async = true;\n",
       "          s.onload = () => {\n",
       "            VEGA_DEBUG[key] = version;\n",
       "            return resolve(paths[lib]);\n",
       "          };\n",
       "          s.onerror = () => reject(`Error loading script: ${paths[lib]}`);\n",
       "          s.src = paths[lib];\n",
       "        });\n",
       "    }\n",
       "\n",
       "    function showError(err) {\n",
       "      outputDiv.innerHTML = `<div class=\"error\" style=\"color:red;\">${err}</div>`;\n",
       "      throw err;\n",
       "    }\n",
       "\n",
       "    function displayChart(vegaEmbed) {\n",
       "      vegaEmbed(outputDiv, spec, embedOpt)\n",
       "        .catch(err => showError(`Javascript Error: ${err.message}<br>This usually means there's a typo in your chart specification. See the javascript console for the full traceback.`));\n",
       "    }\n",
       "\n",
       "    if(typeof define === \"function\" && define.amd) {\n",
       "      requirejs.config({paths});\n",
       "      require([\"vega-embed\"], displayChart, err => showError(`Error loading script: ${err.message}`));\n",
       "    } else {\n",
       "      maybeLoadScript(\"vega\", \"5\")\n",
       "        .then(() => maybeLoadScript(\"vega-lite\", \"5.6.1\"))\n",
       "        .then(() => maybeLoadScript(\"vega-embed\", \"6\"))\n",
       "        .catch(showError)\n",
       "        .then(() => displayChart(vegaEmbed));\n",
       "    }\n",
       "  })({\"config\": {\"view\": {\"continuousWidth\": 300, \"continuousHeight\": 300}}, \"repeat\": {\"layer\": [\"2019\", \"2020\", \"2021\", \"2022\", \"2023\"]}, \"spec\": {\"data\": {\"name\": \"data-c624a453a1d3b4145b12f0fda5c7a0b0\"}, \"mark\": {\"type\": \"line\"}, \"encoding\": {\"color\": {\"datum\": {\"repeat\": \"layer\"}, \"type\": \"ordinal\"}, \"x\": {\"field\": \"Month\", \"type\": \"quantitative\"}, \"y\": {\"field\": {\"repeat\": \"layer\"}, \"title\": \"Monthly rides\", \"type\": \"quantitative\"}}}, \"title\": \"Monthly BlueBikes rides to/from Cambridge\", \"$schema\": \"https://vega.github.io/schema/vega-lite/v5.6.1.json\", \"datasets\": {\"data-c624a453a1d3b4145b12f0fda5c7a0b0\": [{\"Month\": 1, \"2016\": 12031, \"2017\": 17181, \"2018\": 23533, \"2019\": 37108, \"2020\": 65306, \"2021\": 34562, \"2022\": 43555, \"2023\": 72857.0}, {\"Month\": 2, \"2016\": 14631, \"2017\": 17221, \"2018\": 35994, \"2019\": 44724, \"2020\": 71408, \"2021\": 30185, \"2022\": 63646, \"2023\": 85216.0}, {\"Month\": 3, \"2016\": 26227, \"2017\": 22636, \"2018\": 35682, \"2019\": 55133, \"2020\": 53050, \"2021\": 64627, \"2022\": 93223, \"2023\": 105441.0}, {\"Month\": 4, \"2016\": 44246, \"2017\": 50419, \"2018\": 52708, \"2019\": 83450, \"2020\": 16506, \"2021\": 81994, \"2022\": 137045, \"2023\": null}, {\"Month\": 5, \"2016\": 57531, \"2017\": 60602, \"2018\": 86049, \"2019\": 105137, \"2020\": 41073, \"2021\": 116425, \"2022\": 163078, \"2023\": null}, {\"Month\": 6, \"2016\": 70931, \"2017\": 73351, \"2018\": 95606, \"2019\": 122512, \"2020\": 66621, \"2021\": 123875, \"2022\": 169680, \"2023\": null}, {\"Month\": 7, \"2016\": 73552, \"2017\": 79994, \"2018\": 115805, \"2019\": 142630, \"2020\": 92341, \"2021\": 126275, \"2022\": 191386, \"2023\": null}, {\"Month\": 8, \"2016\": 74497, \"2017\": 85348, \"2018\": 112517, \"2019\": 146264, \"2020\": 103762, \"2021\": 149732, \"2022\": 207982, \"2023\": null}, {\"Month\": 9, \"2016\": 76185, \"2017\": 79270, \"2018\": 115410, \"2019\": 165361, \"2020\": 117601, \"2021\": 204170, \"2022\": 254331, \"2023\": null}, {\"Month\": 10, \"2016\": 65004, \"2017\": 81685, \"2018\": 97423, \"2019\": 145857, \"2020\": 100752, \"2021\": 192592, \"2022\": 201566, \"2023\": null}, {\"Month\": 11, \"2016\": 48830, \"2017\": 54182, \"2018\": 63209, \"2019\": 95910, \"2020\": 68935, \"2021\": 129915, \"2022\": 148644, \"2023\": null}, {\"Month\": 12, \"2016\": 25036, \"2017\": 29569, \"2018\": 44366, \"2019\": 48092, \"2020\": 34116, \"2021\": 73578, \"2022\": 75300, \"2023\": null}]}}, {\"mode\": \"vega-lite\"});\n",
       "</script>"
      ],
      "text/plain": [
       "alt.RepeatChart(...)"
      ]
     },
     "execution_count": 43,
     "metadata": {},
     "output_type": "execute_result"
    }
   ],
   "source": [
    "alt = altair\n",
    "altair.Chart(month_per_year.to_pandas()).mark_line().encode(\n",
    "    x=alt.X(\"Month\"),\n",
    "    y=alt.Y(altair.repeat('layer'), type=\"quantitative\").title(\"Monthly rides\"),\n",
    "    color=altair.ColorDatum(altair.repeat('layer'), type=\"ordinal\")\n",
    ").repeat(layer=[str(y) for y in range(2019, 2024)]).properties(title=\"Monthly BlueBikes rides to/from Cambridge\")\n"
   ]
  }
 ],
 "metadata": {
  "kernelspec": {
   "display_name": "Python 3 (ipykernel)",
   "language": "python",
   "name": "python3"
  },
  "language_info": {
   "codemirror_mode": {
    "name": "ipython",
    "version": 3
   },
   "file_extension": ".py",
   "mimetype": "text/x-python",
   "name": "python",
   "nbconvert_exporter": "python",
   "pygments_lexer": "ipython3",
   "version": "3.11.3"
  }
 },
 "nbformat": 4,
 "nbformat_minor": 5
}
