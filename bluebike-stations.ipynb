{
 "cells": [
  {
   "cell_type": "code",
   "execution_count": 1,
   "id": "3d55a297-7922-485a-af15-74959ff4f2f9",
   "metadata": {
    "tags": []
   },
   "outputs": [],
   "source": [
    "import polars as pl\n",
    "import altair"
   ]
  },
  {
   "cell_type": "code",
   "execution_count": 4,
   "id": "2608d751-990d-4517-8262-e58389396849",
   "metadata": {
    "tags": []
   },
   "outputs": [
    {
     "data": {
      "text/html": [
       "<div><style>\n",
       ".dataframe > thead > tr > th,\n",
       ".dataframe > tbody > tr > td {\n",
       "  text-align: right;\n",
       "}\n",
       "</style>\n",
       "<small>shape: (16097979, 8)</small><table border=\"1\" class=\"dataframe\"><thead><tr><th>start station id</th><th>end station id</th><th>start station name</th><th>end station name</th><th>start station longitude</th><th>start station latitude</th><th>end station longitude</th><th>end station latitude</th></tr><tr><td>i64</td><td>i64</td><td>str</td><td>str</td><td>f64</td><td>f64</td><td>f64</td><td>f64</td></tr></thead><tbody><tr><td>36</td><td>19</td><td>&quot;Boston Public …</td><td>&quot;Buswell St. at…</td><td>-71.077303</td><td>42.349673</td><td>-71.105301</td><td>42.347241</td></tr><tr><td>36</td><td>19</td><td>&quot;Boston Public …</td><td>&quot;Buswell St. at…</td><td>-71.077303</td><td>42.349673</td><td>-71.105301</td><td>42.347241</td></tr><tr><td>36</td><td>19</td><td>&quot;Boston Public …</td><td>&quot;Buswell St. at…</td><td>-71.077303</td><td>42.349673</td><td>-71.105301</td><td>42.347241</td></tr><tr><td>36</td><td>19</td><td>&quot;Boston Public …</td><td>&quot;Buswell St. at…</td><td>-71.077303</td><td>42.349673</td><td>-71.105301</td><td>42.347241</td></tr><tr><td>36</td><td>67</td><td>&quot;Boston Public …</td><td>&quot;MIT at Mass Av…</td><td>-71.077303</td><td>42.349673</td><td>-71.093198</td><td>42.3581</td></tr><tr><td>110</td><td>88</td><td>&quot;Harvard Univer…</td><td>&quot;Inman Square a…</td><td>-71.114025</td><td>42.376369</td><td>-71.101427</td><td>42.374035</td></tr><tr><td>107</td><td>176</td><td>&quot;Ames St at Mai…</td><td>&quot;Lesley Univers…</td><td>-71.08822</td><td>42.3625</td><td>-71.119019</td><td>42.386748</td></tr><tr><td>141</td><td>90</td><td>&quot;Kendall Street…</td><td>&quot;Lechmere Stati…</td><td>-71.082168</td><td>42.36356</td><td>-71.076529</td><td>42.370677</td></tr><tr><td>178</td><td>80</td><td>&quot;MIT Pacific St…</td><td>&quot;MIT Stata Cent…</td><td>-71.101295</td><td>42.359573</td><td>-71.092053</td><td>42.361962</td></tr><tr><td>68</td><td>178</td><td>&quot;Central Square…</td><td>&quot;MIT Pacific St…</td><td>-71.1031</td><td>42.36507</td><td>-71.101295</td><td>42.359573</td></tr><tr><td>72</td><td>178</td><td>&quot;One Broadway /…</td><td>&quot;MIT Pacific St…</td><td>-71.084105</td><td>42.362613</td><td>-71.101295</td><td>42.359573</td></tr><tr><td>68</td><td>177</td><td>&quot;Central Square…</td><td>&quot;University Par…</td><td>-71.1031</td><td>42.36507</td><td>-71.100061</td><td>42.362648</td></tr><tr><td>&hellip;</td><td>&hellip;</td><td>&hellip;</td><td>&hellip;</td><td>&hellip;</td><td>&hellip;</td><td>&hellip;</td><td>&hellip;</td></tr><tr><td>128</td><td>128</td><td>&quot;E Cottage St a…</td><td>&quot;E Cottage St a…</td><td>-71.06198</td><td>42.320561</td><td>-71.06198</td><td>42.320561</td></tr><tr><td>55</td><td>32</td><td>&quot;Boylston St at…</td><td>&quot;Landmark Cente…</td><td>-71.086784</td><td>42.347406</td><td>-71.102353</td><td>42.343691</td></tr><tr><td>139</td><td>110</td><td>&quot;Dana Park&quot;</td><td>&quot;Harvard Univer…</td><td>-71.1081</td><td>42.36178</td><td>-71.114025</td><td>42.376369</td></tr><tr><td>566</td><td>413</td><td>&quot;Main Street/Al…</td><td>&quot;Kennedy-Longfe…</td><td>-71.091567</td><td>42.362902</td><td>-71.08579</td><td>42.369553</td></tr><tr><td>9</td><td>9</td><td>&quot;Commonwealth A…</td><td>&quot;Commonwealth A…</td><td>-71.119035</td><td>42.351692</td><td>-71.119035</td><td>42.351692</td></tr><tr><td>9</td><td>9</td><td>&quot;Commonwealth A…</td><td>&quot;Commonwealth A…</td><td>-71.119035</td><td>42.351692</td><td>-71.119035</td><td>42.351692</td></tr><tr><td>9</td><td>9</td><td>&quot;Commonwealth A…</td><td>&quot;Commonwealth A…</td><td>-71.119035</td><td>42.351692</td><td>-71.119035</td><td>42.351692</td></tr><tr><td>550</td><td>156</td><td>&quot;Somerville Hig…</td><td>&quot;Somerville Hos…</td><td>-71.09601</td><td>42.3864</td><td>-71.108566</td><td>42.390446</td></tr><tr><td>61</td><td>178</td><td>&quot;Boylston St at…</td><td>&quot;MIT Pacific St…</td><td>-71.082369</td><td>42.348804</td><td>-71.101295</td><td>42.359573</td></tr><tr><td>381</td><td>36</td><td>&quot;Inman Square a…</td><td>&quot;Copley Square …</td><td>-71.100265</td><td>42.374267</td><td>-71.077392</td><td>42.349928</td></tr><tr><td>4</td><td>437</td><td>&quot;Tremont St at …</td><td>&quot;Berkshire Stre…</td><td>-71.069616</td><td>42.345392</td><td>-71.089954</td><td>42.372077</td></tr><tr><td>515</td><td>471</td><td>&quot;955 Mass Ave&quot;</td><td>&quot;MIT Carleton S…</td><td>-71.109988</td><td>42.368952</td><td>-71.086698</td><td>42.360542</td></tr></tbody></table></div>"
      ],
      "text/plain": [
       "shape: (16_097_979, 8)\n",
       "┌────────────┬────────────┬────────────┬────────────┬────────────┬────────────┬────────────┬────────────┐\n",
       "│ start      ┆ end        ┆ start      ┆ end        ┆ start      ┆ start      ┆ end        ┆ end        │\n",
       "│ station id ┆ station id ┆ station    ┆ station    ┆ station    ┆ station    ┆ station    ┆ station    │\n",
       "│ ---        ┆ ---        ┆ name       ┆ name       ┆ longitude  ┆ latitude   ┆ longitude  ┆ latitude   │\n",
       "│ i64        ┆ i64        ┆ ---        ┆ ---        ┆ ---        ┆ ---        ┆ ---        ┆ ---        │\n",
       "│            ┆            ┆ str        ┆ str        ┆ f64        ┆ f64        ┆ f64        ┆ f64        │\n",
       "╞════════════╪════════════╪════════════╪════════════╪════════════╪════════════╪════════════╪════════════╡\n",
       "│ 36         ┆ 19         ┆ Boston     ┆ Buswell    ┆ -71.077303 ┆ 42.349673  ┆ -71.105301 ┆ 42.347241  │\n",
       "│            ┆            ┆ Public     ┆ St. at     ┆            ┆            ┆            ┆            │\n",
       "│            ┆            ┆ Library -  ┆ Park Dr.   ┆            ┆            ┆            ┆            │\n",
       "│            ┆            ┆ 700 Boyl…  ┆            ┆            ┆            ┆            ┆            │\n",
       "│ 36         ┆ 19         ┆ Boston     ┆ Buswell    ┆ -71.077303 ┆ 42.349673  ┆ -71.105301 ┆ 42.347241  │\n",
       "│            ┆            ┆ Public     ┆ St. at     ┆            ┆            ┆            ┆            │\n",
       "│            ┆            ┆ Library -  ┆ Park Dr.   ┆            ┆            ┆            ┆            │\n",
       "│            ┆            ┆ 700 Boyl…  ┆            ┆            ┆            ┆            ┆            │\n",
       "│ 36         ┆ 19         ┆ Boston     ┆ Buswell    ┆ -71.077303 ┆ 42.349673  ┆ -71.105301 ┆ 42.347241  │\n",
       "│            ┆            ┆ Public     ┆ St. at     ┆            ┆            ┆            ┆            │\n",
       "│            ┆            ┆ Library -  ┆ Park Dr.   ┆            ┆            ┆            ┆            │\n",
       "│            ┆            ┆ 700 Boyl…  ┆            ┆            ┆            ┆            ┆            │\n",
       "│ 36         ┆ 19         ┆ Boston     ┆ Buswell    ┆ -71.077303 ┆ 42.349673  ┆ -71.105301 ┆ 42.347241  │\n",
       "│            ┆            ┆ Public     ┆ St. at     ┆            ┆            ┆            ┆            │\n",
       "│            ┆            ┆ Library -  ┆ Park Dr.   ┆            ┆            ┆            ┆            │\n",
       "│            ┆            ┆ 700 Boyl…  ┆            ┆            ┆            ┆            ┆            │\n",
       "│ …          ┆ …          ┆ …          ┆ …          ┆ …          ┆ …          ┆ …          ┆ …          │\n",
       "│ 61         ┆ 178        ┆ Boylston   ┆ MIT        ┆ -71.082369 ┆ 42.348804  ┆ -71.101295 ┆ 42.359573  │\n",
       "│            ┆            ┆ St at      ┆ Pacific St ┆            ┆            ┆            ┆            │\n",
       "│            ┆            ┆ Fairfield  ┆ at         ┆            ┆            ┆            ┆            │\n",
       "│            ┆            ┆ St         ┆ Purrington ┆            ┆            ┆            ┆            │\n",
       "│            ┆            ┆            ┆ St         ┆            ┆            ┆            ┆            │\n",
       "│ 381        ┆ 36         ┆ Inman      ┆ Copley     ┆ -71.100265 ┆ 42.374267  ┆ -71.077392 ┆ 42.349928  │\n",
       "│            ┆            ┆ Square at  ┆ Square -   ┆            ┆            ┆            ┆            │\n",
       "│            ┆            ┆ Springfiel ┆ Dartmouth  ┆            ┆            ┆            ┆            │\n",
       "│            ┆            ┆ d St.      ┆ St at …    ┆            ┆            ┆            ┆            │\n",
       "│ 4          ┆ 437        ┆ Tremont St ┆ Berkshire  ┆ -71.069616 ┆ 42.345392  ┆ -71.089954 ┆ 42.372077  │\n",
       "│            ┆            ┆ at E       ┆ Street at  ┆            ┆            ┆            ┆            │\n",
       "│            ┆            ┆ Berkeley   ┆ Cambridge  ┆            ┆            ┆            ┆            │\n",
       "│            ┆            ┆ St         ┆ St…        ┆            ┆            ┆            ┆            │\n",
       "│ 515        ┆ 471        ┆ 955 Mass   ┆ MIT        ┆ -71.109988 ┆ 42.368952  ┆ -71.086698 ┆ 42.360542  │\n",
       "│            ┆            ┆ Ave        ┆ Carleton   ┆            ┆            ┆            ┆            │\n",
       "│            ┆            ┆            ┆ St at      ┆            ┆            ┆            ┆            │\n",
       "│            ┆            ┆            ┆ Amherst St ┆            ┆            ┆            ┆            │\n",
       "└────────────┴────────────┴────────────┴────────────┴────────────┴────────────┴────────────┴────────────┘"
      ]
     },
     "execution_count": 4,
     "metadata": {},
     "output_type": "execute_result"
    }
   ],
   "source": [
    "rides = pl.read_csv(\"data/20*.csv\", columns=[\"start station id\", \"end station id\", \"start station name\", \"end station name\", \"start station longitude\", \"start station latitude\", \"end station longitude\", \"end station latitude\"])\n",
    "rides "
   ]
  },
  {
   "cell_type": "code",
   "execution_count": 15,
   "id": "849ca458-d06b-4787-b37e-dcd35a4629ca",
   "metadata": {
    "tags": []
   },
   "outputs": [
    {
     "name": "stdout",
     "output_type": "stream",
     "text": [
      "932 rows, 522 unique ids, 684 unique names\n"
     ]
    }
   ],
   "source": [
    "columns = [\"id\", \"name\", \"longitude\", \"latitude\"]\n",
    "both_stations = []\n",
    "for prefix in [\"start\", \"end\"]:\n",
    "    prefix_columns = [f\"{prefix} station {c}\" for c in columns]\n",
    "    rides_prefix = rides.select(prefix_columns).rename(dict(zip(prefix_columns, columns))).unique()\n",
    "    both_stations.append(rides_prefix)\n",
    "\n",
    "# There are a few test stations with longitude+latitude are 0.\n",
    "stations = pl.concat(both_stations).unique().filter(pl.col(\"longitude\") != 0.0)\n",
    "print(f\"{stations.height} rows, {len(stations.get_column('id').unique())} unique ids, {len(stations.get_column('name').unique())} unique names\")"
   ]
  },
  {
   "cell_type": "code",
   "execution_count": 16,
   "id": "0946cbf2-649c-4790-bad1-f58483f09222",
   "metadata": {
    "tags": []
   },
   "outputs": [],
   "source": [
    "stations.write_csv(\"output/bluebike_stations_for_geolocating.csv\")"
   ]
  }
 ],
 "metadata": {
  "kernelspec": {
   "display_name": "Python 3 (ipykernel)",
   "language": "python",
   "name": "python3"
  },
  "language_info": {
   "codemirror_mode": {
    "name": "ipython",
    "version": 3
   },
   "file_extension": ".py",
   "mimetype": "text/x-python",
   "name": "python",
   "nbconvert_exporter": "python",
   "pygments_lexer": "ipython3",
   "version": "3.11.3"
  }
 },
 "nbformat": 4,
 "nbformat_minor": 5
}
