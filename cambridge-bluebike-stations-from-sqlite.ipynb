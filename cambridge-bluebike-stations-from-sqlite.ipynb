{
 "cells": [
  {
   "cell_type": "code",
   "execution_count": 22,
   "id": "71396dc4-6be4-469e-8520-8430e49fb6db",
   "metadata": {
    "tags": []
   },
   "outputs": [],
   "source": [
    "import polars as pl\n",
    "import os\n",
    "import sqlite3"
   ]
  },
  {
   "cell_type": "code",
   "execution_count": 24,
   "id": "970049ba-b07d-4a0e-9ba9-6b2f881ea128",
   "metadata": {
    "tags": []
   },
   "outputs": [
    {
     "name": "stdout",
     "output_type": "stream",
     "text": [
      "/home/itamarst/devel/bluebikes-importer/bluebike.sqlite\n"
     ]
    }
   ],
   "source": [
    "path = \"/home/itamarst/devel/bluebikes-importer/bluebike.sqlite\" # os.path.abspath(\"bluebikes.sqlite\")\n",
    "assert os.path.exists(path)\n",
    "print(path)\n",
    "conn = sqlite3.connect(path)\n",
    "db = pl.read_database(query=\"SELECT DISTINCT start_id AS id, start_station_name AS name, start_lat AS latitude, start_lng AS longitude FROM bluebikes\", connection=conn, schema_overrides={\"id\": pl.Utf8()})"
   ]
  },
  {
   "cell_type": "code",
   "execution_count": 28,
   "id": "1d911a88-2226-4677-9632-6d06a97a6d74",
   "metadata": {
    "tags": []
   },
   "outputs": [
    {
     "data": {
      "text/html": [
       "<div><style>\n",
       ".dataframe > thead > tr,\n",
       ".dataframe > tbody > tr {\n",
       "  text-align: right;\n",
       "  white-space: pre-wrap;\n",
       "}\n",
       "</style>\n",
       "<small>shape: (1_040, 4)</small><table border=\"1\" class=\"dataframe\"><thead><tr><th>id</th><th>name</th><th>latitude</th><th>longitude</th></tr><tr><td>str</td><td>str</td><td>f64</td><td>f64</td></tr></thead><tbody><tr><td>&quot;7&quot;</td><td>&quot;Fan Pier&quot;</td><td>42.353391</td><td>-71.044571</td></tr><tr><td>&quot;S32006&quot;</td><td>&quot;Davis Square&quot;</td><td>42.396969</td><td>-71.123024</td></tr><tr><td>&quot;T32001&quot;</td><td>&quot;Salem Ferry Landing&quot;</td><td>42.521893</td><td>-70.880691</td></tr><tr><td>&quot;A32028&quot;</td><td>&quot;Bennington St at Byron St&quot;</td><td>42.383533</td><td>-71.016191</td></tr><tr><td>&quot;M32036&quot;</td><td>&quot;Rindge Avenue - O&#x27;Neill Librar…</td><td>42.392857</td><td>-71.129058</td></tr><tr><td>&hellip;</td><td>&hellip;</td><td>&hellip;</td><td>&hellip;</td></tr><tr><td>&quot;280&quot;</td><td>&quot;Main St at Baldwin St&quot;</td><td>42.380857</td><td>-71.070629</td></tr><tr><td>&quot;505&quot;</td><td>&quot;Chelsea Square&quot;</td><td>42.390227</td><td>-71.03857</td></tr><tr><td>&quot;C32104&quot;</td><td>&quot;Cleary Sq&quot;</td><td>42.2556</td><td>-71.12444</td></tr><tr><td>&quot;302&quot;</td><td>&quot;Harrison Ave at Bennet St (for…</td><td>42.34931</td><td>-71.062105</td></tr><tr><td>&quot;C32101&quot;</td><td>&quot;American Legion Hwy at Hyde Pa…</td><td>42.272654</td><td>-71.119904</td></tr></tbody></table></div>"
      ],
      "text/plain": [
       "shape: (1_040, 4)\n",
       "┌────────┬─────────────────────────────────┬───────────┬────────────┐\n",
       "│ id     ┆ name                            ┆ latitude  ┆ longitude  │\n",
       "│ ---    ┆ ---                             ┆ ---       ┆ ---        │\n",
       "│ str    ┆ str                             ┆ f64       ┆ f64        │\n",
       "╞════════╪═════════════════════════════════╪═══════════╪════════════╡\n",
       "│ 7      ┆ Fan Pier                        ┆ 42.353391 ┆ -71.044571 │\n",
       "│ S32006 ┆ Davis Square                    ┆ 42.396969 ┆ -71.123024 │\n",
       "│ T32001 ┆ Salem Ferry Landing             ┆ 42.521893 ┆ -70.880691 │\n",
       "│ A32028 ┆ Bennington St at Byron St       ┆ 42.383533 ┆ -71.016191 │\n",
       "│ M32036 ┆ Rindge Avenue - O'Neill Librar… ┆ 42.392857 ┆ -71.129058 │\n",
       "│ …      ┆ …                               ┆ …         ┆ …          │\n",
       "│ 280    ┆ Main St at Baldwin St           ┆ 42.380857 ┆ -71.070629 │\n",
       "│ 505    ┆ Chelsea Square                  ┆ 42.390227 ┆ -71.03857  │\n",
       "│ C32104 ┆ Cleary Sq                       ┆ 42.2556   ┆ -71.12444  │\n",
       "│ 302    ┆ Harrison Ave at Bennet St (for… ┆ 42.34931  ┆ -71.062105 │\n",
       "│ C32101 ┆ American Legion Hwy at Hyde Pa… ┆ 42.272654 ┆ -71.119904 │\n",
       "└────────┴─────────────────────────────────┴───────────┴────────────┘"
      ]
     },
     "execution_count": 28,
     "metadata": {},
     "output_type": "execute_result"
    }
   ],
   "source": [
    "unique_stations = db.unique(pl.col(\"id\"))\n",
    "unique_stations"
   ]
  },
  {
   "cell_type": "code",
   "execution_count": 29,
   "id": "5c974c53-0f36-498b-91c6-4e6b5d82ae92",
   "metadata": {
    "tags": []
   },
   "outputs": [],
   "source": [
    "unique_stations.write_csv(\"output/bluebike_stations_for_geolocating.csv\")"
   ]
  }
 ],
 "metadata": {
  "kernelspec": {
   "display_name": "Python 3 (ipykernel)",
   "language": "python",
   "name": "python3"
  },
  "language_info": {
   "codemirror_mode": {
    "name": "ipython",
    "version": 3
   },
   "file_extension": ".py",
   "mimetype": "text/x-python",
   "name": "python",
   "nbconvert_exporter": "python",
   "pygments_lexer": "ipython3",
   "version": "3.11.10"
  }
 },
 "nbformat": 4,
 "nbformat_minor": 5
}
