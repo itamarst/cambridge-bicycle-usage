{
 "cells": [
  {
   "cell_type": "code",
   "execution_count": 22,
   "id": "71396dc4-6be4-469e-8520-8430e49fb6db",
   "metadata": {
    "tags": []
   },
   "outputs": [],
   "source": [
    "import polars as pl\n",
    "import os\n",
    "import sqlite3"
   ]
  },
  {
   "cell_type": "code",
   "execution_count": 23,
   "id": "970049ba-b07d-4a0e-9ba9-6b2f881ea128",
   "metadata": {
    "tags": []
   },
   "outputs": [
    {
     "name": "stdout",
     "output_type": "stream",
     "text": [
      "/home/itamarst/devel/bluebikes-importer/bluebike.sqlite\n"
     ]
    }
   ],
   "source": [
    "path = \"/home/itamarst/devel/bluebikes-importer/bluebike.sqlite\" # os.path.abspath(\"bluebikes.sqlite\")\n",
    "assert os.path.exists(path)\n",
    "print(path)\n",
    "conn = sqlite3.connect(path)\n",
    "db = pl.read_database(query=\"SELECT id, start_id, end_id, started_at FROM bluebikes\", connection=conn, schema_overrides={\"start_id\": pl.Utf8(), \"end_id\": pl.Utf8()})"
   ]
  },
  {
   "cell_type": "code",
   "execution_count": 24,
   "id": "1d911a88-2226-4677-9632-6d06a97a6d74",
   "metadata": {
    "tags": []
   },
   "outputs": [
    {
     "data": {
      "text/html": [
       "<div><style>\n",
       ".dataframe > thead > tr,\n",
       ".dataframe > tbody > tr {\n",
       "  text-align: right;\n",
       "  white-space: pre-wrap;\n",
       "}\n",
       "</style>\n",
       "<small>shape: (23_438_350, 4)</small><table border=\"1\" class=\"dataframe\"><thead><tr><th>id</th><th>start_id</th><th>end_id</th><th>started_at</th></tr><tr><td>i64</td><td>str</td><td>str</td><td>date</td></tr></thead><tbody><tr><td>1</td><td>&quot;345&quot;</td><td>&quot;235&quot;</td><td>2022-09-01</td></tr><tr><td>2</td><td>&quot;141&quot;</td><td>&quot;329&quot;</td><td>2022-09-01</td></tr><tr><td>3</td><td>&quot;68&quot;</td><td>&quot;381&quot;</td><td>2022-09-01</td></tr><tr><td>4</td><td>&quot;78&quot;</td><td>&quot;381&quot;</td><td>2022-09-01</td></tr><tr><td>5</td><td>&quot;22&quot;</td><td>&quot;113&quot;</td><td>2022-09-01</td></tr><tr><td>&hellip;</td><td>&hellip;</td><td>&hellip;</td><td>&hellip;</td></tr><tr><td>1901181312</td><td>&quot;41&quot;</td><td>&quot;369&quot;</td><td>2021-02-28</td></tr><tr><td>1901181313</td><td>&quot;110&quot;</td><td>&quot;115&quot;</td><td>2021-02-28</td></tr><tr><td>1901181314</td><td>&quot;47&quot;</td><td>&quot;44&quot;</td><td>2021-02-28</td></tr><tr><td>1901181315</td><td>&quot;46&quot;</td><td>&quot;9&quot;</td><td>2021-02-28</td></tr><tr><td>1901181316</td><td>&quot;98&quot;</td><td>&quot;20&quot;</td><td>2021-02-28</td></tr></tbody></table></div>"
      ],
      "text/plain": [
       "shape: (23_438_350, 4)\n",
       "┌────────────┬──────────┬────────┬────────────┐\n",
       "│ id         ┆ start_id ┆ end_id ┆ started_at │\n",
       "│ ---        ┆ ---      ┆ ---    ┆ ---        │\n",
       "│ i64        ┆ str      ┆ str    ┆ date       │\n",
       "╞════════════╪══════════╪════════╪════════════╡\n",
       "│ 1          ┆ 345      ┆ 235    ┆ 2022-09-01 │\n",
       "│ 2          ┆ 141      ┆ 329    ┆ 2022-09-01 │\n",
       "│ 3          ┆ 68       ┆ 381    ┆ 2022-09-01 │\n",
       "│ 4          ┆ 78       ┆ 381    ┆ 2022-09-01 │\n",
       "│ 5          ┆ 22       ┆ 113    ┆ 2022-09-01 │\n",
       "│ …          ┆ …        ┆ …      ┆ …          │\n",
       "│ 1901181312 ┆ 41       ┆ 369    ┆ 2021-02-28 │\n",
       "│ 1901181313 ┆ 110      ┆ 115    ┆ 2021-02-28 │\n",
       "│ 1901181314 ┆ 47       ┆ 44     ┆ 2021-02-28 │\n",
       "│ 1901181315 ┆ 46       ┆ 9      ┆ 2021-02-28 │\n",
       "│ 1901181316 ┆ 98       ┆ 20     ┆ 2021-02-28 │\n",
       "└────────────┴──────────┴────────┴────────────┘"
      ]
     },
     "execution_count": 24,
     "metadata": {},
     "output_type": "execute_result"
    }
   ],
   "source": [
    "db = db.with_columns(pl.col(\"started_at\").str.to_date(\"%Y-%m-%d %H:%M:%S%.f\"))\n",
    "db"
   ]
  },
  {
   "cell_type": "code",
   "execution_count": 25,
   "id": "706f5c41-5fd6-4217-86e3-c775fac86bab",
   "metadata": {
    "tags": []
   },
   "outputs": [
    {
     "data": {
      "text/html": [
       "<div><style>\n",
       ".dataframe > thead > tr,\n",
       ".dataframe > tbody > tr {\n",
       "  text-align: right;\n",
       "  white-space: pre-wrap;\n",
       "}\n",
       "</style>\n",
       "<small>shape: (176, 18)</small><table border=\"1\" class=\"dataframe\"><thead><tr><th>id</th><th>name</th><th>latitude</th><th>longitude</th><th>Latitude</th><th>Longitude</th><th>Accuracy Score</th><th>Accuracy Type</th><th>Number</th><th>Street</th><th>Unit Type</th><th>Unit Number</th><th>City</th><th>State</th><th>County</th><th>Zip</th><th>Country</th><th>Source</th></tr><tr><td>str</td><td>str</td><td>f64</td><td>f64</td><td>f64</td><td>f64</td><td>f64</td><td>str</td><td>str</td><td>str</td><td>str</td><td>str</td><td>str</td><td>str</td><td>str</td><td>str</td><td>str</td><td>str</td></tr></thead><tbody><tr><td>&quot;M32036&quot;</td><td>&quot;Rindge Avenue - O&#x27;Neill Librar…</td><td>42.392857</td><td>-71.129058</td><td>42.392914</td><td>-71.129285</td><td>1.0</td><td>&quot;rooftop&quot;</td><td>&quot;1&quot;</td><td>&quot;Yerxa Rd&quot;</td><td>null</td><td>null</td><td>&quot;Cambridge&quot;</td><td>&quot;MA&quot;</td><td>&quot;Middlesex County&quot;</td><td>&quot;02140&quot;</td><td>&quot;US&quot;</td><td>&quot;Office of Geographic Informati…</td></tr><tr><td>&quot;177&quot;</td><td>&quot;University Park&quot;</td><td>42.362648</td><td>-71.100061</td><td>42.362691</td><td>-71.100102</td><td>1.0</td><td>&quot;rooftop&quot;</td><td>&quot;13&quot;</td><td>&quot;Sidney St&quot;</td><td>null</td><td>null</td><td>&quot;Cambridge&quot;</td><td>&quot;MA&quot;</td><td>&quot;Middlesex County&quot;</td><td>&quot;02139&quot;</td><td>&quot;US&quot;</td><td>&quot;Office of Geographic Informati…</td></tr><tr><td>&quot;M32065&quot;</td><td>&quot;Kennedy-Longfellow School 158 …</td><td>42.369553</td><td>-71.08579</td><td>42.369728</td><td>-71.085637</td><td>1.0</td><td>&quot;rooftop&quot;</td><td>&quot;153&quot;</td><td>&quot;Spring St&quot;</td><td>null</td><td>null</td><td>&quot;Cambridge&quot;</td><td>&quot;MA&quot;</td><td>&quot;Middlesex County&quot;</td><td>&quot;02141&quot;</td><td>&quot;US&quot;</td><td>&quot;City of Cambridge&quot;</td></tr><tr><td>&quot;M32077&quot;</td><td>&quot;Cambridge Crossing at North Fi…</td><td>42.371141</td><td>-71.076198</td><td>42.37125</td><td>-71.076335</td><td>1.0</td><td>&quot;rooftop&quot;</td><td>&quot;125&quot;</td><td>&quot;Monsignor O&#x27;brien Hwy&quot;</td><td>null</td><td>null</td><td>&quot;Cambridge&quot;</td><td>&quot;MA&quot;</td><td>&quot;Middlesex County&quot;</td><td>&quot;02141&quot;</td><td>&quot;US&quot;</td><td>&quot;Office of Geographic Informati…</td></tr><tr><td>&quot;182&quot;</td><td>&quot;Museum of Science&quot;</td><td>42.36769</td><td>-71.071163</td><td>42.367704</td><td>-71.071183</td><td>1.0</td><td>&quot;rooftop&quot;</td><td>&quot;1&quot;</td><td>&quot;Science Park&quot;</td><td>null</td><td>null</td><td>&quot;Cambridge&quot;</td><td>&quot;MA&quot;</td><td>&quot;Middlesex County&quot;</td><td>&quot;02141&quot;</td><td>&quot;US&quot;</td><td>&quot;City of Cambridge&quot;</td></tr><tr><td>&hellip;</td><td>&hellip;</td><td>&hellip;</td><td>&hellip;</td><td>&hellip;</td><td>&hellip;</td><td>&hellip;</td><td>&hellip;</td><td>&hellip;</td><td>&hellip;</td><td>&hellip;</td><td>&hellip;</td><td>&hellip;</td><td>&hellip;</td><td>&hellip;</td><td>&hellip;</td><td>&hellip;</td><td>&hellip;</td></tr><tr><td>&quot;M32006&quot;</td><td>&quot;MIT at Mass Ave / Amherst St&quot;</td><td>42.3581</td><td>-71.093198</td><td>42.358217</td><td>-71.093367</td><td>1.0</td><td>&quot;rooftop&quot;</td><td>&quot;40&quot;</td><td>&quot;Massachusetts Ave&quot;</td><td>null</td><td>null</td><td>&quot;Cambridge&quot;</td><td>&quot;MA&quot;</td><td>&quot;Middlesex County&quot;</td><td>&quot;02139&quot;</td><td>&quot;US&quot;</td><td>&quot;City of Cambridge&quot;</td></tr><tr><td>&quot;96&quot;</td><td>&quot;Cambridge Main Library at Broa…</td><td>42.373379</td><td>-71.111075</td><td>42.373249</td><td>-71.11132</td><td>1.0</td><td>&quot;rooftop&quot;</td><td>&quot;448&quot;</td><td>&quot;Broadway&quot;</td><td>null</td><td>null</td><td>&quot;Cambridge&quot;</td><td>&quot;MA&quot;</td><td>&quot;Middlesex County&quot;</td><td>&quot;02138&quot;</td><td>&quot;US&quot;</td><td>&quot;City of Cambridge&quot;</td></tr><tr><td>&quot;M32090&quot;</td><td>&quot;O&#x27;Brien Highway at First Stree…</td><td>42.370982</td><td>-71.076638</td><td>42.371029</td><td>-71.07656</td><td>1.0</td><td>&quot;nearest_street&quot;</td><td>null</td><td>&quot;MA-28&quot;</td><td>null</td><td>null</td><td>&quot;Cambridge&quot;</td><td>&quot;MA&quot;</td><td>&quot;Middlesex County&quot;</td><td>&quot;02141&quot;</td><td>&quot;US&quot;</td><td>&quot;TIGER/Line® dataset from the U…</td></tr><tr><td>&quot;M32088&quot;</td><td>&quot;55 Wheeler Street&quot;</td><td>42.390821</td><td>-71.143946</td><td>42.390677</td><td>-71.143682</td><td>1.0</td><td>&quot;rooftop&quot;</td><td>&quot;50&quot;</td><td>&quot;Wheeler St&quot;</td><td>null</td><td>null</td><td>&quot;Cambridge&quot;</td><td>&quot;MA&quot;</td><td>&quot;Middlesex County&quot;</td><td>&quot;02138&quot;</td><td>&quot;US&quot;</td><td>&quot;Office of Geographic Informati…</td></tr><tr><td>&quot;97&quot;</td><td>&quot;Harvard University River House…</td><td>42.369239</td><td>-71.11687</td><td>42.369397</td><td>-71.116839</td><td>1.0</td><td>&quot;rooftop&quot;</td><td>&quot;28&quot;</td><td>&quot;Dewolfe St&quot;</td><td>null</td><td>null</td><td>&quot;Cambridge&quot;</td><td>&quot;MA&quot;</td><td>&quot;Middlesex County&quot;</td><td>&quot;02138&quot;</td><td>&quot;US&quot;</td><td>&quot;Office of Geographic Informati…</td></tr></tbody></table></div>"
      ],
      "text/plain": [
       "shape: (176, 18)\n",
       "┌────────┬──────────────┬───────────┬────────────┬───┬─────────────┬───────┬─────────┬─────────────┐\n",
       "│ id     ┆ name         ┆ latitude  ┆ longitude  ┆ … ┆ County      ┆ Zip   ┆ Country ┆ Source      │\n",
       "│ ---    ┆ ---          ┆ ---       ┆ ---        ┆   ┆ ---         ┆ ---   ┆ ---     ┆ ---         │\n",
       "│ str    ┆ str          ┆ f64       ┆ f64        ┆   ┆ str         ┆ str   ┆ str     ┆ str         │\n",
       "╞════════╪══════════════╪═══════════╪════════════╪═══╪═════════════╪═══════╪═════════╪═════════════╡\n",
       "│ M32036 ┆ Rindge       ┆ 42.392857 ┆ -71.129058 ┆ … ┆ Middlesex   ┆ 02140 ┆ US      ┆ Office of   │\n",
       "│        ┆ Avenue -     ┆           ┆            ┆   ┆ County      ┆       ┆         ┆ Geographic  │\n",
       "│        ┆ O'Neill      ┆           ┆            ┆   ┆             ┆       ┆         ┆ Informati…  │\n",
       "│        ┆ Librar…      ┆           ┆            ┆   ┆             ┆       ┆         ┆             │\n",
       "│ 177    ┆ University   ┆ 42.362648 ┆ -71.100061 ┆ … ┆ Middlesex   ┆ 02139 ┆ US      ┆ Office of   │\n",
       "│        ┆ Park         ┆           ┆            ┆   ┆ County      ┆       ┆         ┆ Geographic  │\n",
       "│        ┆              ┆           ┆            ┆   ┆             ┆       ┆         ┆ Informati…  │\n",
       "│ M32065 ┆ Kennedy-Long ┆ 42.369553 ┆ -71.08579  ┆ … ┆ Middlesex   ┆ 02141 ┆ US      ┆ City of     │\n",
       "│        ┆ fellow       ┆           ┆            ┆   ┆ County      ┆       ┆         ┆ Cambridge   │\n",
       "│        ┆ School 158 … ┆           ┆            ┆   ┆             ┆       ┆         ┆             │\n",
       "│ M32077 ┆ Cambridge    ┆ 42.371141 ┆ -71.076198 ┆ … ┆ Middlesex   ┆ 02141 ┆ US      ┆ Office of   │\n",
       "│        ┆ Crossing at  ┆           ┆            ┆   ┆ County      ┆       ┆         ┆ Geographic  │\n",
       "│        ┆ North Fi…    ┆           ┆            ┆   ┆             ┆       ┆         ┆ Informati…  │\n",
       "│ 182    ┆ Museum of    ┆ 42.36769  ┆ -71.071163 ┆ … ┆ Middlesex   ┆ 02141 ┆ US      ┆ City of     │\n",
       "│        ┆ Science      ┆           ┆            ┆   ┆ County      ┆       ┆         ┆ Cambridge   │\n",
       "│ …      ┆ …            ┆ …         ┆ …          ┆ … ┆ …           ┆ …     ┆ …       ┆ …           │\n",
       "│ M32006 ┆ MIT at Mass  ┆ 42.3581   ┆ -71.093198 ┆ … ┆ Middlesex   ┆ 02139 ┆ US      ┆ City of     │\n",
       "│        ┆ Ave /        ┆           ┆            ┆   ┆ County      ┆       ┆         ┆ Cambridge   │\n",
       "│        ┆ Amherst St   ┆           ┆            ┆   ┆             ┆       ┆         ┆             │\n",
       "│ 96     ┆ Cambridge    ┆ 42.373379 ┆ -71.111075 ┆ … ┆ Middlesex   ┆ 02138 ┆ US      ┆ City of     │\n",
       "│        ┆ Main Library ┆           ┆            ┆   ┆ County      ┆       ┆         ┆ Cambridge   │\n",
       "│        ┆ at Broa…     ┆           ┆            ┆   ┆             ┆       ┆         ┆             │\n",
       "│ M32090 ┆ O'Brien      ┆ 42.370982 ┆ -71.076638 ┆ … ┆ Middlesex   ┆ 02141 ┆ US      ┆ TIGER/Line® │\n",
       "│        ┆ Highway at   ┆           ┆            ┆   ┆ County      ┆       ┆         ┆ dataset     │\n",
       "│        ┆ First Stree… ┆           ┆            ┆   ┆             ┆       ┆         ┆ from the U… │\n",
       "│ M32088 ┆ 55 Wheeler   ┆ 42.390821 ┆ -71.143946 ┆ … ┆ Middlesex   ┆ 02138 ┆ US      ┆ Office of   │\n",
       "│        ┆ Street       ┆           ┆            ┆   ┆ County      ┆       ┆         ┆ Geographic  │\n",
       "│        ┆              ┆           ┆            ┆   ┆             ┆       ┆         ┆ Informati…  │\n",
       "│ 97     ┆ Harvard      ┆ 42.369239 ┆ -71.11687  ┆ … ┆ Middlesex   ┆ 02138 ┆ US      ┆ Office of   │\n",
       "│        ┆ University   ┆           ┆            ┆   ┆ County      ┆       ┆         ┆ Geographic  │\n",
       "│        ┆ River House… ┆           ┆            ┆   ┆             ┆       ┆         ┆ Informati…  │\n",
       "└────────┴──────────────┴───────────┴────────────┴───┴─────────────┴───────┴─────────┴─────────────┘"
      ]
     },
     "execution_count": 25,
     "metadata": {},
     "output_type": "execute_result"
    }
   ],
   "source": [
    "stations = pl.read_csv(\"data/bluebike_stations_geolocated.csv\", infer_schema_length=10000)\n",
    "cambridge_station_ids = stations.filter(pl.col(\"City\") == \"Cambridge\")\n",
    "cambridge_station_ids"
   ]
  },
  {
   "cell_type": "code",
   "execution_count": 26,
   "id": "5c974c53-0f36-498b-91c6-4e6b5d82ae92",
   "metadata": {
    "tags": []
   },
   "outputs": [
    {
     "data": {
      "text/html": [
       "<div><style>\n",
       ".dataframe > thead > tr,\n",
       ".dataframe > tbody > tr {\n",
       "  text-align: right;\n",
       "  white-space: pre-wrap;\n",
       "}\n",
       "</style>\n",
       "<small>shape: (10_848_391, 4)</small><table border=\"1\" class=\"dataframe\"><thead><tr><th>id</th><th>start_id</th><th>end_id</th><th>started_at</th></tr><tr><td>i64</td><td>str</td><td>str</td><td>date</td></tr></thead><tbody><tr><td>2</td><td>&quot;141&quot;</td><td>&quot;329&quot;</td><td>2022-09-01</td></tr><tr><td>3</td><td>&quot;68&quot;</td><td>&quot;381&quot;</td><td>2022-09-01</td></tr><tr><td>4</td><td>&quot;78&quot;</td><td>&quot;381&quot;</td><td>2022-09-01</td></tr><tr><td>6</td><td>&quot;68&quot;</td><td>&quot;471&quot;</td><td>2022-09-01</td></tr><tr><td>7</td><td>&quot;179&quot;</td><td>&quot;189&quot;</td><td>2022-09-01</td></tr><tr><td>&hellip;</td><td>&hellip;</td><td>&hellip;</td><td>&hellip;</td></tr><tr><td>1901181307</td><td>&quot;318&quot;</td><td>&quot;178&quot;</td><td>2021-02-28</td></tr><tr><td>1901181309</td><td>&quot;80&quot;</td><td>&quot;11&quot;</td><td>2021-02-28</td></tr><tr><td>1901181310</td><td>&quot;228&quot;</td><td>&quot;6&quot;</td><td>2021-02-28</td></tr><tr><td>1901181311</td><td>&quot;225&quot;</td><td>&quot;60&quot;</td><td>2021-02-28</td></tr><tr><td>1901181313</td><td>&quot;110&quot;</td><td>&quot;115&quot;</td><td>2021-02-28</td></tr></tbody></table></div>"
      ],
      "text/plain": [
       "shape: (10_848_391, 4)\n",
       "┌────────────┬──────────┬────────┬────────────┐\n",
       "│ id         ┆ start_id ┆ end_id ┆ started_at │\n",
       "│ ---        ┆ ---      ┆ ---    ┆ ---        │\n",
       "│ i64        ┆ str      ┆ str    ┆ date       │\n",
       "╞════════════╪══════════╪════════╪════════════╡\n",
       "│ 2          ┆ 141      ┆ 329    ┆ 2022-09-01 │\n",
       "│ 3          ┆ 68       ┆ 381    ┆ 2022-09-01 │\n",
       "│ 4          ┆ 78       ┆ 381    ┆ 2022-09-01 │\n",
       "│ 6          ┆ 68       ┆ 471    ┆ 2022-09-01 │\n",
       "│ 7          ┆ 179      ┆ 189    ┆ 2022-09-01 │\n",
       "│ …          ┆ …        ┆ …      ┆ …          │\n",
       "│ 1901181307 ┆ 318      ┆ 178    ┆ 2021-02-28 │\n",
       "│ 1901181309 ┆ 80       ┆ 11     ┆ 2021-02-28 │\n",
       "│ 1901181310 ┆ 228      ┆ 6      ┆ 2021-02-28 │\n",
       "│ 1901181311 ┆ 225      ┆ 60     ┆ 2021-02-28 │\n",
       "│ 1901181313 ┆ 110      ┆ 115    ┆ 2021-02-28 │\n",
       "└────────────┴──────────┴────────┴────────────┘"
      ]
     },
     "execution_count": 26,
     "metadata": {},
     "output_type": "execute_result"
    }
   ],
   "source": [
    "cambridge_ids = cambridge_station_ids.get_column(\"id\") \n",
    "cambridge_rides = db.filter(pl.col(\"start_id\").is_in(cambridge_ids) | (pl.col(\"end_id\").is_in(cambridge_ids)))\n",
    "cambridge_rides"
   ]
  },
  {
   "cell_type": "code",
   "execution_count": 17,
   "id": "8bc3e8b3-4c31-4012-9fe2-60281c3ccbd3",
   "metadata": {
    "tags": []
   },
   "outputs": [
    {
     "name": "stdout",
     "output_type": "stream",
     "text": [
      "2019 1182680\n",
      "2018 873172\n"
     ]
    }
   ],
   "source": [
    "print(2019, len(cambridge_rides.filter(pl.col(\"started_at\").dt.year() == 2019).rows()))\n",
    "print(2018, len(cambridge_rides.filter(pl.col(\"started_at\").dt.year() == 2018).rows()))"
   ]
  },
  {
   "cell_type": "code",
   "execution_count": 28,
   "id": "96cd7661-bc10-475b-abf3-06df356c2496",
   "metadata": {
    "tags": []
   },
   "outputs": [
    {
     "name": "stdout",
     "output_type": "stream",
     "text": [
      "Last 12 months 2037820\n"
     ]
    }
   ],
   "source": [
    "from datetime import date\n",
    "\n",
    "#print(2018, len(cambridge_rides.filter((pl.col(\"started_at\").dt.date() >= date(2018, 9, 1)) & (pl.col(\"started_at\").dt.date() <= date(2019, 8, 31)) ).rows()))\n",
    "#print(2022, len(cambridge_rides.filter((pl.col(\"started_at\").dt.date() >= date(2022, 9, 1)) & (pl.col(\"started_at\").dt.date() <= date(2023, 8, 31)) ).rows()))\n",
    "print(\"Last 12 months\", len(cambridge_rides.filter((pl.col(\"started_at\").dt.date() >= date(2023, 9, 1)) & (pl.col(\"started_at\").dt.date() <= date(2024, 8, 31)) ).rows()))"
   ]
  },
  {
   "cell_type": "code",
   "execution_count": 21,
   "id": "490478f4-6208-46da-b12a-67aaa4822d3c",
   "metadata": {
    "tags": []
   },
   "outputs": [
    {
     "name": "stdout",
     "output_type": "stream",
     "text": [
      "Jan-Aug 2023 1148563\n",
      "Jan-Aug 2024 1384109\n"
     ]
    }
   ],
   "source": [
    "print(\"Jan-Aug 2023\", len(cambridge_rides.filter((pl.col(\"started_at\").dt.date() >= date(2023, 1, 1)) & (pl.col(\"started_at\").dt.date() <= date(2023, 8, 31)) ).rows()))\n",
    "print(\"Jan-Aug 2024\", len(cambridge_rides.filter((pl.col(\"started_at\").dt.date() >= date(2024, 1, 1)) & (pl.col(\"started_at\").dt.date() <= date(2024, 8, 31)) ).rows()))"
   ]
  }
 ],
 "metadata": {
  "kernelspec": {
   "display_name": "Python 3 (ipykernel)",
   "language": "python",
   "name": "python3"
  },
  "language_info": {
   "codemirror_mode": {
    "name": "ipython",
    "version": 3
   },
   "file_extension": ".py",
   "mimetype": "text/x-python",
   "name": "python",
   "nbconvert_exporter": "python",
   "pygments_lexer": "ipython3",
   "version": "3.11.10"
  }
 },
 "nbformat": 4,
 "nbformat_minor": 5
}
